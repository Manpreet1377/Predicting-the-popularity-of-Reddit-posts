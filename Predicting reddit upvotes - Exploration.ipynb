{
 "cells": [
  {
   "cell_type": "markdown",
   "metadata": {},
   "source": [
    "# PREDICTING REDDIT UPVOTES - Data exploration"
   ]
  },
  {
   "cell_type": "markdown",
   "metadata": {},
   "source": [
    "## Data dictionary:\n",
    "- **Title:** title of the reddit post\n",
    "- **Upvote_ratio:** the percentage of upvotes from all votes on thread comment is on\n",
    "- **Score:** number of upvotes on the comment\n",
    "- **Gilded:** the number of gilded tags (premium likes) on the comment\n",
    "- **Over_18:** Whether or not the thread has been marked as NSFW\n",
    "- **Number_of_comments:** Number of comments"
   ]
  },
  {
   "cell_type": "code",
   "execution_count": 1,
   "metadata": {},
   "outputs": [],
   "source": [
    "import pandas as pd\n",
    "import numpy as np\n",
    "import matplotlib.pyplot as plt\n",
    "import warnings\n",
    "import seaborn as sns\n",
    "%matplotlib inline\n",
    "warnings.filterwarnings('ignore')"
   ]
  },
  {
   "cell_type": "markdown",
   "metadata": {},
   "source": [
    "## Reading the data"
   ]
  },
  {
   "cell_type": "code",
   "execution_count": 2,
   "metadata": {
    "scrolled": true
   },
   "outputs": [
    {
     "data": {
      "text/html": [
       "<div>\n",
       "<style scoped>\n",
       "    .dataframe tbody tr th:only-of-type {\n",
       "        vertical-align: middle;\n",
       "    }\n",
       "\n",
       "    .dataframe tbody tr th {\n",
       "        vertical-align: top;\n",
       "    }\n",
       "\n",
       "    .dataframe thead th {\n",
       "        text-align: right;\n",
       "    }\n",
       "</style>\n",
       "<table border=\"1\" class=\"dataframe\">\n",
       "  <thead>\n",
       "    <tr style=\"text-align: right;\">\n",
       "      <th></th>\n",
       "      <th>Unnamed: 0</th>\n",
       "      <th>Title</th>\n",
       "      <th>Upvote_ratio</th>\n",
       "      <th>Score</th>\n",
       "      <th>Gilded</th>\n",
       "      <th>Over_18</th>\n",
       "      <th>Number_of_Comments</th>\n",
       "    </tr>\n",
       "  </thead>\n",
       "  <tbody>\n",
       "    <tr>\n",
       "      <td>0</td>\n",
       "      <td>0</td>\n",
       "      <td>House impeaches Trump for second time over Cap...</td>\n",
       "      <td>0.72</td>\n",
       "      <td>39464</td>\n",
       "      <td>2</td>\n",
       "      <td>False</td>\n",
       "      <td>8801</td>\n",
       "    </tr>\n",
       "    <tr>\n",
       "      <td>1</td>\n",
       "      <td>1</td>\n",
       "      <td>I'm a 16 yr old blacksmith and I forged this w...</td>\n",
       "      <td>0.90</td>\n",
       "      <td>29423</td>\n",
       "      <td>0</td>\n",
       "      <td>False</td>\n",
       "      <td>443</td>\n",
       "    </tr>\n",
       "    <tr>\n",
       "      <td>2</td>\n",
       "      <td>2</td>\n",
       "      <td>Do some research before spouting nonsense</td>\n",
       "      <td>0.90</td>\n",
       "      <td>50420</td>\n",
       "      <td>0</td>\n",
       "      <td>False</td>\n",
       "      <td>1008</td>\n",
       "    </tr>\n",
       "    <tr>\n",
       "      <td>3</td>\n",
       "      <td>3</td>\n",
       "      <td>Moving boxes arrive at the White House</td>\n",
       "      <td>0.81</td>\n",
       "      <td>149858</td>\n",
       "      <td>6</td>\n",
       "      <td>False</td>\n",
       "      <td>4392</td>\n",
       "    </tr>\n",
       "    <tr>\n",
       "      <td>4</td>\n",
       "      <td>4</td>\n",
       "      <td>“No One Took Us Seriously”: Black Cops Warned ...</td>\n",
       "      <td>0.98</td>\n",
       "      <td>7768</td>\n",
       "      <td>0</td>\n",
       "      <td>False</td>\n",
       "      <td>157</td>\n",
       "    </tr>\n",
       "  </tbody>\n",
       "</table>\n",
       "</div>"
      ],
      "text/plain": [
       "   Unnamed: 0                                              Title  \\\n",
       "0           0  House impeaches Trump for second time over Cap...   \n",
       "1           1  I'm a 16 yr old blacksmith and I forged this w...   \n",
       "2           2          Do some research before spouting nonsense   \n",
       "3           3             Moving boxes arrive at the White House   \n",
       "4           4  “No One Took Us Seriously”: Black Cops Warned ...   \n",
       "\n",
       "   Upvote_ratio   Score  Gilded  Over_18  Number_of_Comments  \n",
       "0          0.72   39464       2    False                8801  \n",
       "1          0.90   29423       0    False                 443  \n",
       "2          0.90   50420       0    False                1008  \n",
       "3          0.81  149858       6    False                4392  \n",
       "4          0.98    7768       0    False                 157  "
      ]
     },
     "execution_count": 2,
     "metadata": {},
     "output_type": "execute_result"
    }
   ],
   "source": [
    "reddit = pd.read_csv('Reddit.csv')\n",
    "reddit.head()"
   ]
  },
  {
   "cell_type": "code",
   "execution_count": 3,
   "metadata": {},
   "outputs": [
    {
     "data": {
      "text/plain": [
       "7188"
      ]
     },
     "execution_count": 3,
     "metadata": {},
     "output_type": "execute_result"
    }
   ],
   "source": [
    "reddit.Title.nunique()"
   ]
  },
  {
   "cell_type": "code",
   "execution_count": 4,
   "metadata": {},
   "outputs": [
    {
     "data": {
      "text/plain": [
       "(7471, 7)"
      ]
     },
     "execution_count": 4,
     "metadata": {},
     "output_type": "execute_result"
    }
   ],
   "source": [
    "reddit.shape"
   ]
  },
  {
   "cell_type": "code",
   "execution_count": 5,
   "metadata": {},
   "outputs": [],
   "source": [
    "#Dropping the unnamed column\n",
    "reddit.drop('Unnamed: 0', axis = 1, inplace = True)"
   ]
  },
  {
   "cell_type": "code",
   "execution_count": 6,
   "metadata": {
    "scrolled": true
   },
   "outputs": [
    {
     "data": {
      "text/html": [
       "<div>\n",
       "<style scoped>\n",
       "    .dataframe tbody tr th:only-of-type {\n",
       "        vertical-align: middle;\n",
       "    }\n",
       "\n",
       "    .dataframe tbody tr th {\n",
       "        vertical-align: top;\n",
       "    }\n",
       "\n",
       "    .dataframe thead th {\n",
       "        text-align: right;\n",
       "    }\n",
       "</style>\n",
       "<table border=\"1\" class=\"dataframe\">\n",
       "  <thead>\n",
       "    <tr style=\"text-align: right;\">\n",
       "      <th></th>\n",
       "      <th>Title</th>\n",
       "      <th>Upvote_ratio</th>\n",
       "      <th>Score</th>\n",
       "      <th>Gilded</th>\n",
       "      <th>Over_18</th>\n",
       "      <th>Number_of_Comments</th>\n",
       "    </tr>\n",
       "  </thead>\n",
       "  <tbody>\n",
       "    <tr>\n",
       "      <td>508</td>\n",
       "      <td>My discus family.</td>\n",
       "      <td>0.99</td>\n",
       "      <td>1760</td>\n",
       "      <td>0</td>\n",
       "      <td>False</td>\n",
       "      <td>66</td>\n",
       "    </tr>\n",
       "    <tr>\n",
       "      <td>527</td>\n",
       "      <td>Roses are red, butts are for eating</td>\n",
       "      <td>0.98</td>\n",
       "      <td>11304</td>\n",
       "      <td>0</td>\n",
       "      <td>False</td>\n",
       "      <td>43</td>\n",
       "    </tr>\n",
       "  </tbody>\n",
       "</table>\n",
       "</div>"
      ],
      "text/plain": [
       "                                   Title  Upvote_ratio  Score  Gilded  \\\n",
       "508                    My discus family.          0.99   1760       0   \n",
       "527  Roses are red, butts are for eating          0.98  11304       0   \n",
       "\n",
       "     Over_18  Number_of_Comments  \n",
       "508    False                  66  \n",
       "527    False                  43  "
      ]
     },
     "execution_count": 6,
     "metadata": {},
     "output_type": "execute_result"
    }
   ],
   "source": [
    "#Checking the duplicated rows\n",
    "\n",
    "reddit[reddit.duplicated()]"
   ]
  },
  {
   "cell_type": "markdown",
   "metadata": {},
   "source": [
    "## There are duplicated rows in the dataset"
   ]
  },
  {
   "cell_type": "code",
   "execution_count": 7,
   "metadata": {},
   "outputs": [],
   "source": [
    "reddit.drop_duplicates(keep = 'first', inplace = True)"
   ]
  },
  {
   "cell_type": "markdown",
   "metadata": {},
   "source": [
    "## We deleted the duplicate columns"
   ]
  },
  {
   "cell_type": "code",
   "execution_count": 8,
   "metadata": {},
   "outputs": [
    {
     "name": "stdout",
     "output_type": "stream",
     "text": [
      "The columns in the dataset are: Index(['Title', 'Upvote_ratio', 'Score', 'Gilded', 'Over_18',\n",
      "       'Number_of_Comments'],\n",
      "      dtype='object')\n"
     ]
    }
   ],
   "source": [
    "#Columns in the dataset\n",
    "\n",
    "columns = reddit.columns\n",
    "print('The columns in the dataset are:', columns)"
   ]
  },
  {
   "cell_type": "markdown",
   "metadata": {},
   "source": [
    "## Basic data study"
   ]
  },
  {
   "cell_type": "code",
   "execution_count": 9,
   "metadata": {
    "scrolled": true
   },
   "outputs": [
    {
     "name": "stdout",
     "output_type": "stream",
     "text": [
      "<class 'pandas.core.frame.DataFrame'>\n",
      "Int64Index: 7469 entries, 0 to 7470\n",
      "Data columns (total 6 columns):\n",
      "Title                 7469 non-null object\n",
      "Upvote_ratio          7469 non-null float64\n",
      "Score                 7469 non-null int64\n",
      "Gilded                7469 non-null int64\n",
      "Over_18               7469 non-null bool\n",
      "Number_of_Comments    7469 non-null int64\n",
      "dtypes: bool(1), float64(1), int64(3), object(1)\n",
      "memory usage: 357.4+ KB\n"
     ]
    }
   ],
   "source": [
    "reddit.info()"
   ]
  },
  {
   "cell_type": "markdown",
   "metadata": {},
   "source": [
    "**There are no null values**\n",
    "\n",
    "**Only one object column(title), over_18(boolean), others are numeric**"
   ]
  },
  {
   "cell_type": "code",
   "execution_count": 10,
   "metadata": {},
   "outputs": [
    {
     "data": {
      "text/html": [
       "<div>\n",
       "<style scoped>\n",
       "    .dataframe tbody tr th:only-of-type {\n",
       "        vertical-align: middle;\n",
       "    }\n",
       "\n",
       "    .dataframe tbody tr th {\n",
       "        vertical-align: top;\n",
       "    }\n",
       "\n",
       "    .dataframe thead th {\n",
       "        text-align: right;\n",
       "    }\n",
       "</style>\n",
       "<table border=\"1\" class=\"dataframe\">\n",
       "  <thead>\n",
       "    <tr style=\"text-align: right;\">\n",
       "      <th></th>\n",
       "      <th>Upvote_ratio</th>\n",
       "      <th>Score</th>\n",
       "      <th>Gilded</th>\n",
       "      <th>Number_of_Comments</th>\n",
       "    </tr>\n",
       "  </thead>\n",
       "  <tbody>\n",
       "    <tr>\n",
       "      <td>count</td>\n",
       "      <td>7469.000000</td>\n",
       "      <td>7469.00000</td>\n",
       "      <td>7469.000000</td>\n",
       "      <td>7469.000000</td>\n",
       "    </tr>\n",
       "    <tr>\n",
       "      <td>mean</td>\n",
       "      <td>0.970513</td>\n",
       "      <td>3960.26215</td>\n",
       "      <td>0.054492</td>\n",
       "      <td>100.406480</td>\n",
       "    </tr>\n",
       "    <tr>\n",
       "      <td>std</td>\n",
       "      <td>0.032547</td>\n",
       "      <td>10658.43448</td>\n",
       "      <td>0.382536</td>\n",
       "      <td>452.474783</td>\n",
       "    </tr>\n",
       "    <tr>\n",
       "      <td>min</td>\n",
       "      <td>0.630000</td>\n",
       "      <td>53.00000</td>\n",
       "      <td>0.000000</td>\n",
       "      <td>0.000000</td>\n",
       "    </tr>\n",
       "    <tr>\n",
       "      <td>25%</td>\n",
       "      <td>0.960000</td>\n",
       "      <td>283.00000</td>\n",
       "      <td>0.000000</td>\n",
       "      <td>10.000000</td>\n",
       "    </tr>\n",
       "    <tr>\n",
       "      <td>50%</td>\n",
       "      <td>0.980000</td>\n",
       "      <td>795.00000</td>\n",
       "      <td>0.000000</td>\n",
       "      <td>26.000000</td>\n",
       "    </tr>\n",
       "    <tr>\n",
       "      <td>75%</td>\n",
       "      <td>0.990000</td>\n",
       "      <td>2703.00000</td>\n",
       "      <td>0.000000</td>\n",
       "      <td>73.000000</td>\n",
       "    </tr>\n",
       "    <tr>\n",
       "      <td>max</td>\n",
       "      <td>1.000000</td>\n",
       "      <td>169633.00000</td>\n",
       "      <td>17.000000</td>\n",
       "      <td>24155.000000</td>\n",
       "    </tr>\n",
       "  </tbody>\n",
       "</table>\n",
       "</div>"
      ],
      "text/plain": [
       "       Upvote_ratio         Score       Gilded  Number_of_Comments\n",
       "count   7469.000000    7469.00000  7469.000000         7469.000000\n",
       "mean       0.970513    3960.26215     0.054492          100.406480\n",
       "std        0.032547   10658.43448     0.382536          452.474783\n",
       "min        0.630000      53.00000     0.000000            0.000000\n",
       "25%        0.960000     283.00000     0.000000           10.000000\n",
       "50%        0.980000     795.00000     0.000000           26.000000\n",
       "75%        0.990000    2703.00000     0.000000           73.000000\n",
       "max        1.000000  169633.00000    17.000000        24155.000000"
      ]
     },
     "execution_count": 10,
     "metadata": {},
     "output_type": "execute_result"
    }
   ],
   "source": [
    "reddit.describe()"
   ]
  },
  {
   "cell_type": "markdown",
   "metadata": {},
   "source": [
    "## Exploring each column separately"
   ]
  },
  {
   "cell_type": "markdown",
   "metadata": {},
   "source": [
    "### Upvote_ratio"
   ]
  },
  {
   "cell_type": "code",
   "execution_count": 11,
   "metadata": {
    "scrolled": true
   },
   "outputs": [
    {
     "data": {
      "text/plain": [
       "0.99    2183\n",
       "0.98    1636\n",
       "0.97     910\n",
       "1.00     730\n",
       "0.96     603\n",
       "0.95     407\n",
       "0.94     253\n",
       "0.93     175\n",
       "0.92     146\n",
       "0.91     105\n",
       "0.90      73\n",
       "0.89      50\n",
       "0.88      39\n",
       "0.87      36\n",
       "0.86      23\n",
       "0.85      16\n",
       "0.81      13\n",
       "0.84      12\n",
       "0.80      10\n",
       "0.83       9\n",
       "0.82       8\n",
       "0.76       6\n",
       "0.79       6\n",
       "0.77       3\n",
       "0.75       3\n",
       "0.71       3\n",
       "0.74       3\n",
       "0.72       2\n",
       "0.66       2\n",
       "0.78       1\n",
       "0.63       1\n",
       "0.73       1\n",
       "0.67       1\n",
       "Name: Upvote_ratio, dtype: int64"
      ]
     },
     "execution_count": 11,
     "metadata": {},
     "output_type": "execute_result"
    }
   ],
   "source": [
    "reddit.Upvote_ratio.value_counts()"
   ]
  },
  {
   "cell_type": "markdown",
   "metadata": {},
   "source": [
    "## Score - Dependent variable"
   ]
  },
  {
   "cell_type": "code",
   "execution_count": 12,
   "metadata": {
    "scrolled": true
   },
   "outputs": [
    {
     "data": {
      "text/plain": [
       "90      20\n",
       "92      18\n",
       "130     17\n",
       "128     16\n",
       "100     16\n",
       "        ..\n",
       "2747     1\n",
       "698      1\n",
       "2743     1\n",
       "9172     1\n",
       "4098     1\n",
       "Name: Score, Length: 3577, dtype: int64"
      ]
     },
     "execution_count": 12,
     "metadata": {},
     "output_type": "execute_result"
    }
   ],
   "source": [
    "reddit.Score.value_counts()"
   ]
  },
  {
   "cell_type": "markdown",
   "metadata": {},
   "source": [
    "## Gilded"
   ]
  },
  {
   "cell_type": "code",
   "execution_count": 13,
   "metadata": {},
   "outputs": [
    {
     "data": {
      "text/plain": [
       "0     7181\n",
       "1      225\n",
       "2       46\n",
       "3        8\n",
       "4        3\n",
       "10       2\n",
       "6        2\n",
       "17       1\n",
       "5        1\n",
       "Name: Gilded, dtype: int64"
      ]
     },
     "execution_count": 13,
     "metadata": {},
     "output_type": "execute_result"
    }
   ],
   "source": [
    "reddit.Gilded.value_counts()"
   ]
  },
  {
   "cell_type": "markdown",
   "metadata": {},
   "source": [
    "## Over_18"
   ]
  },
  {
   "cell_type": "code",
   "execution_count": 14,
   "metadata": {},
   "outputs": [
    {
     "data": {
      "text/plain": [
       "False    7405\n",
       "True       64\n",
       "Name: Over_18, dtype: int64"
      ]
     },
     "execution_count": 14,
     "metadata": {},
     "output_type": "execute_result"
    }
   ],
   "source": [
    "reddit.Over_18.value_counts()"
   ]
  },
  {
   "cell_type": "markdown",
   "metadata": {},
   "source": [
    "## Number_of_comments"
   ]
  },
  {
   "cell_type": "code",
   "execution_count": 15,
   "metadata": {
    "scrolled": true
   },
   "outputs": [
    {
     "data": {
      "text/plain": [
       "5     229\n",
       "6     215\n",
       "8     209\n",
       "4     197\n",
       "3     197\n",
       "7     193\n",
       "10    188\n",
       "9     172\n",
       "15    156\n",
       "2     154\n",
       "11    151\n",
       "13    150\n",
       "12    144\n",
       "14    137\n",
       "19    134\n",
       "1     129\n",
       "16    129\n",
       "17    122\n",
       "18    106\n",
       "20     99\n",
       "21     93\n",
       "22     85\n",
       "26     83\n",
       "29     83\n",
       "23     82\n",
       "25     80\n",
       "24     79\n",
       "31     77\n",
       "30     75\n",
       "27     71\n",
       "32     62\n",
       "37     61\n",
       "28     60\n",
       "33     58\n",
       "35     58\n",
       "0      56\n",
       "40     51\n",
       "45     50\n",
       "38     50\n",
       "39     50\n",
       "41     47\n",
       "43     47\n",
       "36     46\n",
       "46     43\n",
       "47     42\n",
       "42     42\n",
       "34     41\n",
       "44     38\n",
       "48     38\n",
       "49     37\n",
       "Name: Number_of_Comments, dtype: int64"
      ]
     },
     "execution_count": 15,
     "metadata": {},
     "output_type": "execute_result"
    }
   ],
   "source": [
    "reddit.Number_of_Comments.value_counts()[:50]"
   ]
  },
  {
   "cell_type": "markdown",
   "metadata": {},
   "source": [
    "## Stats for Title column"
   ]
  },
  {
   "cell_type": "code",
   "execution_count": 16,
   "metadata": {},
   "outputs": [
    {
     "name": "stdout",
     "output_type": "stream",
     "text": [
      "Number of unique titles: \t7188\n",
      "Max Length of a title: \t300 characters\n",
      "Avg Length of title: \t47 characters\n",
      "Max words in title: \t63 words\n",
      "Avg words in title: \t8 words\n",
      "#repeated titles:\t 281\n"
     ]
    }
   ],
   "source": [
    "num_of_titles = reddit.Title.nunique()\n",
    "max_len_title = max([len(x) for x in reddit['Title']])\n",
    "avg_len_title = int(np.mean([len(x) for x in reddit['Title']]))\n",
    "max_word_count = max([len(x.split()) for x in reddit['Title']])\n",
    "avg_word_count = int(np.mean([len(x.split()) for x in reddit['Title']]))\n",
    "\n",
    "print('Number of unique titles: \\t{0}'.format(num_of_titles))\n",
    "print('Max Length of a title: \\t{0} characters'.format(max_len_title))\n",
    "print('Avg Length of title: \\t{0} characters'.format(avg_len_title))\n",
    "print('Max words in title: \\t{0} words'.format(max_word_count))\n",
    "print('Avg words in title: \\t{0} words'.format(avg_word_count))\n",
    "unique_titles = reddit.Title.nunique()\n",
    "print('#repeated titles:\\t', len(reddit) - unique_titles)"
   ]
  },
  {
   "cell_type": "markdown",
   "metadata": {},
   "source": [
    "## Some titles are repeated and it could be due to different authors discussing about the same topic"
   ]
  },
  {
   "cell_type": "code",
   "execution_count": 17,
   "metadata": {},
   "outputs": [
    {
     "data": {
      "text/html": [
       "<div>\n",
       "<style scoped>\n",
       "    .dataframe tbody tr th:only-of-type {\n",
       "        vertical-align: middle;\n",
       "    }\n",
       "\n",
       "    .dataframe tbody tr th {\n",
       "        vertical-align: top;\n",
       "    }\n",
       "\n",
       "    .dataframe thead th {\n",
       "        text-align: right;\n",
       "    }\n",
       "</style>\n",
       "<table border=\"1\" class=\"dataframe\">\n",
       "  <thead>\n",
       "    <tr style=\"text-align: right;\">\n",
       "      <th></th>\n",
       "      <th>Title</th>\n",
       "      <th>Upvote_ratio</th>\n",
       "      <th>Score</th>\n",
       "      <th>Gilded</th>\n",
       "      <th>Over_18</th>\n",
       "      <th>Number_of_Comments</th>\n",
       "    </tr>\n",
       "  </thead>\n",
       "  <tbody>\n",
       "    <tr>\n",
       "      <td>168</td>\n",
       "      <td>Mom shows her baby elephant how to cross the r...</td>\n",
       "      <td>0.98</td>\n",
       "      <td>3858</td>\n",
       "      <td>0</td>\n",
       "      <td>False</td>\n",
       "      <td>39</td>\n",
       "    </tr>\n",
       "    <tr>\n",
       "      <td>232</td>\n",
       "      <td>I'm a 16 yr old blacksmith and I forged this w...</td>\n",
       "      <td>0.98</td>\n",
       "      <td>9039</td>\n",
       "      <td>0</td>\n",
       "      <td>False</td>\n",
       "      <td>127</td>\n",
       "    </tr>\n",
       "    <tr>\n",
       "      <td>314</td>\n",
       "      <td>This avalanche in Nepal</td>\n",
       "      <td>0.99</td>\n",
       "      <td>9426</td>\n",
       "      <td>0</td>\n",
       "      <td>False</td>\n",
       "      <td>152</td>\n",
       "    </tr>\n",
       "    <tr>\n",
       "      <td>406</td>\n",
       "      <td>hmmm</td>\n",
       "      <td>0.96</td>\n",
       "      <td>16563</td>\n",
       "      <td>1</td>\n",
       "      <td>False</td>\n",
       "      <td>146</td>\n",
       "    </tr>\n",
       "    <tr>\n",
       "      <td>407</td>\n",
       "      <td>It’s only fair</td>\n",
       "      <td>0.96</td>\n",
       "      <td>14234</td>\n",
       "      <td>0</td>\n",
       "      <td>False</td>\n",
       "      <td>148</td>\n",
       "    </tr>\n",
       "    <tr>\n",
       "      <td>...</td>\n",
       "      <td>...</td>\n",
       "      <td>...</td>\n",
       "      <td>...</td>\n",
       "      <td>...</td>\n",
       "      <td>...</td>\n",
       "      <td>...</td>\n",
       "    </tr>\n",
       "    <tr>\n",
       "      <td>7174</td>\n",
       "      <td>Learning, but at what cost</td>\n",
       "      <td>0.97</td>\n",
       "      <td>217</td>\n",
       "      <td>0</td>\n",
       "      <td>False</td>\n",
       "      <td>22</td>\n",
       "    </tr>\n",
       "    <tr>\n",
       "      <td>7257</td>\n",
       "      <td>Business is boomin</td>\n",
       "      <td>0.99</td>\n",
       "      <td>313</td>\n",
       "      <td>0</td>\n",
       "      <td>False</td>\n",
       "      <td>2</td>\n",
       "    </tr>\n",
       "    <tr>\n",
       "      <td>7313</td>\n",
       "      <td>Does this count?</td>\n",
       "      <td>0.96</td>\n",
       "      <td>190</td>\n",
       "      <td>0</td>\n",
       "      <td>False</td>\n",
       "      <td>6</td>\n",
       "    </tr>\n",
       "    <tr>\n",
       "      <td>7373</td>\n",
       "      <td>Might as well just die</td>\n",
       "      <td>0.92</td>\n",
       "      <td>87</td>\n",
       "      <td>0</td>\n",
       "      <td>False</td>\n",
       "      <td>13</td>\n",
       "    </tr>\n",
       "    <tr>\n",
       "      <td>7374</td>\n",
       "      <td>It has been 15 minutes...</td>\n",
       "      <td>0.99</td>\n",
       "      <td>192</td>\n",
       "      <td>0</td>\n",
       "      <td>False</td>\n",
       "      <td>3</td>\n",
       "    </tr>\n",
       "  </tbody>\n",
       "</table>\n",
       "<p>281 rows × 6 columns</p>\n",
       "</div>"
      ],
      "text/plain": [
       "                                                  Title  Upvote_ratio  Score  \\\n",
       "168   Mom shows her baby elephant how to cross the r...          0.98   3858   \n",
       "232   I'm a 16 yr old blacksmith and I forged this w...          0.98   9039   \n",
       "314                             This avalanche in Nepal          0.99   9426   \n",
       "406                                                hmmm          0.96  16563   \n",
       "407                                      It’s only fair          0.96  14234   \n",
       "...                                                 ...           ...    ...   \n",
       "7174                         Learning, but at what cost          0.97    217   \n",
       "7257                                 Business is boomin          0.99    313   \n",
       "7313                                   Does this count?          0.96    190   \n",
       "7373                             Might as well just die          0.92     87   \n",
       "7374                          It has been 15 minutes...          0.99    192   \n",
       "\n",
       "      Gilded  Over_18  Number_of_Comments  \n",
       "168        0    False                  39  \n",
       "232        0    False                 127  \n",
       "314        0    False                 152  \n",
       "406        1    False                 146  \n",
       "407        0    False                 148  \n",
       "...      ...      ...                 ...  \n",
       "7174       0    False                  22  \n",
       "7257       0    False                   2  \n",
       "7313       0    False                   6  \n",
       "7373       0    False                  13  \n",
       "7374       0    False                   3  \n",
       "\n",
       "[281 rows x 6 columns]"
      ]
     },
     "execution_count": 17,
     "metadata": {},
     "output_type": "execute_result"
    }
   ],
   "source": [
    "#Checking the repeated columns\n",
    "reddit[reddit.duplicated('Title')]"
   ]
  },
  {
   "cell_type": "markdown",
   "metadata": {},
   "source": [
    "## Visualization"
   ]
  },
  {
   "cell_type": "markdown",
   "metadata": {},
   "source": [
    "### Score - distribution"
   ]
  },
  {
   "cell_type": "code",
   "execution_count": 18,
   "metadata": {},
   "outputs": [
    {
     "data": {
      "image/png": "[encoded data removed]",
      "text/plain": [
       "<Figure size 432x288 with 1 Axes>"
      ]
     },
     "metadata": {
      "needs_background": "light"
     },
     "output_type": "display_data"
    }
   ],
   "source": [
    "sns.distplot(reddit[\"Score\"]);"
   ]
  },
  {
   "cell_type": "markdown",
   "metadata": {},
   "source": [
    "**Right skewed distribution of the dependent variable**"
   ]
  },
  {
   "cell_type": "code",
   "execution_count": 19,
   "metadata": {},
   "outputs": [
    {
     "data": {
      "image/png": "[encoded data removed]",
      "text/plain": [
       "<Figure size 432x288 with 1 Axes>"
      ]
     },
     "metadata": {
      "needs_background": "light"
     },
     "output_type": "display_data"
    }
   ],
   "source": [
    "sns.distplot(reddit[\"Upvote_ratio\"]);"
   ]
  },
  {
   "cell_type": "markdown",
   "metadata": {},
   "source": [
    "**More number of titles have higher upvote ratios**"
   ]
  },
  {
   "cell_type": "code",
   "execution_count": 20,
   "metadata": {},
   "outputs": [
    {
     "data": {
      "image/png": "[encoded data removed]",
      "text/plain": [
       "<Figure size 432x288 with 1 Axes>"
      ]
     },
     "metadata": {
      "needs_background": "light"
     },
     "output_type": "display_data"
    }
   ],
   "source": [
    "reddit.Over_18.value_counts().plot(kind = 'bar');"
   ]
  },
  {
   "cell_type": "markdown",
   "metadata": {},
   "source": [
    "**More number of titles are also marked for readers aged < 18**"
   ]
  },
  {
   "cell_type": "code",
   "execution_count": 21,
   "metadata": {},
   "outputs": [
    {
     "data": {
      "image/png": "[encoded data removed]",
      "text/plain": [
       "<Figure size 432x288 with 1 Axes>"
      ]
     },
     "metadata": {
      "needs_background": "light"
     },
     "output_type": "display_data"
    }
   ],
   "source": [
    "reddit.Gilded.value_counts().plot(kind = 'bar');"
   ]
  },
  {
   "cell_type": "markdown",
   "metadata": {},
   "source": [
    "**Not a lot of authors were gilded for their posts**"
   ]
  },
  {
   "cell_type": "code",
   "execution_count": 22,
   "metadata": {},
   "outputs": [
    {
     "data": {
      "image/png": "[encoded data removed]",
      "text/plain": [
       "<Figure size 432x288 with 1 Axes>"
      ]
     },
     "metadata": {
      "needs_background": "light"
     },
     "output_type": "display_data"
    }
   ],
   "source": [
    "sns.distplot(reddit[\"Number_of_Comments\"]);"
   ]
  },
  {
   "cell_type": "code",
   "execution_count": 23,
   "metadata": {},
   "outputs": [],
   "source": [
    "#Number of characters in a comment\n",
    "\n",
    "reddit['character_count'] = reddit['Title'].map(lambda x : len(x))"
   ]
  },
  {
   "cell_type": "code",
   "execution_count": 24,
   "metadata": {},
   "outputs": [
    {
     "data": {
      "text/html": [
       "<div>\n",
       "<style scoped>\n",
       "    .dataframe tbody tr th:only-of-type {\n",
       "        vertical-align: middle;\n",
       "    }\n",
       "\n",
       "    .dataframe tbody tr th {\n",
       "        vertical-align: top;\n",
       "    }\n",
       "\n",
       "    .dataframe thead th {\n",
       "        text-align: right;\n",
       "    }\n",
       "</style>\n",
       "<table border=\"1\" class=\"dataframe\">\n",
       "  <thead>\n",
       "    <tr style=\"text-align: right;\">\n",
       "      <th></th>\n",
       "      <th>Title</th>\n",
       "      <th>Upvote_ratio</th>\n",
       "      <th>Score</th>\n",
       "      <th>Gilded</th>\n",
       "      <th>Over_18</th>\n",
       "      <th>Number_of_Comments</th>\n",
       "      <th>character_count</th>\n",
       "    </tr>\n",
       "  </thead>\n",
       "  <tbody>\n",
       "    <tr>\n",
       "      <td>0</td>\n",
       "      <td>House impeaches Trump for second time over Cap...</td>\n",
       "      <td>0.72</td>\n",
       "      <td>39464</td>\n",
       "      <td>2</td>\n",
       "      <td>False</td>\n",
       "      <td>8801</td>\n",
       "      <td>56</td>\n",
       "    </tr>\n",
       "    <tr>\n",
       "      <td>1</td>\n",
       "      <td>I'm a 16 yr old blacksmith and I forged this w...</td>\n",
       "      <td>0.90</td>\n",
       "      <td>29423</td>\n",
       "      <td>0</td>\n",
       "      <td>False</td>\n",
       "      <td>443</td>\n",
       "      <td>85</td>\n",
       "    </tr>\n",
       "    <tr>\n",
       "      <td>2</td>\n",
       "      <td>Do some research before spouting nonsense</td>\n",
       "      <td>0.90</td>\n",
       "      <td>50420</td>\n",
       "      <td>0</td>\n",
       "      <td>False</td>\n",
       "      <td>1008</td>\n",
       "      <td>41</td>\n",
       "    </tr>\n",
       "    <tr>\n",
       "      <td>3</td>\n",
       "      <td>Moving boxes arrive at the White House</td>\n",
       "      <td>0.81</td>\n",
       "      <td>149858</td>\n",
       "      <td>6</td>\n",
       "      <td>False</td>\n",
       "      <td>4392</td>\n",
       "      <td>38</td>\n",
       "    </tr>\n",
       "    <tr>\n",
       "      <td>4</td>\n",
       "      <td>“No One Took Us Seriously”: Black Cops Warned ...</td>\n",
       "      <td>0.98</td>\n",
       "      <td>7768</td>\n",
       "      <td>0</td>\n",
       "      <td>False</td>\n",
       "      <td>157</td>\n",
       "      <td>92</td>\n",
       "    </tr>\n",
       "  </tbody>\n",
       "</table>\n",
       "</div>"
      ],
      "text/plain": [
       "                                               Title  Upvote_ratio   Score  \\\n",
       "0  House impeaches Trump for second time over Cap...          0.72   39464   \n",
       "1  I'm a 16 yr old blacksmith and I forged this w...          0.90   29423   \n",
       "2          Do some research before spouting nonsense          0.90   50420   \n",
       "3             Moving boxes arrive at the White House          0.81  149858   \n",
       "4  “No One Took Us Seriously”: Black Cops Warned ...          0.98    7768   \n",
       "\n",
       "   Gilded  Over_18  Number_of_Comments  character_count  \n",
       "0       2    False                8801               56  \n",
       "1       0    False                 443               85  \n",
       "2       0    False                1008               41  \n",
       "3       6    False                4392               38  \n",
       "4       0    False                 157               92  "
      ]
     },
     "execution_count": 24,
     "metadata": {},
     "output_type": "execute_result"
    }
   ],
   "source": [
    "reddit.head()"
   ]
  },
  {
   "cell_type": "code",
   "execution_count": 25,
   "metadata": {},
   "outputs": [
    {
     "data": {
      "image/png": "[encoded data removed]",
      "text/plain": [
       "<Figure size 432x288 with 1 Axes>"
      ]
     },
     "metadata": {
      "needs_background": "light"
     },
     "output_type": "display_data"
    }
   ],
   "source": [
    "plt.hist(reddit['character_count'], bins=np.arange(1,250,10), alpha=0.5, label=\"Character Lengths\");\n",
    "plt.title('Comment Lengths');\n",
    "plt.xlabel('Characters');\n",
    "plt.ylabel('Number of Titles');"
   ]
  },
  {
   "cell_type": "markdown",
   "metadata": {},
   "source": [
    "**More number of titles have character lengths between 0 and 150**"
   ]
  },
  {
   "cell_type": "markdown",
   "metadata": {},
   "source": [
    "## Effect of character length on scores"
   ]
  },
  {
   "cell_type": "code",
   "execution_count": 26,
   "metadata": {},
   "outputs": [
    {
     "data": {
      "image/png": "[encoded data removed]",
      "text/plain": [
       "<Figure size 432x288 with 1 Axes>"
      ]
     },
     "metadata": {
      "needs_background": "light"
     },
     "output_type": "display_data"
    }
   ],
   "source": [
    "plt.scatter(reddit['character_count'], reddit['Score']);\n",
    "plt.xlabel('Character count')\n",
    "plt.ylabel('Score');"
   ]
  },
  {
   "cell_type": "markdown",
   "metadata": {},
   "source": [
    "**Scores do not depend on the length of the title**"
   ]
  },
  {
   "cell_type": "code",
   "execution_count": 27,
   "metadata": {},
   "outputs": [],
   "source": [
    "#NUMBER OF WORDS IN THE TITLE\n",
    "\n",
    "import re\n",
    "def word_count(text):\n",
    "    wordList = re.sub(\"[^\\w]\", \" \",  text).split()\n",
    "    return len(wordList)\n",
    "\n",
    "reddit['word_count'] = reddit['Title'].map(lambda x : word_count(x))"
   ]
  },
  {
   "cell_type": "markdown",
   "metadata": {},
   "source": [
    "## Cleaning the titles"
   ]
  },
  {
   "cell_type": "code",
   "execution_count": 28,
   "metadata": {},
   "outputs": [],
   "source": [
    "from nltk.tokenize import word_tokenize\n",
    "from nltk.stem import WordNetLemmatizer\n",
    "from nltk.stem import PorterStemmer\n",
    "from nltk.corpus import stopwords"
   ]
  },
  {
   "cell_type": "code",
   "execution_count": 29,
   "metadata": {},
   "outputs": [
    {
     "data": {
      "application/javascript": [
       "\n",
       "        if (window._pyforest_update_imports_cell) { window._pyforest_update_imports_cell('import nltk'); }\n",
       "    "
      ],
      "text/plain": [
       "<IPython.core.display.Javascript object>"
      ]
     },
     "metadata": {},
     "output_type": "display_data"
    },
    {
     "name": "stderr",
     "output_type": "stream",
     "text": [
      "[nltk_data] Downloading package stopwords to C:\\nltk_data...\n",
      "[nltk_data]   Package stopwords is already up-to-date!\n"
     ]
    }
   ],
   "source": [
    "#Downloading stopwords from NLTK\n",
    "#We don't remove No and Not as it will help in sentiment analysis\n",
    "nltk.download('stopwords')\n",
    "stop_words = set(stopwords.words('english'))\n",
    "stop_words.remove(\"not\")\n",
    "stop_words.remove(\"no\")"
   ]
  },
  {
   "cell_type": "code",
   "execution_count": 30,
   "metadata": {},
   "outputs": [],
   "source": [
    "#Enforcing proper spacing\n",
    "\n",
    "def spaceURLs(df, column):\n",
    "    '''This method is used to enforce proper spacing\n",
    "    Ex: In the data, you may have '[the image](https://image.xyz)';\n",
    "    this method creates space between alt text (\"the image\") and the URL.'''\n",
    "    data = df.copy()\n",
    "    data.loc[:, column] = data[column].str.replace('\\[|\\]', ' ', regex=True)\n",
    "    return data"
   ]
  },
  {
   "cell_type": "code",
   "execution_count": 31,
   "metadata": {},
   "outputs": [],
   "source": [
    "#Replace URLs\n",
    "\n",
    "def replaceURL(df, column):\n",
    "    data = df.copy()\n",
    "    data.loc[:, column] = data[column].str.replace('\\(http\\S+', 'URL', regex=True)\n",
    "    return data"
   ]
  },
  {
   "cell_type": "code",
   "execution_count": 32,
   "metadata": {},
   "outputs": [],
   "source": [
    "#Removing symbols\n",
    "\n",
    "def removeSymbols(df, column):\n",
    "    data = df.copy()\n",
    "    data.loc[:, column] = data[column].str.replace('/r/', '', regex=True)\n",
    "    data.loc[:, column] = data[column].str.replace('[^\\.\\'A-Za-z0-9]+', ' ', regex=True)\n",
    "    return data"
   ]
  },
  {
   "cell_type": "code",
   "execution_count": 33,
   "metadata": {},
   "outputs": [],
   "source": [
    "#Removing numbers\n",
    "\n",
    "def removeNumbers(df, column):\n",
    "    data = df.copy()\n",
    "    data.loc[:, column] = data[column].str.replace('\\S*\\d\\S*', '', regex=True)\n",
    "    return data"
   ]
  },
  {
   "cell_type": "code",
   "execution_count": 34,
   "metadata": {},
   "outputs": [],
   "source": [
    "#Remove stop words\n",
    "\n",
    "stop_words = stopwords.words('english')\n",
    "stop_words.extend([\"ca\",\"http\"])\n",
    "def no_stop_words(list_tokens):    \n",
    "    tokens_no_stop_word = []\n",
    "    for elt in list_tokens: \n",
    "        tokens_no_stop_word.append([tok for tok in elt if tok not in stop_words])\n",
    "    return(tokens_no_stop_word)"
   ]
  },
  {
   "cell_type": "code",
   "execution_count": 35,
   "metadata": {},
   "outputs": [],
   "source": [
    "data = spaceURLs(reddit, 'Title')\n",
    "data = replaceURL(reddit, 'Title')\n",
    "data = removeNumbers(reddit, 'Title')\n",
    "data = removeSymbols(reddit, 'Title')"
   ]
  },
  {
   "cell_type": "code",
   "execution_count": 36,
   "metadata": {},
   "outputs": [
    {
     "data": {
      "text/html": [
       "<div>\n",
       "<style scoped>\n",
       "    .dataframe tbody tr th:only-of-type {\n",
       "        vertical-align: middle;\n",
       "    }\n",
       "\n",
       "    .dataframe tbody tr th {\n",
       "        vertical-align: top;\n",
       "    }\n",
       "\n",
       "    .dataframe thead th {\n",
       "        text-align: right;\n",
       "    }\n",
       "</style>\n",
       "<table border=\"1\" class=\"dataframe\">\n",
       "  <thead>\n",
       "    <tr style=\"text-align: right;\">\n",
       "      <th></th>\n",
       "      <th>0</th>\n",
       "      <th>1</th>\n",
       "      <th>2</th>\n",
       "      <th>3</th>\n",
       "      <th>4</th>\n",
       "      <th>5</th>\n",
       "      <th>6</th>\n",
       "      <th>7</th>\n",
       "      <th>8</th>\n",
       "      <th>9</th>\n",
       "    </tr>\n",
       "  </thead>\n",
       "  <tbody>\n",
       "    <tr>\n",
       "      <td>Title</td>\n",
       "      <td>House impeaches Trump for second time over Cap...</td>\n",
       "      <td>I'm a 16 yr old blacksmith and I forged this w...</td>\n",
       "      <td>Do some research before spouting nonsense</td>\n",
       "      <td>Moving boxes arrive at the White House</td>\n",
       "      <td>No One Took Us Seriously Black Cops Warned Ab...</td>\n",
       "      <td>US bans all cotton and tomato products from Xi...</td>\n",
       "      <td>Urban explorer of Reddit what was your I bette...</td>\n",
       "      <td>LPT As a lawyer don't take legal advice from R...</td>\n",
       "      <td>Pirate Bay Founder Thinks Parler s Inability t...</td>\n",
       "      <td>GME YOLO update Jan 13 2021</td>\n",
       "    </tr>\n",
       "    <tr>\n",
       "      <td>Upvote_ratio</td>\n",
       "      <td>0.72</td>\n",
       "      <td>0.9</td>\n",
       "      <td>0.9</td>\n",
       "      <td>0.81</td>\n",
       "      <td>0.98</td>\n",
       "      <td>0.88</td>\n",
       "      <td>0.93</td>\n",
       "      <td>0.94</td>\n",
       "      <td>0.88</td>\n",
       "      <td>0.89</td>\n",
       "    </tr>\n",
       "    <tr>\n",
       "      <td>Score</td>\n",
       "      <td>39464</td>\n",
       "      <td>29423</td>\n",
       "      <td>50420</td>\n",
       "      <td>149858</td>\n",
       "      <td>7768</td>\n",
       "      <td>112303</td>\n",
       "      <td>30184</td>\n",
       "      <td>32876</td>\n",
       "      <td>79607</td>\n",
       "      <td>37315</td>\n",
       "    </tr>\n",
       "    <tr>\n",
       "      <td>Gilded</td>\n",
       "      <td>2</td>\n",
       "      <td>0</td>\n",
       "      <td>0</td>\n",
       "      <td>6</td>\n",
       "      <td>0</td>\n",
       "      <td>0</td>\n",
       "      <td>0</td>\n",
       "      <td>0</td>\n",
       "      <td>2</td>\n",
       "      <td>17</td>\n",
       "    </tr>\n",
       "    <tr>\n",
       "      <td>Over_18</td>\n",
       "      <td>False</td>\n",
       "      <td>False</td>\n",
       "      <td>False</td>\n",
       "      <td>False</td>\n",
       "      <td>False</td>\n",
       "      <td>False</td>\n",
       "      <td>True</td>\n",
       "      <td>False</td>\n",
       "      <td>False</td>\n",
       "      <td>False</td>\n",
       "    </tr>\n",
       "    <tr>\n",
       "      <td>Number_of_Comments</td>\n",
       "      <td>8801</td>\n",
       "      <td>443</td>\n",
       "      <td>1008</td>\n",
       "      <td>4392</td>\n",
       "      <td>157</td>\n",
       "      <td>4072</td>\n",
       "      <td>3666</td>\n",
       "      <td>1766</td>\n",
       "      <td>3338</td>\n",
       "      <td>3016</td>\n",
       "    </tr>\n",
       "    <tr>\n",
       "      <td>character_count</td>\n",
       "      <td>56</td>\n",
       "      <td>85</td>\n",
       "      <td>41</td>\n",
       "      <td>38</td>\n",
       "      <td>92</td>\n",
       "      <td>69</td>\n",
       "      <td>62</td>\n",
       "      <td>54</td>\n",
       "      <td>77</td>\n",
       "      <td>29</td>\n",
       "    </tr>\n",
       "    <tr>\n",
       "      <td>word_count</td>\n",
       "      <td>9</td>\n",
       "      <td>18</td>\n",
       "      <td>6</td>\n",
       "      <td>7</td>\n",
       "      <td>15</td>\n",
       "      <td>12</td>\n",
       "      <td>11</td>\n",
       "      <td>11</td>\n",
       "      <td>12</td>\n",
       "      <td>6</td>\n",
       "    </tr>\n",
       "  </tbody>\n",
       "</table>\n",
       "</div>"
      ],
      "text/plain": [
       "                                                                    0  \\\n",
       "Title               House impeaches Trump for second time over Cap...   \n",
       "Upvote_ratio                                                     0.72   \n",
       "Score                                                           39464   \n",
       "Gilded                                                              2   \n",
       "Over_18                                                         False   \n",
       "Number_of_Comments                                               8801   \n",
       "character_count                                                    56   \n",
       "word_count                                                          9   \n",
       "\n",
       "                                                                    1  \\\n",
       "Title               I'm a 16 yr old blacksmith and I forged this w...   \n",
       "Upvote_ratio                                                      0.9   \n",
       "Score                                                           29423   \n",
       "Gilded                                                              0   \n",
       "Over_18                                                         False   \n",
       "Number_of_Comments                                                443   \n",
       "character_count                                                    85   \n",
       "word_count                                                         18   \n",
       "\n",
       "                                                            2  \\\n",
       "Title               Do some research before spouting nonsense   \n",
       "Upvote_ratio                                              0.9   \n",
       "Score                                                   50420   \n",
       "Gilded                                                      0   \n",
       "Over_18                                                 False   \n",
       "Number_of_Comments                                       1008   \n",
       "character_count                                            41   \n",
       "word_count                                                  6   \n",
       "\n",
       "                                                         3  \\\n",
       "Title               Moving boxes arrive at the White House   \n",
       "Upvote_ratio                                          0.81   \n",
       "Score                                               149858   \n",
       "Gilded                                                   6   \n",
       "Over_18                                              False   \n",
       "Number_of_Comments                                    4392   \n",
       "character_count                                         38   \n",
       "word_count                                               7   \n",
       "\n",
       "                                                                    4  \\\n",
       "Title                No One Took Us Seriously Black Cops Warned Ab...   \n",
       "Upvote_ratio                                                     0.98   \n",
       "Score                                                            7768   \n",
       "Gilded                                                              0   \n",
       "Over_18                                                         False   \n",
       "Number_of_Comments                                                157   \n",
       "character_count                                                    92   \n",
       "word_count                                                         15   \n",
       "\n",
       "                                                                    5  \\\n",
       "Title               US bans all cotton and tomato products from Xi...   \n",
       "Upvote_ratio                                                     0.88   \n",
       "Score                                                          112303   \n",
       "Gilded                                                              0   \n",
       "Over_18                                                         False   \n",
       "Number_of_Comments                                               4072   \n",
       "character_count                                                    69   \n",
       "word_count                                                         12   \n",
       "\n",
       "                                                                    6  \\\n",
       "Title               Urban explorer of Reddit what was your I bette...   \n",
       "Upvote_ratio                                                     0.93   \n",
       "Score                                                           30184   \n",
       "Gilded                                                              0   \n",
       "Over_18                                                          True   \n",
       "Number_of_Comments                                               3666   \n",
       "character_count                                                    62   \n",
       "word_count                                                         11   \n",
       "\n",
       "                                                                    7  \\\n",
       "Title               LPT As a lawyer don't take legal advice from R...   \n",
       "Upvote_ratio                                                     0.94   \n",
       "Score                                                           32876   \n",
       "Gilded                                                              0   \n",
       "Over_18                                                         False   \n",
       "Number_of_Comments                                               1766   \n",
       "character_count                                                    54   \n",
       "word_count                                                         11   \n",
       "\n",
       "                                                                    8  \\\n",
       "Title               Pirate Bay Founder Thinks Parler s Inability t...   \n",
       "Upvote_ratio                                                     0.88   \n",
       "Score                                                           79607   \n",
       "Gilded                                                              2   \n",
       "Over_18                                                         False   \n",
       "Number_of_Comments                                               3338   \n",
       "character_count                                                    77   \n",
       "word_count                                                         12   \n",
       "\n",
       "                                              9  \n",
       "Title               GME YOLO update Jan 13 2021  \n",
       "Upvote_ratio                               0.89  \n",
       "Score                                     37315  \n",
       "Gilded                                       17  \n",
       "Over_18                                   False  \n",
       "Number_of_Comments                         3016  \n",
       "character_count                              29  \n",
       "word_count                                    6  "
      ]
     },
     "execution_count": 36,
     "metadata": {},
     "output_type": "execute_result"
    }
   ],
   "source": [
    "data.head(10).T"
   ]
  },
  {
   "cell_type": "code",
   "execution_count": 37,
   "metadata": {},
   "outputs": [],
   "source": [
    "reddit = data.copy()"
   ]
  },
  {
   "cell_type": "markdown",
   "metadata": {},
   "source": [
    "## Sentiment Analysis"
   ]
  },
  {
   "cell_type": "markdown",
   "metadata": {},
   "source": [
    "### The sentiment function of textblob returns two properties, *polarity*, and *subjectivity*.\n",
    "\n",
    "- Polarity is float which lies in the range of [-1,1] where 1 means positive statement and -1 means a negative statement. \n",
    "\n",
    "- Subjective sentences generally refer to personal opinion, emotion or judgment whereas objective refers to factual information. Subjectivity is also a float which lies in the range of [0,1]."
   ]
  },
  {
   "cell_type": "code",
   "execution_count": 38,
   "metadata": {},
   "outputs": [],
   "source": [
    "from textblob import TextBlob"
   ]
  },
  {
   "cell_type": "code",
   "execution_count": 39,
   "metadata": {},
   "outputs": [],
   "source": [
    "# Create a function to get the subjectivity\n",
    "def Subjectivity(text):\n",
    "       return TextBlob(text).sentiment.subjectivity"
   ]
  },
  {
   "cell_type": "code",
   "execution_count": 40,
   "metadata": {},
   "outputs": [],
   "source": [
    "# Create a function to get the polarity\n",
    "def Polarity(text):\n",
    "      return  TextBlob(text).sentiment.polarity"
   ]
  },
  {
   "cell_type": "code",
   "execution_count": 41,
   "metadata": {},
   "outputs": [],
   "source": [
    "reddit['Subjectivity'] = reddit['Title'].apply(Subjectivity)\n",
    "reddit['Polarity'] = reddit['Title'].apply(Polarity)"
   ]
  },
  {
   "cell_type": "code",
   "execution_count": 42,
   "metadata": {},
   "outputs": [
    {
     "data": {
      "text/html": [
       "<div>\n",
       "<style scoped>\n",
       "    .dataframe tbody tr th:only-of-type {\n",
       "        vertical-align: middle;\n",
       "    }\n",
       "\n",
       "    .dataframe tbody tr th {\n",
       "        vertical-align: top;\n",
       "    }\n",
       "\n",
       "    .dataframe thead th {\n",
       "        text-align: right;\n",
       "    }\n",
       "</style>\n",
       "<table border=\"1\" class=\"dataframe\">\n",
       "  <thead>\n",
       "    <tr style=\"text-align: right;\">\n",
       "      <th></th>\n",
       "      <th>Title</th>\n",
       "      <th>Upvote_ratio</th>\n",
       "      <th>Score</th>\n",
       "      <th>Gilded</th>\n",
       "      <th>Over_18</th>\n",
       "      <th>Number_of_Comments</th>\n",
       "      <th>character_count</th>\n",
       "      <th>word_count</th>\n",
       "      <th>Subjectivity</th>\n",
       "      <th>Polarity</th>\n",
       "    </tr>\n",
       "  </thead>\n",
       "  <tbody>\n",
       "    <tr>\n",
       "      <td>0</td>\n",
       "      <td>House impeaches Trump for second time over Cap...</td>\n",
       "      <td>0.72</td>\n",
       "      <td>39464</td>\n",
       "      <td>2</td>\n",
       "      <td>False</td>\n",
       "      <td>8801</td>\n",
       "      <td>56</td>\n",
       "      <td>9</td>\n",
       "      <td>0.000000</td>\n",
       "      <td>0.000000</td>\n",
       "    </tr>\n",
       "    <tr>\n",
       "      <td>1</td>\n",
       "      <td>I'm a 16 yr old blacksmith and I forged this w...</td>\n",
       "      <td>0.90</td>\n",
       "      <td>29423</td>\n",
       "      <td>0</td>\n",
       "      <td>False</td>\n",
       "      <td>443</td>\n",
       "      <td>85</td>\n",
       "      <td>18</td>\n",
       "      <td>0.200000</td>\n",
       "      <td>0.100000</td>\n",
       "    </tr>\n",
       "    <tr>\n",
       "      <td>2</td>\n",
       "      <td>Do some research before spouting nonsense</td>\n",
       "      <td>0.90</td>\n",
       "      <td>50420</td>\n",
       "      <td>0</td>\n",
       "      <td>False</td>\n",
       "      <td>1008</td>\n",
       "      <td>41</td>\n",
       "      <td>6</td>\n",
       "      <td>0.000000</td>\n",
       "      <td>0.000000</td>\n",
       "    </tr>\n",
       "    <tr>\n",
       "      <td>3</td>\n",
       "      <td>Moving boxes arrive at the White House</td>\n",
       "      <td>0.81</td>\n",
       "      <td>149858</td>\n",
       "      <td>6</td>\n",
       "      <td>False</td>\n",
       "      <td>4392</td>\n",
       "      <td>38</td>\n",
       "      <td>7</td>\n",
       "      <td>0.000000</td>\n",
       "      <td>0.000000</td>\n",
       "    </tr>\n",
       "    <tr>\n",
       "      <td>4</td>\n",
       "      <td>No One Took Us Seriously Black Cops Warned Ab...</td>\n",
       "      <td>0.98</td>\n",
       "      <td>7768</td>\n",
       "      <td>0</td>\n",
       "      <td>False</td>\n",
       "      <td>157</td>\n",
       "      <td>92</td>\n",
       "      <td>15</td>\n",
       "      <td>0.433333</td>\n",
       "      <td>-0.166667</td>\n",
       "    </tr>\n",
       "  </tbody>\n",
       "</table>\n",
       "</div>"
      ],
      "text/plain": [
       "                                               Title  Upvote_ratio   Score  \\\n",
       "0  House impeaches Trump for second time over Cap...          0.72   39464   \n",
       "1  I'm a 16 yr old blacksmith and I forged this w...          0.90   29423   \n",
       "2          Do some research before spouting nonsense          0.90   50420   \n",
       "3             Moving boxes arrive at the White House          0.81  149858   \n",
       "4   No One Took Us Seriously Black Cops Warned Ab...          0.98    7768   \n",
       "\n",
       "   Gilded  Over_18  Number_of_Comments  character_count  word_count  \\\n",
       "0       2    False                8801               56           9   \n",
       "1       0    False                 443               85          18   \n",
       "2       0    False                1008               41           6   \n",
       "3       6    False                4392               38           7   \n",
       "4       0    False                 157               92          15   \n",
       "\n",
       "   Subjectivity  Polarity  \n",
       "0      0.000000  0.000000  \n",
       "1      0.200000  0.100000  \n",
       "2      0.000000  0.000000  \n",
       "3      0.000000  0.000000  \n",
       "4      0.433333 -0.166667  "
      ]
     },
     "execution_count": 42,
     "metadata": {},
     "output_type": "execute_result"
    }
   ],
   "source": [
    "reddit.head()"
   ]
  },
  {
   "cell_type": "code",
   "execution_count": 43,
   "metadata": {},
   "outputs": [],
   "source": [
    "from vaderSentiment.vaderSentiment import SentimentIntensityAnalyzer"
   ]
  },
  {
   "cell_type": "code",
   "execution_count": 44,
   "metadata": {},
   "outputs": [],
   "source": [
    "senti = SentimentIntensityAnalyzer()\n",
    "for sentence in reddit['Title']:\n",
    "    ss = senti.polarity_scores(sentence)"
   ]
  },
  {
   "cell_type": "code",
   "execution_count": 45,
   "metadata": {},
   "outputs": [],
   "source": [
    "#analyzer = SentimentIntensityAnalyzer()\n",
    "reddit['rating'] = reddit['Title'].apply(senti.polarity_scores)"
   ]
  },
  {
   "cell_type": "code",
   "execution_count": 46,
   "metadata": {},
   "outputs": [
    {
     "data": {
      "text/html": [
       "<div>\n",
       "<style scoped>\n",
       "    .dataframe tbody tr th:only-of-type {\n",
       "        vertical-align: middle;\n",
       "    }\n",
       "\n",
       "    .dataframe tbody tr th {\n",
       "        vertical-align: top;\n",
       "    }\n",
       "\n",
       "    .dataframe thead th {\n",
       "        text-align: right;\n",
       "    }\n",
       "</style>\n",
       "<table border=\"1\" class=\"dataframe\">\n",
       "  <thead>\n",
       "    <tr style=\"text-align: right;\">\n",
       "      <th></th>\n",
       "      <th>Title</th>\n",
       "      <th>Upvote_ratio</th>\n",
       "      <th>Score</th>\n",
       "      <th>Gilded</th>\n",
       "      <th>Over_18</th>\n",
       "      <th>Number_of_Comments</th>\n",
       "      <th>character_count</th>\n",
       "      <th>word_count</th>\n",
       "      <th>Subjectivity</th>\n",
       "      <th>Polarity</th>\n",
       "      <th>rating</th>\n",
       "    </tr>\n",
       "  </thead>\n",
       "  <tbody>\n",
       "    <tr>\n",
       "      <td>0</td>\n",
       "      <td>House impeaches Trump for second time over Cap...</td>\n",
       "      <td>0.72</td>\n",
       "      <td>39464</td>\n",
       "      <td>2</td>\n",
       "      <td>False</td>\n",
       "      <td>8801</td>\n",
       "      <td>56</td>\n",
       "      <td>9</td>\n",
       "      <td>0.000000</td>\n",
       "      <td>0.000000</td>\n",
       "      <td>{'neg': 0.292, 'neu': 0.708, 'pos': 0.0, 'comp...</td>\n",
       "    </tr>\n",
       "    <tr>\n",
       "      <td>1</td>\n",
       "      <td>I'm a 16 yr old blacksmith and I forged this w...</td>\n",
       "      <td>0.90</td>\n",
       "      <td>29423</td>\n",
       "      <td>0</td>\n",
       "      <td>False</td>\n",
       "      <td>443</td>\n",
       "      <td>85</td>\n",
       "      <td>18</td>\n",
       "      <td>0.200000</td>\n",
       "      <td>0.100000</td>\n",
       "      <td>{'neg': 0.0, 'neu': 0.735, 'pos': 0.265, 'comp...</td>\n",
       "    </tr>\n",
       "    <tr>\n",
       "      <td>2</td>\n",
       "      <td>Do some research before spouting nonsense</td>\n",
       "      <td>0.90</td>\n",
       "      <td>50420</td>\n",
       "      <td>0</td>\n",
       "      <td>False</td>\n",
       "      <td>1008</td>\n",
       "      <td>41</td>\n",
       "      <td>6</td>\n",
       "      <td>0.000000</td>\n",
       "      <td>0.000000</td>\n",
       "      <td>{'neg': 0.351, 'neu': 0.649, 'pos': 0.0, 'comp...</td>\n",
       "    </tr>\n",
       "    <tr>\n",
       "      <td>3</td>\n",
       "      <td>Moving boxes arrive at the White House</td>\n",
       "      <td>0.81</td>\n",
       "      <td>149858</td>\n",
       "      <td>6</td>\n",
       "      <td>False</td>\n",
       "      <td>4392</td>\n",
       "      <td>38</td>\n",
       "      <td>7</td>\n",
       "      <td>0.000000</td>\n",
       "      <td>0.000000</td>\n",
       "      <td>{'neg': 0.0, 'neu': 1.0, 'pos': 0.0, 'compound...</td>\n",
       "    </tr>\n",
       "    <tr>\n",
       "      <td>4</td>\n",
       "      <td>No One Took Us Seriously Black Cops Warned Ab...</td>\n",
       "      <td>0.98</td>\n",
       "      <td>7768</td>\n",
       "      <td>0</td>\n",
       "      <td>False</td>\n",
       "      <td>157</td>\n",
       "      <td>92</td>\n",
       "      <td>15</td>\n",
       "      <td>0.433333</td>\n",
       "      <td>-0.166667</td>\n",
       "      <td>{'neg': 0.476, 'neu': 0.524, 'pos': 0.0, 'comp...</td>\n",
       "    </tr>\n",
       "  </tbody>\n",
       "</table>\n",
       "</div>"
      ],
      "text/plain": [
       "                                               Title  Upvote_ratio   Score  \\\n",
       "0  House impeaches Trump for second time over Cap...          0.72   39464   \n",
       "1  I'm a 16 yr old blacksmith and I forged this w...          0.90   29423   \n",
       "2          Do some research before spouting nonsense          0.90   50420   \n",
       "3             Moving boxes arrive at the White House          0.81  149858   \n",
       "4   No One Took Us Seriously Black Cops Warned Ab...          0.98    7768   \n",
       "\n",
       "   Gilded  Over_18  Number_of_Comments  character_count  word_count  \\\n",
       "0       2    False                8801               56           9   \n",
       "1       0    False                 443               85          18   \n",
       "2       0    False                1008               41           6   \n",
       "3       6    False                4392               38           7   \n",
       "4       0    False                 157               92          15   \n",
       "\n",
       "   Subjectivity  Polarity                                             rating  \n",
       "0      0.000000  0.000000  {'neg': 0.292, 'neu': 0.708, 'pos': 0.0, 'comp...  \n",
       "1      0.200000  0.100000  {'neg': 0.0, 'neu': 0.735, 'pos': 0.265, 'comp...  \n",
       "2      0.000000  0.000000  {'neg': 0.351, 'neu': 0.649, 'pos': 0.0, 'comp...  \n",
       "3      0.000000  0.000000  {'neg': 0.0, 'neu': 1.0, 'pos': 0.0, 'compound...  \n",
       "4      0.433333 -0.166667  {'neg': 0.476, 'neu': 0.524, 'pos': 0.0, 'comp...  "
      ]
     },
     "execution_count": 46,
     "metadata": {},
     "output_type": "execute_result"
    }
   ],
   "source": [
    "reddit.head()"
   ]
  },
  {
   "cell_type": "code",
   "execution_count": 47,
   "metadata": {},
   "outputs": [],
   "source": [
    "reddit = pd.concat([reddit.drop(['rating'], axis=1), reddit['rating'].apply(pd.Series)], axis=1)"
   ]
  },
  {
   "cell_type": "code",
   "execution_count": 48,
   "metadata": {},
   "outputs": [
    {
     "data": {
      "text/html": [
       "<div>\n",
       "<style scoped>\n",
       "    .dataframe tbody tr th:only-of-type {\n",
       "        vertical-align: middle;\n",
       "    }\n",
       "\n",
       "    .dataframe tbody tr th {\n",
       "        vertical-align: top;\n",
       "    }\n",
       "\n",
       "    .dataframe thead th {\n",
       "        text-align: right;\n",
       "    }\n",
       "</style>\n",
       "<table border=\"1\" class=\"dataframe\">\n",
       "  <thead>\n",
       "    <tr style=\"text-align: right;\">\n",
       "      <th></th>\n",
       "      <th>Title</th>\n",
       "      <th>Upvote_ratio</th>\n",
       "      <th>Score</th>\n",
       "      <th>Gilded</th>\n",
       "      <th>Over_18</th>\n",
       "      <th>Number_of_Comments</th>\n",
       "      <th>character_count</th>\n",
       "      <th>word_count</th>\n",
       "      <th>Subjectivity</th>\n",
       "      <th>Polarity</th>\n",
       "      <th>neg</th>\n",
       "      <th>neu</th>\n",
       "      <th>pos</th>\n",
       "      <th>compound</th>\n",
       "    </tr>\n",
       "  </thead>\n",
       "  <tbody>\n",
       "    <tr>\n",
       "      <td>0</td>\n",
       "      <td>House impeaches Trump for second time over Cap...</td>\n",
       "      <td>0.72</td>\n",
       "      <td>39464</td>\n",
       "      <td>2</td>\n",
       "      <td>False</td>\n",
       "      <td>8801</td>\n",
       "      <td>56</td>\n",
       "      <td>9</td>\n",
       "      <td>0.000000</td>\n",
       "      <td>0.000000</td>\n",
       "      <td>0.292</td>\n",
       "      <td>0.708</td>\n",
       "      <td>0.000</td>\n",
       "      <td>-0.5106</td>\n",
       "    </tr>\n",
       "    <tr>\n",
       "      <td>1</td>\n",
       "      <td>I'm a 16 yr old blacksmith and I forged this w...</td>\n",
       "      <td>0.90</td>\n",
       "      <td>29423</td>\n",
       "      <td>0</td>\n",
       "      <td>False</td>\n",
       "      <td>443</td>\n",
       "      <td>85</td>\n",
       "      <td>18</td>\n",
       "      <td>0.200000</td>\n",
       "      <td>0.100000</td>\n",
       "      <td>0.000</td>\n",
       "      <td>0.735</td>\n",
       "      <td>0.265</td>\n",
       "      <td>0.6597</td>\n",
       "    </tr>\n",
       "    <tr>\n",
       "      <td>2</td>\n",
       "      <td>Do some research before spouting nonsense</td>\n",
       "      <td>0.90</td>\n",
       "      <td>50420</td>\n",
       "      <td>0</td>\n",
       "      <td>False</td>\n",
       "      <td>1008</td>\n",
       "      <td>41</td>\n",
       "      <td>6</td>\n",
       "      <td>0.000000</td>\n",
       "      <td>0.000000</td>\n",
       "      <td>0.351</td>\n",
       "      <td>0.649</td>\n",
       "      <td>0.000</td>\n",
       "      <td>-0.4019</td>\n",
       "    </tr>\n",
       "    <tr>\n",
       "      <td>3</td>\n",
       "      <td>Moving boxes arrive at the White House</td>\n",
       "      <td>0.81</td>\n",
       "      <td>149858</td>\n",
       "      <td>6</td>\n",
       "      <td>False</td>\n",
       "      <td>4392</td>\n",
       "      <td>38</td>\n",
       "      <td>7</td>\n",
       "      <td>0.000000</td>\n",
       "      <td>0.000000</td>\n",
       "      <td>0.000</td>\n",
       "      <td>1.000</td>\n",
       "      <td>0.000</td>\n",
       "      <td>0.0000</td>\n",
       "    </tr>\n",
       "    <tr>\n",
       "      <td>4</td>\n",
       "      <td>No One Took Us Seriously Black Cops Warned Ab...</td>\n",
       "      <td>0.98</td>\n",
       "      <td>7768</td>\n",
       "      <td>0</td>\n",
       "      <td>False</td>\n",
       "      <td>157</td>\n",
       "      <td>92</td>\n",
       "      <td>15</td>\n",
       "      <td>0.433333</td>\n",
       "      <td>-0.166667</td>\n",
       "      <td>0.476</td>\n",
       "      <td>0.524</td>\n",
       "      <td>0.000</td>\n",
       "      <td>-0.8402</td>\n",
       "    </tr>\n",
       "  </tbody>\n",
       "</table>\n",
       "</div>"
      ],
      "text/plain": [
       "                                               Title  Upvote_ratio   Score  \\\n",
       "0  House impeaches Trump for second time over Cap...          0.72   39464   \n",
       "1  I'm a 16 yr old blacksmith and I forged this w...          0.90   29423   \n",
       "2          Do some research before spouting nonsense          0.90   50420   \n",
       "3             Moving boxes arrive at the White House          0.81  149858   \n",
       "4   No One Took Us Seriously Black Cops Warned Ab...          0.98    7768   \n",
       "\n",
       "   Gilded  Over_18  Number_of_Comments  character_count  word_count  \\\n",
       "0       2    False                8801               56           9   \n",
       "1       0    False                 443               85          18   \n",
       "2       0    False                1008               41           6   \n",
       "3       6    False                4392               38           7   \n",
       "4       0    False                 157               92          15   \n",
       "\n",
       "   Subjectivity  Polarity    neg    neu    pos  compound  \n",
       "0      0.000000  0.000000  0.292  0.708  0.000   -0.5106  \n",
       "1      0.200000  0.100000  0.000  0.735  0.265    0.6597  \n",
       "2      0.000000  0.000000  0.351  0.649  0.000   -0.4019  \n",
       "3      0.000000  0.000000  0.000  1.000  0.000    0.0000  \n",
       "4      0.433333 -0.166667  0.476  0.524  0.000   -0.8402  "
      ]
     },
     "execution_count": 48,
     "metadata": {},
     "output_type": "execute_result"
    }
   ],
   "source": [
    "reddit.head()"
   ]
  },
  {
   "cell_type": "markdown",
   "metadata": {},
   "source": [
    "# This is the final dataset that we will further use for building our Machine Learning Model"
   ]
  },
  {
   "cell_type": "markdown",
   "metadata": {},
   "source": [
    "### Extracting this dataset and storing it in a separate csv file"
   ]
  },
  {
   "cell_type": "code",
   "execution_count": 49,
   "metadata": {},
   "outputs": [],
   "source": [
    "reddit.to_csv('reddit_final.csv', index = False)"
   ]
  }
 ],
 "metadata": {
  "kernelspec": {
   "display_name": "Python 3",
   "language": "python",
   "name": "python3"
  },
  "language_info": {
   "codemirror_mode": {
    "name": "ipython",
    "version": 3
   },
   "file_extension": ".py",
   "mimetype": "text/x-python",
   "name": "python",
   "nbconvert_exporter": "python",
   "pygments_lexer": "ipython3",
   "version": "3.7.4"
  }
 },
 "nbformat": 4,
 "nbformat_minor": 2
}
