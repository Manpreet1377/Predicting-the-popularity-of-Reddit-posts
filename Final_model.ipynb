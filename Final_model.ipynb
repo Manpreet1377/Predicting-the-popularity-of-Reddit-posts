{
 "cells": [
  {
   "cell_type": "markdown",
   "metadata": {},
   "source": [
    "# Building the Final Model"
   ]
  },
  {
   "cell_type": "code",
   "execution_count": 1,
   "metadata": {},
   "outputs": [],
   "source": [
    "import pandas as pd\n",
    "import numpy as np\n",
    "import matplotlib.pyplot as plt\n",
    "import warnings\n",
    "import seaborn as sns\n",
    "%matplotlib inline\n",
    "warnings.filterwarnings('ignore')"
   ]
  },
  {
   "cell_type": "code",
   "execution_count": 2,
   "metadata": {},
   "outputs": [
    {
     "data": {
      "text/html": [
       "<div>\n",
       "<style scoped>\n",
       "    .dataframe tbody tr th:only-of-type {\n",
       "        vertical-align: middle;\n",
       "    }\n",
       "\n",
       "    .dataframe tbody tr th {\n",
       "        vertical-align: top;\n",
       "    }\n",
       "\n",
       "    .dataframe thead th {\n",
       "        text-align: right;\n",
       "    }\n",
       "</style>\n",
       "<table border=\"1\" class=\"dataframe\">\n",
       "  <thead>\n",
       "    <tr style=\"text-align: right;\">\n",
       "      <th></th>\n",
       "      <th>Unnamed: 0</th>\n",
       "      <th>Title</th>\n",
       "      <th>Upvote_ratio</th>\n",
       "      <th>Score</th>\n",
       "      <th>Gilded</th>\n",
       "      <th>Over_18</th>\n",
       "      <th>Number_of_Comments</th>\n",
       "    </tr>\n",
       "  </thead>\n",
       "  <tbody>\n",
       "    <tr>\n",
       "      <td>0</td>\n",
       "      <td>0</td>\n",
       "      <td>House impeaches Trump for second time over Cap...</td>\n",
       "      <td>0.72</td>\n",
       "      <td>39464</td>\n",
       "      <td>2</td>\n",
       "      <td>False</td>\n",
       "      <td>8801</td>\n",
       "    </tr>\n",
       "    <tr>\n",
       "      <td>1</td>\n",
       "      <td>1</td>\n",
       "      <td>I'm a 16 yr old blacksmith and I forged this w...</td>\n",
       "      <td>0.90</td>\n",
       "      <td>29423</td>\n",
       "      <td>0</td>\n",
       "      <td>False</td>\n",
       "      <td>443</td>\n",
       "    </tr>\n",
       "    <tr>\n",
       "      <td>2</td>\n",
       "      <td>2</td>\n",
       "      <td>Do some research before spouting nonsense</td>\n",
       "      <td>0.90</td>\n",
       "      <td>50420</td>\n",
       "      <td>0</td>\n",
       "      <td>False</td>\n",
       "      <td>1008</td>\n",
       "    </tr>\n",
       "    <tr>\n",
       "      <td>3</td>\n",
       "      <td>3</td>\n",
       "      <td>Moving boxes arrive at the White House</td>\n",
       "      <td>0.81</td>\n",
       "      <td>149858</td>\n",
       "      <td>6</td>\n",
       "      <td>False</td>\n",
       "      <td>4392</td>\n",
       "    </tr>\n",
       "    <tr>\n",
       "      <td>4</td>\n",
       "      <td>4</td>\n",
       "      <td>“No One Took Us Seriously”: Black Cops Warned ...</td>\n",
       "      <td>0.98</td>\n",
       "      <td>7768</td>\n",
       "      <td>0</td>\n",
       "      <td>False</td>\n",
       "      <td>157</td>\n",
       "    </tr>\n",
       "  </tbody>\n",
       "</table>\n",
       "</div>"
      ],
      "text/plain": [
       "   Unnamed: 0                                              Title  \\\n",
       "0           0  House impeaches Trump for second time over Cap...   \n",
       "1           1  I'm a 16 yr old blacksmith and I forged this w...   \n",
       "2           2          Do some research before spouting nonsense   \n",
       "3           3             Moving boxes arrive at the White House   \n",
       "4           4  “No One Took Us Seriously”: Black Cops Warned ...   \n",
       "\n",
       "   Upvote_ratio   Score  Gilded  Over_18  Number_of_Comments  \n",
       "0          0.72   39464       2    False                8801  \n",
       "1          0.90   29423       0    False                 443  \n",
       "2          0.90   50420       0    False                1008  \n",
       "3          0.81  149858       6    False                4392  \n",
       "4          0.98    7768       0    False                 157  "
      ]
     },
     "execution_count": 2,
     "metadata": {},
     "output_type": "execute_result"
    }
   ],
   "source": [
    "final_model = pd.read_csv('reddit.csv')\n",
    "final_model.head()"
   ]
  },
  {
   "cell_type": "code",
   "execution_count": 3,
   "metadata": {},
   "outputs": [
    {
     "data": {
      "text/plain": [
       "(7471, 7)"
      ]
     },
     "execution_count": 3,
     "metadata": {},
     "output_type": "execute_result"
    }
   ],
   "source": [
    "final_model.shape"
   ]
  },
  {
   "cell_type": "code",
   "execution_count": 4,
   "metadata": {},
   "outputs": [],
   "source": [
    "#Dropping the unnamed column\n",
    "final_model.drop('Unnamed: 0', axis = 1, inplace = True)"
   ]
  },
  {
   "cell_type": "code",
   "execution_count": 5,
   "metadata": {},
   "outputs": [],
   "source": [
    "#Dropping duplicate columns\n",
    "\n",
    "final_model.drop_duplicates(keep = 'first', inplace = True)"
   ]
  },
  {
   "cell_type": "code",
   "execution_count": 6,
   "metadata": {},
   "outputs": [
    {
     "data": {
      "text/plain": [
       "Index(['Title', 'Upvote_ratio', 'Score', 'Gilded', 'Over_18',\n",
       "       'Number_of_Comments'],\n",
       "      dtype='object')"
      ]
     },
     "execution_count": 6,
     "metadata": {},
     "output_type": "execute_result"
    }
   ],
   "source": [
    "final_model.columns"
   ]
  },
  {
   "cell_type": "code",
   "execution_count": 7,
   "metadata": {},
   "outputs": [],
   "source": [
    "#NUMBER OF WORDS IN THE TITLE\n",
    "\n",
    "import re\n",
    "def word_count(text):\n",
    "    wordList = re.sub(\"[^\\w]\", \" \",  text).split()\n",
    "    return len(wordList)\n",
    "\n",
    "final_model['word_count'] = final_model['Title'].map(lambda x : word_count(x))"
   ]
  },
  {
   "cell_type": "markdown",
   "metadata": {},
   "source": [
    "## Cleaning the title column"
   ]
  },
  {
   "cell_type": "code",
   "execution_count": 8,
   "metadata": {},
   "outputs": [],
   "source": [
    "from nltk.tokenize import word_tokenize\n",
    "from nltk.stem import WordNetLemmatizer\n",
    "from nltk.stem import PorterStemmer\n",
    "from nltk.corpus import stopwords"
   ]
  },
  {
   "cell_type": "code",
   "execution_count": 9,
   "metadata": {},
   "outputs": [
    {
     "data": {
      "application/javascript": [
       "\n",
       "        if (window._pyforest_update_imports_cell) { window._pyforest_update_imports_cell('import nltk'); }\n",
       "    "
      ],
      "text/plain": [
       "<IPython.core.display.Javascript object>"
      ]
     },
     "metadata": {},
     "output_type": "display_data"
    },
    {
     "name": "stderr",
     "output_type": "stream",
     "text": [
      "[nltk_data] Downloading package stopwords to C:\\nltk_data...\n",
      "[nltk_data]   Package stopwords is already up-to-date!\n"
     ]
    }
   ],
   "source": [
    "#Downloading stopwords from NLTK\n",
    "#We don't remove No and Not as it will help in sentiment analysis\n",
    "nltk.download('stopwords')\n",
    "stop_words = set(stopwords.words('english'))\n",
    "stop_words.remove(\"not\")\n",
    "stop_words.remove(\"no\")"
   ]
  },
  {
   "cell_type": "code",
   "execution_count": 10,
   "metadata": {},
   "outputs": [],
   "source": [
    "#Enforcing proper spacing\n",
    "\n",
    "def spaceURLs(df, column):\n",
    "    '''This method is used to enforce proper spacing\n",
    "    Ex: In the data, you may have '[the image](https://image.xyz)';\n",
    "    this method creates space between alt text (\"the image\") and the URL.'''\n",
    "    data = df.copy()\n",
    "    data.loc[:, column] = data[column].str.replace('\\[|\\]', ' ', regex=True)\n",
    "    return data"
   ]
  },
  {
   "cell_type": "code",
   "execution_count": 11,
   "metadata": {},
   "outputs": [],
   "source": [
    "#Replace URLs\n",
    "\n",
    "def replaceURL(df, column):\n",
    "    data = df.copy()\n",
    "    data.loc[:, column] = data[column].str.replace('\\(http\\S+', 'URL', regex=True)\n",
    "    return data"
   ]
  },
  {
   "cell_type": "code",
   "execution_count": 12,
   "metadata": {},
   "outputs": [],
   "source": [
    "#Removing symbols\n",
    "\n",
    "def removeSymbols(df, column):\n",
    "    data = df.copy()\n",
    "    data.loc[:, column] = data[column].str.replace('/r/', '', regex=True)\n",
    "    data.loc[:, column] = data[column].str.replace('[^\\.\\'A-Za-z0-9]+', ' ', regex=True)\n",
    "    return data"
   ]
  },
  {
   "cell_type": "code",
   "execution_count": 13,
   "metadata": {},
   "outputs": [],
   "source": [
    "#Removing numbers\n",
    "\n",
    "def removeNumbers(df, column):\n",
    "    data = df.copy()\n",
    "    data.loc[:, column] = data[column].str.replace('\\S*\\d\\S*', '', regex=True)\n",
    "    return data"
   ]
  },
  {
   "cell_type": "code",
   "execution_count": 14,
   "metadata": {},
   "outputs": [],
   "source": [
    "#Remove stop words\n",
    "\n",
    "stop_words = stopwords.words('english')\n",
    "stop_words.extend([\"ca\",\"http\"])\n",
    "def no_stop_words(list_tokens):    \n",
    "    tokens_no_stop_word = []\n",
    "    for elt in list_tokens: \n",
    "        tokens_no_stop_word.append([tok for tok in elt if tok not in stop_words])\n",
    "    return(tokens_no_stop_word)"
   ]
  },
  {
   "cell_type": "code",
   "execution_count": 15,
   "metadata": {},
   "outputs": [],
   "source": [
    "data = spaceURLs(final_model, 'Title')\n",
    "data = replaceURL(final_model, 'Title')\n",
    "data = removeNumbers(final_model, 'Title')\n",
    "data = removeSymbols(final_model, 'Title')"
   ]
  },
  {
   "cell_type": "code",
   "execution_count": 16,
   "metadata": {},
   "outputs": [],
   "source": [
    "final_model = data.copy()"
   ]
  },
  {
   "cell_type": "code",
   "execution_count": 17,
   "metadata": {},
   "outputs": [
    {
     "data": {
      "text/html": [
       "<div>\n",
       "<style scoped>\n",
       "    .dataframe tbody tr th:only-of-type {\n",
       "        vertical-align: middle;\n",
       "    }\n",
       "\n",
       "    .dataframe tbody tr th {\n",
       "        vertical-align: top;\n",
       "    }\n",
       "\n",
       "    .dataframe thead th {\n",
       "        text-align: right;\n",
       "    }\n",
       "</style>\n",
       "<table border=\"1\" class=\"dataframe\">\n",
       "  <thead>\n",
       "    <tr style=\"text-align: right;\">\n",
       "      <th></th>\n",
       "      <th>0</th>\n",
       "      <th>1</th>\n",
       "      <th>2</th>\n",
       "      <th>3</th>\n",
       "      <th>4</th>\n",
       "      <th>5</th>\n",
       "      <th>6</th>\n",
       "      <th>7</th>\n",
       "      <th>8</th>\n",
       "      <th>9</th>\n",
       "    </tr>\n",
       "  </thead>\n",
       "  <tbody>\n",
       "    <tr>\n",
       "      <td>Title</td>\n",
       "      <td>House impeaches Trump for second time over Cap...</td>\n",
       "      <td>I'm a 16 yr old blacksmith and I forged this w...</td>\n",
       "      <td>Do some research before spouting nonsense</td>\n",
       "      <td>Moving boxes arrive at the White House</td>\n",
       "      <td>No One Took Us Seriously Black Cops Warned Ab...</td>\n",
       "      <td>US bans all cotton and tomato products from Xi...</td>\n",
       "      <td>Urban explorer of Reddit what was your I bette...</td>\n",
       "      <td>LPT As a lawyer don't take legal advice from R...</td>\n",
       "      <td>Pirate Bay Founder Thinks Parler s Inability t...</td>\n",
       "      <td>GME YOLO update Jan 13 2021</td>\n",
       "    </tr>\n",
       "    <tr>\n",
       "      <td>Upvote_ratio</td>\n",
       "      <td>0.72</td>\n",
       "      <td>0.9</td>\n",
       "      <td>0.9</td>\n",
       "      <td>0.81</td>\n",
       "      <td>0.98</td>\n",
       "      <td>0.88</td>\n",
       "      <td>0.93</td>\n",
       "      <td>0.94</td>\n",
       "      <td>0.88</td>\n",
       "      <td>0.89</td>\n",
       "    </tr>\n",
       "    <tr>\n",
       "      <td>Score</td>\n",
       "      <td>39464</td>\n",
       "      <td>29423</td>\n",
       "      <td>50420</td>\n",
       "      <td>149858</td>\n",
       "      <td>7768</td>\n",
       "      <td>112303</td>\n",
       "      <td>30184</td>\n",
       "      <td>32876</td>\n",
       "      <td>79607</td>\n",
       "      <td>37315</td>\n",
       "    </tr>\n",
       "    <tr>\n",
       "      <td>Gilded</td>\n",
       "      <td>2</td>\n",
       "      <td>0</td>\n",
       "      <td>0</td>\n",
       "      <td>6</td>\n",
       "      <td>0</td>\n",
       "      <td>0</td>\n",
       "      <td>0</td>\n",
       "      <td>0</td>\n",
       "      <td>2</td>\n",
       "      <td>17</td>\n",
       "    </tr>\n",
       "    <tr>\n",
       "      <td>Over_18</td>\n",
       "      <td>False</td>\n",
       "      <td>False</td>\n",
       "      <td>False</td>\n",
       "      <td>False</td>\n",
       "      <td>False</td>\n",
       "      <td>False</td>\n",
       "      <td>True</td>\n",
       "      <td>False</td>\n",
       "      <td>False</td>\n",
       "      <td>False</td>\n",
       "    </tr>\n",
       "    <tr>\n",
       "      <td>Number_of_Comments</td>\n",
       "      <td>8801</td>\n",
       "      <td>443</td>\n",
       "      <td>1008</td>\n",
       "      <td>4392</td>\n",
       "      <td>157</td>\n",
       "      <td>4072</td>\n",
       "      <td>3666</td>\n",
       "      <td>1766</td>\n",
       "      <td>3338</td>\n",
       "      <td>3016</td>\n",
       "    </tr>\n",
       "    <tr>\n",
       "      <td>word_count</td>\n",
       "      <td>9</td>\n",
       "      <td>18</td>\n",
       "      <td>6</td>\n",
       "      <td>7</td>\n",
       "      <td>15</td>\n",
       "      <td>12</td>\n",
       "      <td>11</td>\n",
       "      <td>11</td>\n",
       "      <td>12</td>\n",
       "      <td>6</td>\n",
       "    </tr>\n",
       "  </tbody>\n",
       "</table>\n",
       "</div>"
      ],
      "text/plain": [
       "                                                                    0  \\\n",
       "Title               House impeaches Trump for second time over Cap...   \n",
       "Upvote_ratio                                                     0.72   \n",
       "Score                                                           39464   \n",
       "Gilded                                                              2   \n",
       "Over_18                                                         False   \n",
       "Number_of_Comments                                               8801   \n",
       "word_count                                                          9   \n",
       "\n",
       "                                                                    1  \\\n",
       "Title               I'm a 16 yr old blacksmith and I forged this w...   \n",
       "Upvote_ratio                                                      0.9   \n",
       "Score                                                           29423   \n",
       "Gilded                                                              0   \n",
       "Over_18                                                         False   \n",
       "Number_of_Comments                                                443   \n",
       "word_count                                                         18   \n",
       "\n",
       "                                                            2  \\\n",
       "Title               Do some research before spouting nonsense   \n",
       "Upvote_ratio                                              0.9   \n",
       "Score                                                   50420   \n",
       "Gilded                                                      0   \n",
       "Over_18                                                 False   \n",
       "Number_of_Comments                                       1008   \n",
       "word_count                                                  6   \n",
       "\n",
       "                                                         3  \\\n",
       "Title               Moving boxes arrive at the White House   \n",
       "Upvote_ratio                                          0.81   \n",
       "Score                                               149858   \n",
       "Gilded                                                   6   \n",
       "Over_18                                              False   \n",
       "Number_of_Comments                                    4392   \n",
       "word_count                                               7   \n",
       "\n",
       "                                                                    4  \\\n",
       "Title                No One Took Us Seriously Black Cops Warned Ab...   \n",
       "Upvote_ratio                                                     0.98   \n",
       "Score                                                            7768   \n",
       "Gilded                                                              0   \n",
       "Over_18                                                         False   \n",
       "Number_of_Comments                                                157   \n",
       "word_count                                                         15   \n",
       "\n",
       "                                                                    5  \\\n",
       "Title               US bans all cotton and tomato products from Xi...   \n",
       "Upvote_ratio                                                     0.88   \n",
       "Score                                                          112303   \n",
       "Gilded                                                              0   \n",
       "Over_18                                                         False   \n",
       "Number_of_Comments                                               4072   \n",
       "word_count                                                         12   \n",
       "\n",
       "                                                                    6  \\\n",
       "Title               Urban explorer of Reddit what was your I bette...   \n",
       "Upvote_ratio                                                     0.93   \n",
       "Score                                                           30184   \n",
       "Gilded                                                              0   \n",
       "Over_18                                                          True   \n",
       "Number_of_Comments                                               3666   \n",
       "word_count                                                         11   \n",
       "\n",
       "                                                                    7  \\\n",
       "Title               LPT As a lawyer don't take legal advice from R...   \n",
       "Upvote_ratio                                                     0.94   \n",
       "Score                                                           32876   \n",
       "Gilded                                                              0   \n",
       "Over_18                                                         False   \n",
       "Number_of_Comments                                               1766   \n",
       "word_count                                                         11   \n",
       "\n",
       "                                                                    8  \\\n",
       "Title               Pirate Bay Founder Thinks Parler s Inability t...   \n",
       "Upvote_ratio                                                     0.88   \n",
       "Score                                                           79607   \n",
       "Gilded                                                              2   \n",
       "Over_18                                                         False   \n",
       "Number_of_Comments                                               3338   \n",
       "word_count                                                         12   \n",
       "\n",
       "                                              9  \n",
       "Title               GME YOLO update Jan 13 2021  \n",
       "Upvote_ratio                               0.89  \n",
       "Score                                     37315  \n",
       "Gilded                                       17  \n",
       "Over_18                                   False  \n",
       "Number_of_Comments                         3016  \n",
       "word_count                                    6  "
      ]
     },
     "execution_count": 17,
     "metadata": {},
     "output_type": "execute_result"
    }
   ],
   "source": [
    "final_model.head(10).T"
   ]
  },
  {
   "cell_type": "markdown",
   "metadata": {},
   "source": [
    "# Sentiment Analysis"
   ]
  },
  {
   "cell_type": "code",
   "execution_count": 18,
   "metadata": {},
   "outputs": [],
   "source": [
    "from textblob import TextBlob"
   ]
  },
  {
   "cell_type": "code",
   "execution_count": 19,
   "metadata": {},
   "outputs": [],
   "source": [
    "# Create a function to get the subjectivity\n",
    "def Subjectivity(text):\n",
    "       return TextBlob(text).sentiment.subjectivity\n",
    "    \n",
    "# Create a function to get the polarity\n",
    "def Polarity(text):\n",
    "      return  TextBlob(text).sentiment.polarity"
   ]
  },
  {
   "cell_type": "code",
   "execution_count": 20,
   "metadata": {},
   "outputs": [],
   "source": [
    "final_model['Subjectivity'] = final_model['Title'].apply(Subjectivity)\n",
    "final_model['Polarity'] = final_model['Title'].apply(Polarity)"
   ]
  },
  {
   "cell_type": "code",
   "execution_count": 21,
   "metadata": {},
   "outputs": [
    {
     "data": {
      "text/html": [
       "<div>\n",
       "<style scoped>\n",
       "    .dataframe tbody tr th:only-of-type {\n",
       "        vertical-align: middle;\n",
       "    }\n",
       "\n",
       "    .dataframe tbody tr th {\n",
       "        vertical-align: top;\n",
       "    }\n",
       "\n",
       "    .dataframe thead th {\n",
       "        text-align: right;\n",
       "    }\n",
       "</style>\n",
       "<table border=\"1\" class=\"dataframe\">\n",
       "  <thead>\n",
       "    <tr style=\"text-align: right;\">\n",
       "      <th></th>\n",
       "      <th>Title</th>\n",
       "      <th>Upvote_ratio</th>\n",
       "      <th>Score</th>\n",
       "      <th>Gilded</th>\n",
       "      <th>Over_18</th>\n",
       "      <th>Number_of_Comments</th>\n",
       "      <th>word_count</th>\n",
       "      <th>Subjectivity</th>\n",
       "      <th>Polarity</th>\n",
       "    </tr>\n",
       "  </thead>\n",
       "  <tbody>\n",
       "    <tr>\n",
       "      <td>0</td>\n",
       "      <td>House impeaches Trump for second time over Cap...</td>\n",
       "      <td>0.72</td>\n",
       "      <td>39464</td>\n",
       "      <td>2</td>\n",
       "      <td>False</td>\n",
       "      <td>8801</td>\n",
       "      <td>9</td>\n",
       "      <td>0.000000</td>\n",
       "      <td>0.000000</td>\n",
       "    </tr>\n",
       "    <tr>\n",
       "      <td>1</td>\n",
       "      <td>I'm a 16 yr old blacksmith and I forged this w...</td>\n",
       "      <td>0.90</td>\n",
       "      <td>29423</td>\n",
       "      <td>0</td>\n",
       "      <td>False</td>\n",
       "      <td>443</td>\n",
       "      <td>18</td>\n",
       "      <td>0.200000</td>\n",
       "      <td>0.100000</td>\n",
       "    </tr>\n",
       "    <tr>\n",
       "      <td>2</td>\n",
       "      <td>Do some research before spouting nonsense</td>\n",
       "      <td>0.90</td>\n",
       "      <td>50420</td>\n",
       "      <td>0</td>\n",
       "      <td>False</td>\n",
       "      <td>1008</td>\n",
       "      <td>6</td>\n",
       "      <td>0.000000</td>\n",
       "      <td>0.000000</td>\n",
       "    </tr>\n",
       "    <tr>\n",
       "      <td>3</td>\n",
       "      <td>Moving boxes arrive at the White House</td>\n",
       "      <td>0.81</td>\n",
       "      <td>149858</td>\n",
       "      <td>6</td>\n",
       "      <td>False</td>\n",
       "      <td>4392</td>\n",
       "      <td>7</td>\n",
       "      <td>0.000000</td>\n",
       "      <td>0.000000</td>\n",
       "    </tr>\n",
       "    <tr>\n",
       "      <td>4</td>\n",
       "      <td>No One Took Us Seriously Black Cops Warned Ab...</td>\n",
       "      <td>0.98</td>\n",
       "      <td>7768</td>\n",
       "      <td>0</td>\n",
       "      <td>False</td>\n",
       "      <td>157</td>\n",
       "      <td>15</td>\n",
       "      <td>0.433333</td>\n",
       "      <td>-0.166667</td>\n",
       "    </tr>\n",
       "  </tbody>\n",
       "</table>\n",
       "</div>"
      ],
      "text/plain": [
       "                                               Title  Upvote_ratio   Score  \\\n",
       "0  House impeaches Trump for second time over Cap...          0.72   39464   \n",
       "1  I'm a 16 yr old blacksmith and I forged this w...          0.90   29423   \n",
       "2          Do some research before spouting nonsense          0.90   50420   \n",
       "3             Moving boxes arrive at the White House          0.81  149858   \n",
       "4   No One Took Us Seriously Black Cops Warned Ab...          0.98    7768   \n",
       "\n",
       "   Gilded  Over_18  Number_of_Comments  word_count  Subjectivity  Polarity  \n",
       "0       2    False                8801           9      0.000000  0.000000  \n",
       "1       0    False                 443          18      0.200000  0.100000  \n",
       "2       0    False                1008           6      0.000000  0.000000  \n",
       "3       6    False                4392           7      0.000000  0.000000  \n",
       "4       0    False                 157          15      0.433333 -0.166667  "
      ]
     },
     "execution_count": 21,
     "metadata": {},
     "output_type": "execute_result"
    }
   ],
   "source": [
    "final_model.head()"
   ]
  },
  {
   "cell_type": "code",
   "execution_count": 22,
   "metadata": {},
   "outputs": [],
   "source": [
    "from vaderSentiment.vaderSentiment import SentimentIntensityAnalyzer"
   ]
  },
  {
   "cell_type": "code",
   "execution_count": 23,
   "metadata": {},
   "outputs": [],
   "source": [
    "senti = SentimentIntensityAnalyzer()\n",
    "for sentence in final_model['Title']:\n",
    "    ss = senti.polarity_scores(sentence)"
   ]
  },
  {
   "cell_type": "code",
   "execution_count": 24,
   "metadata": {},
   "outputs": [],
   "source": [
    "import pickle"
   ]
  },
  {
   "cell_type": "code",
   "execution_count": 25,
   "metadata": {},
   "outputs": [],
   "source": [
    "pickle.dump(senti, open('senti.pkl','wb'))"
   ]
  },
  {
   "cell_type": "code",
   "execution_count": 26,
   "metadata": {},
   "outputs": [],
   "source": [
    "#analyzer = SentimentIntensityAnalyzer()\n",
    "final_model['rating'] = final_model['Title'].apply(senti.polarity_scores)"
   ]
  },
  {
   "cell_type": "code",
   "execution_count": 27,
   "metadata": {},
   "outputs": [],
   "source": [
    "final_model = pd.concat([final_model.drop(['rating'], axis=1), final_model['rating'].apply(pd.Series)], axis=1)"
   ]
  },
  {
   "cell_type": "code",
   "execution_count": 28,
   "metadata": {},
   "outputs": [],
   "source": [
    "# data preprocessing\n",
    "from sklearn.feature_extraction.text import ENGLISH_STOP_WORDS\n",
    "import re\n",
    "import nltk\n",
    "from nltk.stem import WordNetLemmatizer,PorterStemmer\n",
    "lemmatizer = WordNetLemmatizer()\n",
    "stemmer = PorterStemmer()\n",
    "\n",
    "def text_preprocess(text):\n",
    "    text = re.sub(r'[^\\w\\s]', '', text) \n",
    "    l_text = [word for word in text.lower().split() if word not in ENGLISH_STOP_WORDS]\n",
    "    stem_words = [stemmer.stem(w) for w in l_text]\n",
    "    lemma_words = [lemmatizer.lemmatize(w) for w in l_text]\n",
    "\n",
    "    return \" \".join(lemma_words)\n",
    "\n",
    "final_model['Title'] = final_model['Title'].map(lambda x : text_preprocess(x))"
   ]
  },
  {
   "cell_type": "code",
   "execution_count": 29,
   "metadata": {},
   "outputs": [],
   "source": [
    "final_model.reset_index(inplace=True, drop=True)"
   ]
  },
  {
   "cell_type": "markdown",
   "metadata": {},
   "source": [
    "# Using the entire dataset to train the model"
   ]
  },
  {
   "cell_type": "markdown",
   "metadata": {},
   "source": [
    "# Splitting the dataset into features and dependent variable"
   ]
  },
  {
   "cell_type": "code",
   "execution_count": 30,
   "metadata": {},
   "outputs": [],
   "source": [
    "X = final_model.drop(['Score'], axis = 1)\n",
    "y = final_model.Score"
   ]
  },
  {
   "cell_type": "markdown",
   "metadata": {},
   "source": [
    "## One Hot Encoding the over_18 column"
   ]
  },
  {
   "cell_type": "code",
   "execution_count": 31,
   "metadata": {},
   "outputs": [],
   "source": [
    "from sklearn.preprocessing import OneHotEncoder\n",
    "\n",
    "ohe = OneHotEncoder(handle_unknown='ignore')\n",
    "ohe.fit(X[['Over_18']])\n",
    "pickle.dump(ohe, open('encoding.pkl','wb'))\n",
    "col_names = [j for sub in ohe.categories_ for j in sub]"
   ]
  },
  {
   "cell_type": "code",
   "execution_count": 32,
   "metadata": {},
   "outputs": [
    {
     "data": {
      "text/plain": [
       "[False, True]"
      ]
     },
     "execution_count": 32,
     "metadata": {},
     "output_type": "execute_result"
    }
   ],
   "source": [
    "col_names"
   ]
  },
  {
   "cell_type": "code",
   "execution_count": 33,
   "metadata": {},
   "outputs": [],
   "source": [
    "#Transforming the encoding\n",
    "\n",
    "trans = ohe.transform(X[['Over_18']])"
   ]
  },
  {
   "cell_type": "code",
   "execution_count": 34,
   "metadata": {},
   "outputs": [],
   "source": [
    "encoded = pd.DataFrame(trans.todense(), columns=col_names)"
   ]
  },
  {
   "cell_type": "code",
   "execution_count": null,
   "metadata": {},
   "outputs": [],
   "source": []
  },
  {
   "cell_type": "markdown",
   "metadata": {},
   "source": [
    "**Converting title column to vector**"
   ]
  },
  {
   "cell_type": "code",
   "execution_count": 35,
   "metadata": {},
   "outputs": [
    {
     "name": "stderr",
     "output_type": "stream",
     "text": [
      "Using TensorFlow backend.\n"
     ]
    }
   ],
   "source": [
    "from keras.preprocessing.text import Tokenizer\n",
    "tokenizer = Tokenizer(num_words=5000)\n",
    "tokenizer.fit_on_texts(X['Title'])"
   ]
  },
  {
   "cell_type": "code",
   "execution_count": 36,
   "metadata": {},
   "outputs": [],
   "source": [
    "word_ind = tokenizer.word_index\n",
    "word_token = {k:[word_ind[k]] for k in word_ind}\n",
    "df_word_token = pd.DataFrame(word_token)\n",
    "df_word_token.to_csv('word_token_final.csv', header=True, index=False)"
   ]
  },
  {
   "cell_type": "code",
   "execution_count": 37,
   "metadata": {},
   "outputs": [],
   "source": [
    "glove_txt = open('glove.6B.100d.txt', encoding=\"utf8\")\n",
    "embed_dict = dict()\n",
    "for line in glove_txt:\n",
    "    records = line.split()\n",
    "    word = records[0]\n",
    "    vector_dimensions = np.asarray(records[1:], dtype='float32')\n",
    "    embed_dict[word] = vector_dimensions\n",
    "glove_txt.close()\n",
    "\n",
    "embed_mat_final = np.zeros((len(word_ind) + 1, 100))\n",
    "for word, index in tokenizer.word_index.items():\n",
    "    embedding_vector = embed_dict.get(word)\n",
    "    if embedding_vector is not None:\n",
    "        embed_mat_final[index] = embedding_vector"
   ]
  },
  {
   "cell_type": "code",
   "execution_count": 38,
   "metadata": {},
   "outputs": [],
   "source": [
    "embedded_matrix = pd.DataFrame(data=embed_mat_final.astype(float))\n",
    "embedded_matrix.to_csv('embedded_final.csv', sep = ' ', header =True, float_format='%.2f', index=False)"
   ]
  },
  {
   "cell_type": "code",
   "execution_count": 39,
   "metadata": {},
   "outputs": [],
   "source": [
    "from keras.preprocessing.sequence import pad_sequences\n",
    "max_len = 300\n",
    "\n",
    "final_title = pad_sequences(tokenizer.texts_to_sequences(X[\"Title\"]), padding='post', maxlen=max_len)\n",
    "train = {}\n",
    "final_train_title = []\n",
    "for i, sentence in enumerate(final_title):\n",
    "    vectors = []\n",
    "    for n in sentence:\n",
    "        vectors.append(embed_mat_final[n])\n",
    "    train[i] = vectors\n",
    "for key in train:\n",
    "    arr = np.array(train[key])\n",
    "    final_train_title.append(np.mean(arr, axis=0))"
   ]
  },
  {
   "cell_type": "code",
   "execution_count": 40,
   "metadata": {},
   "outputs": [
    {
     "data": {
      "text/html": [
       "<div>\n",
       "<style scoped>\n",
       "    .dataframe tbody tr th:only-of-type {\n",
       "        vertical-align: middle;\n",
       "    }\n",
       "\n",
       "    .dataframe tbody tr th {\n",
       "        vertical-align: top;\n",
       "    }\n",
       "\n",
       "    .dataframe thead th {\n",
       "        text-align: right;\n",
       "    }\n",
       "</style>\n",
       "<table border=\"1\" class=\"dataframe\">\n",
       "  <thead>\n",
       "    <tr style=\"text-align: right;\">\n",
       "      <th></th>\n",
       "      <th>0</th>\n",
       "      <th>1</th>\n",
       "      <th>2</th>\n",
       "      <th>3</th>\n",
       "      <th>4</th>\n",
       "      <th>5</th>\n",
       "      <th>6</th>\n",
       "      <th>7</th>\n",
       "      <th>8</th>\n",
       "      <th>9</th>\n",
       "      <th>...</th>\n",
       "      <th>90</th>\n",
       "      <th>91</th>\n",
       "      <th>92</th>\n",
       "      <th>93</th>\n",
       "      <th>94</th>\n",
       "      <th>95</th>\n",
       "      <th>96</th>\n",
       "      <th>97</th>\n",
       "      <th>98</th>\n",
       "      <th>99</th>\n",
       "    </tr>\n",
       "  </thead>\n",
       "  <tbody>\n",
       "    <tr>\n",
       "      <td>0</td>\n",
       "      <td>-0.002113</td>\n",
       "      <td>-0.004449</td>\n",
       "      <td>0.007958</td>\n",
       "      <td>-0.001411</td>\n",
       "      <td>-0.001737</td>\n",
       "      <td>0.011883</td>\n",
       "      <td>-0.003144</td>\n",
       "      <td>0.003628</td>\n",
       "      <td>0.000127</td>\n",
       "      <td>0.002026</td>\n",
       "      <td>...</td>\n",
       "      <td>0.006714</td>\n",
       "      <td>-0.006593</td>\n",
       "      <td>-0.004499</td>\n",
       "      <td>0.004678</td>\n",
       "      <td>-0.009925</td>\n",
       "      <td>-0.002041</td>\n",
       "      <td>0.002959</td>\n",
       "      <td>0.003787</td>\n",
       "      <td>0.011562</td>\n",
       "      <td>-0.005068</td>\n",
       "    </tr>\n",
       "    <tr>\n",
       "      <td>1</td>\n",
       "      <td>0.004027</td>\n",
       "      <td>0.010706</td>\n",
       "      <td>0.003907</td>\n",
       "      <td>-0.013489</td>\n",
       "      <td>-0.001871</td>\n",
       "      <td>0.000078</td>\n",
       "      <td>0.008044</td>\n",
       "      <td>0.000476</td>\n",
       "      <td>-0.008465</td>\n",
       "      <td>-0.005020</td>\n",
       "      <td>...</td>\n",
       "      <td>-0.001516</td>\n",
       "      <td>0.007992</td>\n",
       "      <td>0.008821</td>\n",
       "      <td>0.003444</td>\n",
       "      <td>-0.009619</td>\n",
       "      <td>-0.003693</td>\n",
       "      <td>-0.003268</td>\n",
       "      <td>-0.005906</td>\n",
       "      <td>0.004614</td>\n",
       "      <td>-0.003194</td>\n",
       "    </tr>\n",
       "    <tr>\n",
       "      <td>2</td>\n",
       "      <td>-0.000314</td>\n",
       "      <td>0.003569</td>\n",
       "      <td>0.002010</td>\n",
       "      <td>-0.002045</td>\n",
       "      <td>0.000140</td>\n",
       "      <td>0.000917</td>\n",
       "      <td>0.003223</td>\n",
       "      <td>-0.003422</td>\n",
       "      <td>-0.004678</td>\n",
       "      <td>0.002914</td>\n",
       "      <td>...</td>\n",
       "      <td>0.001020</td>\n",
       "      <td>0.000139</td>\n",
       "      <td>0.000546</td>\n",
       "      <td>-0.000601</td>\n",
       "      <td>0.003563</td>\n",
       "      <td>0.001986</td>\n",
       "      <td>-0.005421</td>\n",
       "      <td>-0.007119</td>\n",
       "      <td>0.002071</td>\n",
       "      <td>0.007355</td>\n",
       "    </tr>\n",
       "    <tr>\n",
       "      <td>3</td>\n",
       "      <td>-0.004728</td>\n",
       "      <td>0.001405</td>\n",
       "      <td>0.007781</td>\n",
       "      <td>-0.002336</td>\n",
       "      <td>0.001861</td>\n",
       "      <td>0.005995</td>\n",
       "      <td>-0.001082</td>\n",
       "      <td>0.005549</td>\n",
       "      <td>-0.000758</td>\n",
       "      <td>-0.002288</td>\n",
       "      <td>...</td>\n",
       "      <td>-0.000519</td>\n",
       "      <td>-0.001332</td>\n",
       "      <td>0.003333</td>\n",
       "      <td>0.002879</td>\n",
       "      <td>-0.012170</td>\n",
       "      <td>-0.003115</td>\n",
       "      <td>-0.002669</td>\n",
       "      <td>0.003307</td>\n",
       "      <td>0.011029</td>\n",
       "      <td>-0.004028</td>\n",
       "    </tr>\n",
       "    <tr>\n",
       "      <td>4</td>\n",
       "      <td>0.004433</td>\n",
       "      <td>-0.005766</td>\n",
       "      <td>0.005804</td>\n",
       "      <td>-0.017402</td>\n",
       "      <td>-0.002426</td>\n",
       "      <td>0.014638</td>\n",
       "      <td>-0.002381</td>\n",
       "      <td>0.006815</td>\n",
       "      <td>-0.000434</td>\n",
       "      <td>0.011609</td>\n",
       "      <td>...</td>\n",
       "      <td>0.005386</td>\n",
       "      <td>-0.014872</td>\n",
       "      <td>-0.008367</td>\n",
       "      <td>0.003606</td>\n",
       "      <td>-0.008192</td>\n",
       "      <td>0.009700</td>\n",
       "      <td>-0.006349</td>\n",
       "      <td>0.001086</td>\n",
       "      <td>0.004418</td>\n",
       "      <td>-0.000856</td>\n",
       "    </tr>\n",
       "  </tbody>\n",
       "</table>\n",
       "<p>5 rows × 100 columns</p>\n",
       "</div>"
      ],
      "text/plain": [
       "         0         1         2         3         4         5         6   \\\n",
       "0 -0.002113 -0.004449  0.007958 -0.001411 -0.001737  0.011883 -0.003144   \n",
       "1  0.004027  0.010706  0.003907 -0.013489 -0.001871  0.000078  0.008044   \n",
       "2 -0.000314  0.003569  0.002010 -0.002045  0.000140  0.000917  0.003223   \n",
       "3 -0.004728  0.001405  0.007781 -0.002336  0.001861  0.005995 -0.001082   \n",
       "4  0.004433 -0.005766  0.005804 -0.017402 -0.002426  0.014638 -0.002381   \n",
       "\n",
       "         7         8         9   ...        90        91        92        93  \\\n",
       "0  0.003628  0.000127  0.002026  ...  0.006714 -0.006593 -0.004499  0.004678   \n",
       "1  0.000476 -0.008465 -0.005020  ... -0.001516  0.007992  0.008821  0.003444   \n",
       "2 -0.003422 -0.004678  0.002914  ...  0.001020  0.000139  0.000546 -0.000601   \n",
       "3  0.005549 -0.000758 -0.002288  ... -0.000519 -0.001332  0.003333  0.002879   \n",
       "4  0.006815 -0.000434  0.011609  ...  0.005386 -0.014872 -0.008367  0.003606   \n",
       "\n",
       "         94        95        96        97        98        99  \n",
       "0 -0.009925 -0.002041  0.002959  0.003787  0.011562 -0.005068  \n",
       "1 -0.009619 -0.003693 -0.003268 -0.005906  0.004614 -0.003194  \n",
       "2  0.003563  0.001986 -0.005421 -0.007119  0.002071  0.007355  \n",
       "3 -0.012170 -0.003115 -0.002669  0.003307  0.011029 -0.004028  \n",
       "4 -0.008192  0.009700 -0.006349  0.001086  0.004418 -0.000856  \n",
       "\n",
       "[5 rows x 100 columns]"
      ]
     },
     "execution_count": 40,
     "metadata": {},
     "output_type": "execute_result"
    }
   ],
   "source": [
    "final_train_title = pd.DataFrame(np.array(final_train_title))\n",
    "final_train_title.head()"
   ]
  },
  {
   "cell_type": "code",
   "execution_count": 41,
   "metadata": {},
   "outputs": [
    {
     "data": {
      "text/plain": [
       "Index(['Title', 'Upvote_ratio', 'Gilded', 'Over_18', 'Number_of_Comments',\n",
       "       'word_count', 'Subjectivity', 'Polarity', 'neg', 'neu', 'pos',\n",
       "       'compound'],\n",
       "      dtype='object')"
      ]
     },
     "execution_count": 41,
     "metadata": {},
     "output_type": "execute_result"
    }
   ],
   "source": [
    "X.columns"
   ]
  },
  {
   "cell_type": "code",
   "execution_count": 42,
   "metadata": {},
   "outputs": [],
   "source": [
    "X.reset_index(inplace=True, drop=True)"
   ]
  },
  {
   "cell_type": "code",
   "execution_count": 43,
   "metadata": {},
   "outputs": [],
   "source": [
    "X = pd.concat([X, final_train_title, encoded], axis=1)"
   ]
  },
  {
   "cell_type": "code",
   "execution_count": 44,
   "metadata": {},
   "outputs": [
    {
     "data": {
      "text/plain": [
       "Index([             'Title',       'Upvote_ratio',             'Gilded',\n",
       "                  'Over_18', 'Number_of_Comments',         'word_count',\n",
       "             'Subjectivity',           'Polarity',                'neg',\n",
       "                      'neu',\n",
       "       ...\n",
       "                         92,                   93,                   94,\n",
       "                         95,                   96,                   97,\n",
       "                         98,                   99,                False,\n",
       "                       True],\n",
       "      dtype='object', length=114)"
      ]
     },
     "execution_count": 44,
     "metadata": {},
     "output_type": "execute_result"
    }
   ],
   "source": [
    "X.columns"
   ]
  },
  {
   "cell_type": "code",
   "execution_count": 45,
   "metadata": {},
   "outputs": [],
   "source": [
    "X.drop(['Over_18', 'Title'], axis = 1, inplace = True)"
   ]
  },
  {
   "cell_type": "code",
   "execution_count": 46,
   "metadata": {},
   "outputs": [
    {
     "data": {
      "text/plain": [
       "array([[ 7.20000000e-01,  2.00000000e+00,  8.80100000e+03, ...,\n",
       "        -5.06847673e-03,  1.00000000e+00,  0.00000000e+00],\n",
       "       [ 9.00000000e-01,  0.00000000e+00,  4.43000000e+02, ...,\n",
       "        -3.19399011e-03,  1.00000000e+00,  0.00000000e+00],\n",
       "       [ 9.00000000e-01,  0.00000000e+00,  1.00800000e+03, ...,\n",
       "         7.35459983e-03,  1.00000000e+00,  0.00000000e+00],\n",
       "       ...,\n",
       "       [ 9.40000000e-01,  0.00000000e+00,  0.00000000e+00, ...,\n",
       "        -2.27840001e-03,  1.00000000e+00,  0.00000000e+00],\n",
       "       [ 9.80000000e-01,  0.00000000e+00,  2.27000000e+02, ...,\n",
       "         5.14300019e-03,  1.00000000e+00,  0.00000000e+00],\n",
       "       [ 8.70000000e-01,  0.00000000e+00,  1.00000000e+01, ...,\n",
       "         3.64199996e-03,  1.00000000e+00,  0.00000000e+00]])"
      ]
     },
     "execution_count": 46,
     "metadata": {},
     "output_type": "execute_result"
    }
   ],
   "source": [
    "import numpy.ma as ma\n",
    "np.where(np.isnan(X), ma.array(X, mask=np.isnan(X)).mean(axis=0), X)"
   ]
  },
  {
   "cell_type": "code",
   "execution_count": 47,
   "metadata": {},
   "outputs": [
    {
     "name": "stdout",
     "output_type": "stream",
     "text": [
      "<class 'pandas.core.frame.DataFrame'>\n",
      "RangeIndex: 7469 entries, 0 to 7468\n",
      "Columns: 112 entries, Upvote_ratio to True\n",
      "dtypes: float64(109), int64(3)\n",
      "memory usage: 6.4 MB\n"
     ]
    }
   ],
   "source": [
    "X.info()"
   ]
  },
  {
   "cell_type": "markdown",
   "metadata": {},
   "source": [
    "## Modelling"
   ]
  },
  {
   "cell_type": "code",
   "execution_count": 48,
   "metadata": {},
   "outputs": [],
   "source": [
    "from xgboost import XGBRegressor\n",
    "xgb = XGBRegressor(random_state = 21)"
   ]
  },
  {
   "cell_type": "code",
   "execution_count": 49,
   "metadata": {},
   "outputs": [
    {
     "name": "stdout",
     "output_type": "stream",
     "text": [
      "[09:48:29] WARNING: src/objective/regression_obj.cu:152: reg:linear is now deprecated in favor of reg:squarederror.\n"
     ]
    },
    {
     "data": {
      "text/plain": [
       "XGBRegressor(base_score=0.5, booster='gbtree', colsample_bylevel=1,\n",
       "             colsample_bynode=1, colsample_bytree=1, gamma=0,\n",
       "             importance_type='gain', learning_rate=0.1, max_delta_step=0,\n",
       "             max_depth=3, min_child_weight=1, missing=None, n_estimators=100,\n",
       "             n_jobs=1, nthread=None, objective='reg:linear', random_state=21,\n",
       "             reg_alpha=0, reg_lambda=1, scale_pos_weight=1, seed=None,\n",
       "             silent=None, subsample=1, verbosity=1)"
      ]
     },
     "execution_count": 49,
     "metadata": {},
     "output_type": "execute_result"
    }
   ],
   "source": [
    "xgb.fit(X, y)"
   ]
  },
  {
   "cell_type": "code",
   "execution_count": 50,
   "metadata": {},
   "outputs": [
    {
     "name": "stdout",
     "output_type": "stream",
     "text": [
      "R-Sq of train data: 1.0\n",
      "RMSE of train data: 0.0\n",
      "MAE  of train data: 0.0\n"
     ]
    }
   ],
   "source": [
    "from sklearn.metrics import mean_squared_error, r2_score, mean_absolute_error\n",
    "from sklearn import metrics\n",
    "train_pred = xgb.predict(X)\n",
    "r2 = r2_score(y, y)\n",
    "mse = mean_squared_error(y, y)\n",
    "mae = mean_absolute_error(y, y)\n",
    "print(f\"R-Sq of train data: {r2:.4}\")\n",
    "print(f\"RMSE of train data: {np.sqrt(mse)}\")\n",
    "print(f\"MAE  of train data: {mae}\")"
   ]
  },
  {
   "cell_type": "markdown",
   "metadata": {},
   "source": [
    "**Creating Booster file to upload XGBRegressor**"
   ]
  },
  {
   "cell_type": "code",
   "execution_count": 51,
   "metadata": {},
   "outputs": [],
   "source": [
    "from xgboost import Booster\n",
    "xgb.save_model('xgb.booster')"
   ]
  },
  {
   "cell_type": "code",
   "execution_count": null,
   "metadata": {},
   "outputs": [],
   "source": []
  },
  {
   "cell_type": "code",
   "execution_count": null,
   "metadata": {},
   "outputs": [],
   "source": []
  }
 ],
 "metadata": {
  "kernelspec": {
   "display_name": "Python 3",
   "language": "python",
   "name": "python3"
  },
  "language_info": {
   "codemirror_mode": {
    "name": "ipython",
    "version": 3
   },
   "file_extension": ".py",
   "mimetype": "text/x-python",
   "name": "python",
   "nbconvert_exporter": "python",
   "pygments_lexer": "ipython3",
   "version": "3.7.4"
  }
 },
 "nbformat": 4,
 "nbformat_minor": 2
}
