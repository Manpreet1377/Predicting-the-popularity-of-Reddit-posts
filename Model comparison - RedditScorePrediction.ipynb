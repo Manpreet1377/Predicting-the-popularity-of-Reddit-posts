{
 "cells": [
  {
   "cell_type": "markdown",
   "metadata": {},
   "source": [
    "## Data dictionary:\n",
    "- **Title:** title of the reddit post\n",
    "- **Upvote_ratio:** the percentage of upvotes from all votes on thread comment is on\n",
    "- **Score:** number of upvotes on the comment\n",
    "- **Gilded:** the number of gilded tags (premium likes) on the comment\n",
    "- **Over_18:** Whether or not the thread has been marked as NSFW\n",
    "- **Number_of_comments:** Number of comments"
   ]
  },
  {
   "cell_type": "code",
   "execution_count": 1,
   "metadata": {},
   "outputs": [],
   "source": [
    "import pandas as pd\n",
    "import numpy as np\n",
    "import matplotlib.pyplot as plt\n",
    "import warnings\n",
    "import seaborn as sns\n",
    "%matplotlib inline\n",
    "warnings.filterwarnings('ignore')"
   ]
  },
  {
   "cell_type": "code",
   "execution_count": 2,
   "metadata": {
    "scrolled": true
   },
   "outputs": [
    {
     "data": {
      "text/html": [
       "<div>\n",
       "<style scoped>\n",
       "    .dataframe tbody tr th:only-of-type {\n",
       "        vertical-align: middle;\n",
       "    }\n",
       "\n",
       "    .dataframe tbody tr th {\n",
       "        vertical-align: top;\n",
       "    }\n",
       "\n",
       "    .dataframe thead th {\n",
       "        text-align: right;\n",
       "    }\n",
       "</style>\n",
       "<table border=\"1\" class=\"dataframe\">\n",
       "  <thead>\n",
       "    <tr style=\"text-align: right;\">\n",
       "      <th></th>\n",
       "      <th>Title</th>\n",
       "      <th>Upvote_ratio</th>\n",
       "      <th>Score</th>\n",
       "      <th>Gilded</th>\n",
       "      <th>Over_18</th>\n",
       "      <th>Number_of_Comments</th>\n",
       "      <th>character_count</th>\n",
       "      <th>word_count</th>\n",
       "      <th>Subjectivity</th>\n",
       "      <th>Polarity</th>\n",
       "      <th>neg</th>\n",
       "      <th>neu</th>\n",
       "      <th>pos</th>\n",
       "      <th>compound</th>\n",
       "    </tr>\n",
       "  </thead>\n",
       "  <tbody>\n",
       "    <tr>\n",
       "      <td>0</td>\n",
       "      <td>House impeaches Trump for second time over Cap...</td>\n",
       "      <td>0.72</td>\n",
       "      <td>39464</td>\n",
       "      <td>2</td>\n",
       "      <td>False</td>\n",
       "      <td>8801</td>\n",
       "      <td>56</td>\n",
       "      <td>9</td>\n",
       "      <td>0.000000</td>\n",
       "      <td>0.000000</td>\n",
       "      <td>0.292</td>\n",
       "      <td>0.708</td>\n",
       "      <td>0.000</td>\n",
       "      <td>-0.5106</td>\n",
       "    </tr>\n",
       "    <tr>\n",
       "      <td>1</td>\n",
       "      <td>I'm a 16 yr old blacksmith and I forged this w...</td>\n",
       "      <td>0.90</td>\n",
       "      <td>29423</td>\n",
       "      <td>0</td>\n",
       "      <td>False</td>\n",
       "      <td>443</td>\n",
       "      <td>85</td>\n",
       "      <td>18</td>\n",
       "      <td>0.200000</td>\n",
       "      <td>0.100000</td>\n",
       "      <td>0.000</td>\n",
       "      <td>0.735</td>\n",
       "      <td>0.265</td>\n",
       "      <td>0.6597</td>\n",
       "    </tr>\n",
       "    <tr>\n",
       "      <td>2</td>\n",
       "      <td>Do some research before spouting nonsense</td>\n",
       "      <td>0.90</td>\n",
       "      <td>50420</td>\n",
       "      <td>0</td>\n",
       "      <td>False</td>\n",
       "      <td>1008</td>\n",
       "      <td>41</td>\n",
       "      <td>6</td>\n",
       "      <td>0.000000</td>\n",
       "      <td>0.000000</td>\n",
       "      <td>0.351</td>\n",
       "      <td>0.649</td>\n",
       "      <td>0.000</td>\n",
       "      <td>-0.4019</td>\n",
       "    </tr>\n",
       "    <tr>\n",
       "      <td>3</td>\n",
       "      <td>Moving boxes arrive at the White House</td>\n",
       "      <td>0.81</td>\n",
       "      <td>149858</td>\n",
       "      <td>6</td>\n",
       "      <td>False</td>\n",
       "      <td>4392</td>\n",
       "      <td>38</td>\n",
       "      <td>7</td>\n",
       "      <td>0.000000</td>\n",
       "      <td>0.000000</td>\n",
       "      <td>0.000</td>\n",
       "      <td>1.000</td>\n",
       "      <td>0.000</td>\n",
       "      <td>0.0000</td>\n",
       "    </tr>\n",
       "    <tr>\n",
       "      <td>4</td>\n",
       "      <td>No One Took Us Seriously Black Cops Warned Ab...</td>\n",
       "      <td>0.98</td>\n",
       "      <td>7768</td>\n",
       "      <td>0</td>\n",
       "      <td>False</td>\n",
       "      <td>157</td>\n",
       "      <td>92</td>\n",
       "      <td>15</td>\n",
       "      <td>0.433333</td>\n",
       "      <td>-0.166667</td>\n",
       "      <td>0.476</td>\n",
       "      <td>0.524</td>\n",
       "      <td>0.000</td>\n",
       "      <td>-0.8402</td>\n",
       "    </tr>\n",
       "  </tbody>\n",
       "</table>\n",
       "</div>"
      ],
      "text/plain": [
       "                                               Title  Upvote_ratio   Score  \\\n",
       "0  House impeaches Trump for second time over Cap...          0.72   39464   \n",
       "1  I'm a 16 yr old blacksmith and I forged this w...          0.90   29423   \n",
       "2          Do some research before spouting nonsense          0.90   50420   \n",
       "3             Moving boxes arrive at the White House          0.81  149858   \n",
       "4   No One Took Us Seriously Black Cops Warned Ab...          0.98    7768   \n",
       "\n",
       "   Gilded  Over_18  Number_of_Comments  character_count  word_count  \\\n",
       "0       2    False                8801               56           9   \n",
       "1       0    False                 443               85          18   \n",
       "2       0    False                1008               41           6   \n",
       "3       6    False                4392               38           7   \n",
       "4       0    False                 157               92          15   \n",
       "\n",
       "   Subjectivity  Polarity    neg    neu    pos  compound  \n",
       "0      0.000000  0.000000  0.292  0.708  0.000   -0.5106  \n",
       "1      0.200000  0.100000  0.000  0.735  0.265    0.6597  \n",
       "2      0.000000  0.000000  0.351  0.649  0.000   -0.4019  \n",
       "3      0.000000  0.000000  0.000  1.000  0.000    0.0000  \n",
       "4      0.433333 -0.166667  0.476  0.524  0.000   -0.8402  "
      ]
     },
     "execution_count": 2,
     "metadata": {},
     "output_type": "execute_result"
    }
   ],
   "source": [
    "final = pd.read_csv('reddit_final.csv')\n",
    "final.head()"
   ]
  },
  {
   "cell_type": "code",
   "execution_count": 3,
   "metadata": {},
   "outputs": [
    {
     "data": {
      "text/plain": [
       "<matplotlib.axes._subplots.AxesSubplot at 0x1510792e288>"
      ]
     },
     "execution_count": 3,
     "metadata": {},
     "output_type": "execute_result"
    },
    {
     "data": {
      "image/png": "[encoded data removed]",
      "text/plain": [
       "<Figure size 432x288 with 1 Axes>"
      ]
     },
     "metadata": {
      "needs_background": "light"
     },
     "output_type": "display_data"
    }
   ],
   "source": [
    "sns.boxplot(final['Number_of_Comments'])"
   ]
  },
  {
   "cell_type": "code",
   "execution_count": 4,
   "metadata": {
    "scrolled": true
   },
   "outputs": [
    {
     "data": {
      "text/html": [
       "<div>\n",
       "<style scoped>\n",
       "    .dataframe tbody tr th:only-of-type {\n",
       "        vertical-align: middle;\n",
       "    }\n",
       "\n",
       "    .dataframe tbody tr th {\n",
       "        vertical-align: top;\n",
       "    }\n",
       "\n",
       "    .dataframe thead th {\n",
       "        text-align: right;\n",
       "    }\n",
       "</style>\n",
       "<table border=\"1\" class=\"dataframe\">\n",
       "  <thead>\n",
       "    <tr style=\"text-align: right;\">\n",
       "      <th></th>\n",
       "      <th>Title</th>\n",
       "      <th>Upvote_ratio</th>\n",
       "      <th>Score</th>\n",
       "      <th>Gilded</th>\n",
       "      <th>Over_18</th>\n",
       "      <th>Number_of_Comments</th>\n",
       "      <th>character_count</th>\n",
       "      <th>word_count</th>\n",
       "      <th>Subjectivity</th>\n",
       "      <th>Polarity</th>\n",
       "      <th>neg</th>\n",
       "      <th>neu</th>\n",
       "      <th>pos</th>\n",
       "      <th>compound</th>\n",
       "    </tr>\n",
       "  </thead>\n",
       "  <tbody>\n",
       "    <tr>\n",
       "      <td>0</td>\n",
       "      <td>House impeaches Trump for second time over Cap...</td>\n",
       "      <td>0.72</td>\n",
       "      <td>39464</td>\n",
       "      <td>2</td>\n",
       "      <td>False</td>\n",
       "      <td>8801</td>\n",
       "      <td>56</td>\n",
       "      <td>9</td>\n",
       "      <td>0.0</td>\n",
       "      <td>0.00</td>\n",
       "      <td>0.292</td>\n",
       "      <td>0.708</td>\n",
       "      <td>0.000</td>\n",
       "      <td>-0.5106</td>\n",
       "    </tr>\n",
       "    <tr>\n",
       "      <td>4170</td>\n",
       "      <td>What is the most obvious lie you have ever bee...</td>\n",
       "      <td>0.91</td>\n",
       "      <td>64969</td>\n",
       "      <td>1</td>\n",
       "      <td>False</td>\n",
       "      <td>24155</td>\n",
       "      <td>53</td>\n",
       "      <td>11</td>\n",
       "      <td>0.5</td>\n",
       "      <td>0.25</td>\n",
       "      <td>0.000</td>\n",
       "      <td>1.000</td>\n",
       "      <td>0.000</td>\n",
       "      <td>0.0000</td>\n",
       "    </tr>\n",
       "    <tr>\n",
       "      <td>4483</td>\n",
       "      <td>Donald Trump impeached for inciting US Capitol...</td>\n",
       "      <td>0.76</td>\n",
       "      <td>169633</td>\n",
       "      <td>10</td>\n",
       "      <td>False</td>\n",
       "      <td>12950</td>\n",
       "      <td>53</td>\n",
       "      <td>8</td>\n",
       "      <td>0.0</td>\n",
       "      <td>0.00</td>\n",
       "      <td>0.340</td>\n",
       "      <td>0.660</td>\n",
       "      <td>0.000</td>\n",
       "      <td>-0.5574</td>\n",
       "    </tr>\n",
       "    <tr>\n",
       "      <td>4875</td>\n",
       "      <td>EA will no longer have exclusive rights of the...</td>\n",
       "      <td>0.93</td>\n",
       "      <td>166637</td>\n",
       "      <td>2</td>\n",
       "      <td>False</td>\n",
       "      <td>8639</td>\n",
       "      <td>62</td>\n",
       "      <td>12</td>\n",
       "      <td>0.0</td>\n",
       "      <td>0.00</td>\n",
       "      <td>0.356</td>\n",
       "      <td>0.552</td>\n",
       "      <td>0.092</td>\n",
       "      <td>-0.6486</td>\n",
       "    </tr>\n",
       "  </tbody>\n",
       "</table>\n",
       "</div>"
      ],
      "text/plain": [
       "                                                  Title  Upvote_ratio   Score  \\\n",
       "0     House impeaches Trump for second time over Cap...          0.72   39464   \n",
       "4170  What is the most obvious lie you have ever bee...          0.91   64969   \n",
       "4483  Donald Trump impeached for inciting US Capitol...          0.76  169633   \n",
       "4875  EA will no longer have exclusive rights of the...          0.93  166637   \n",
       "\n",
       "      Gilded  Over_18  Number_of_Comments  character_count  word_count  \\\n",
       "0          2    False                8801               56           9   \n",
       "4170       1    False               24155               53          11   \n",
       "4483      10    False               12950               53           8   \n",
       "4875       2    False                8639               62          12   \n",
       "\n",
       "      Subjectivity  Polarity    neg    neu    pos  compound  \n",
       "0              0.0      0.00  0.292  0.708  0.000   -0.5106  \n",
       "4170           0.5      0.25  0.000  1.000  0.000    0.0000  \n",
       "4483           0.0      0.00  0.340  0.660  0.000   -0.5574  \n",
       "4875           0.0      0.00  0.356  0.552  0.092   -0.6486  "
      ]
     },
     "execution_count": 4,
     "metadata": {},
     "output_type": "execute_result"
    }
   ],
   "source": [
    "final[final['Number_of_Comments'] >= 7000]"
   ]
  },
  {
   "cell_type": "markdown",
   "metadata": {},
   "source": [
    "**Number of comments has outliers - But we don't remove it since we want to generalize it for other posts**"
   ]
  },
  {
   "cell_type": "code",
   "execution_count": 5,
   "metadata": {},
   "outputs": [
    {
     "data": {
      "text/html": [
       "<div>\n",
       "<style scoped>\n",
       "    .dataframe tbody tr th:only-of-type {\n",
       "        vertical-align: middle;\n",
       "    }\n",
       "\n",
       "    .dataframe tbody tr th {\n",
       "        vertical-align: top;\n",
       "    }\n",
       "\n",
       "    .dataframe thead th {\n",
       "        text-align: right;\n",
       "    }\n",
       "</style>\n",
       "<table border=\"1\" class=\"dataframe\">\n",
       "  <thead>\n",
       "    <tr style=\"text-align: right;\">\n",
       "      <th></th>\n",
       "      <th>Title</th>\n",
       "      <th>Upvote_ratio</th>\n",
       "      <th>Score</th>\n",
       "      <th>Gilded</th>\n",
       "      <th>Over_18</th>\n",
       "      <th>Number_of_Comments</th>\n",
       "      <th>character_count</th>\n",
       "      <th>word_count</th>\n",
       "      <th>Subjectivity</th>\n",
       "      <th>Polarity</th>\n",
       "      <th>neg</th>\n",
       "      <th>neu</th>\n",
       "      <th>pos</th>\n",
       "      <th>compound</th>\n",
       "    </tr>\n",
       "  </thead>\n",
       "  <tbody>\n",
       "  </tbody>\n",
       "</table>\n",
       "</div>"
      ],
      "text/plain": [
       "Empty DataFrame\n",
       "Columns: [Title, Upvote_ratio, Score, Gilded, Over_18, Number_of_Comments, character_count, word_count, Subjectivity, Polarity, neg, neu, pos, compound]\n",
       "Index: []"
      ]
     },
     "execution_count": 5,
     "metadata": {},
     "output_type": "execute_result"
    }
   ],
   "source": [
    "#Checking the repeated columns\n",
    "final[final.duplicated()]"
   ]
  },
  {
   "cell_type": "code",
   "execution_count": 6,
   "metadata": {},
   "outputs": [
    {
     "data": {
      "text/plain": [
       "(7469, 14)"
      ]
     },
     "execution_count": 6,
     "metadata": {},
     "output_type": "execute_result"
    }
   ],
   "source": [
    "final.shape"
   ]
  },
  {
   "cell_type": "code",
   "execution_count": 7,
   "metadata": {
    "scrolled": true
   },
   "outputs": [
    {
     "data": {
      "text/plain": [
       "Index(['Title', 'Upvote_ratio', 'Score', 'Gilded', 'Over_18',\n",
       "       'Number_of_Comments', 'character_count', 'word_count', 'Subjectivity',\n",
       "       'Polarity', 'neg', 'neu', 'pos', 'compound'],\n",
       "      dtype='object')"
      ]
     },
     "execution_count": 7,
     "metadata": {},
     "output_type": "execute_result"
    }
   ],
   "source": [
    "final.columns"
   ]
  },
  {
   "cell_type": "markdown",
   "metadata": {},
   "source": [
    "## Title column cleaning for NLP Operations"
   ]
  },
  {
   "cell_type": "code",
   "execution_count": 8,
   "metadata": {},
   "outputs": [],
   "source": [
    "# data preprocessing\n",
    "from sklearn.feature_extraction.text import ENGLISH_STOP_WORDS\n",
    "import re\n",
    "import nltk\n",
    "from nltk.stem import WordNetLemmatizer,PorterStemmer\n",
    "lemmatizer = WordNetLemmatizer()\n",
    "stemmer = PorterStemmer()\n",
    "\n",
    "def text_preprocess(text):\n",
    "    text = re.sub(r'[^\\w\\s]', '', text) \n",
    "    l_text = [word for word in text.lower().split() if word not in ENGLISH_STOP_WORDS]\n",
    "    stem_words = [stemmer.stem(w) for w in l_text]\n",
    "    lemma_words = [lemmatizer.lemmatize(w) for w in l_text]\n",
    "\n",
    "    return \" \".join(lemma_words)\n",
    "\n",
    "final['Title'] = final['Title'].map(lambda x : text_preprocess(x))"
   ]
  },
  {
   "cell_type": "code",
   "execution_count": 9,
   "metadata": {
    "scrolled": true
   },
   "outputs": [
    {
     "data": {
      "text/html": [
       "<div>\n",
       "<style scoped>\n",
       "    .dataframe tbody tr th:only-of-type {\n",
       "        vertical-align: middle;\n",
       "    }\n",
       "\n",
       "    .dataframe tbody tr th {\n",
       "        vertical-align: top;\n",
       "    }\n",
       "\n",
       "    .dataframe thead th {\n",
       "        text-align: right;\n",
       "    }\n",
       "</style>\n",
       "<table border=\"1\" class=\"dataframe\">\n",
       "  <thead>\n",
       "    <tr style=\"text-align: right;\">\n",
       "      <th></th>\n",
       "      <th>Title</th>\n",
       "      <th>Upvote_ratio</th>\n",
       "      <th>Score</th>\n",
       "      <th>Gilded</th>\n",
       "      <th>Over_18</th>\n",
       "      <th>Number_of_Comments</th>\n",
       "      <th>character_count</th>\n",
       "      <th>word_count</th>\n",
       "      <th>Subjectivity</th>\n",
       "      <th>Polarity</th>\n",
       "      <th>neg</th>\n",
       "      <th>neu</th>\n",
       "      <th>pos</th>\n",
       "      <th>compound</th>\n",
       "    </tr>\n",
       "  </thead>\n",
       "  <tbody>\n",
       "    <tr>\n",
       "      <td>0</td>\n",
       "      <td>house impeaches trump second time capitol riot</td>\n",
       "      <td>0.72</td>\n",
       "      <td>39464</td>\n",
       "      <td>2</td>\n",
       "      <td>False</td>\n",
       "      <td>8801</td>\n",
       "      <td>56</td>\n",
       "      <td>9</td>\n",
       "      <td>0.000000</td>\n",
       "      <td>0.000000</td>\n",
       "      <td>0.292</td>\n",
       "      <td>0.708</td>\n",
       "      <td>0.000</td>\n",
       "      <td>-0.5106</td>\n",
       "    </tr>\n",
       "    <tr>\n",
       "      <td>1</td>\n",
       "      <td>im 16 yr old blacksmith forged whale bottle op...</td>\n",
       "      <td>0.90</td>\n",
       "      <td>29423</td>\n",
       "      <td>0</td>\n",
       "      <td>False</td>\n",
       "      <td>443</td>\n",
       "      <td>85</td>\n",
       "      <td>18</td>\n",
       "      <td>0.200000</td>\n",
       "      <td>0.100000</td>\n",
       "      <td>0.000</td>\n",
       "      <td>0.735</td>\n",
       "      <td>0.265</td>\n",
       "      <td>0.6597</td>\n",
       "    </tr>\n",
       "    <tr>\n",
       "      <td>2</td>\n",
       "      <td>research spouting nonsense</td>\n",
       "      <td>0.90</td>\n",
       "      <td>50420</td>\n",
       "      <td>0</td>\n",
       "      <td>False</td>\n",
       "      <td>1008</td>\n",
       "      <td>41</td>\n",
       "      <td>6</td>\n",
       "      <td>0.000000</td>\n",
       "      <td>0.000000</td>\n",
       "      <td>0.351</td>\n",
       "      <td>0.649</td>\n",
       "      <td>0.000</td>\n",
       "      <td>-0.4019</td>\n",
       "    </tr>\n",
       "    <tr>\n",
       "      <td>3</td>\n",
       "      <td>moving box arrive white house</td>\n",
       "      <td>0.81</td>\n",
       "      <td>149858</td>\n",
       "      <td>6</td>\n",
       "      <td>False</td>\n",
       "      <td>4392</td>\n",
       "      <td>38</td>\n",
       "      <td>7</td>\n",
       "      <td>0.000000</td>\n",
       "      <td>0.000000</td>\n",
       "      <td>0.000</td>\n",
       "      <td>1.000</td>\n",
       "      <td>0.000</td>\n",
       "      <td>0.0000</td>\n",
       "    </tr>\n",
       "    <tr>\n",
       "      <td>4</td>\n",
       "      <td>took seriously black cop warned racist capitol...</td>\n",
       "      <td>0.98</td>\n",
       "      <td>7768</td>\n",
       "      <td>0</td>\n",
       "      <td>False</td>\n",
       "      <td>157</td>\n",
       "      <td>92</td>\n",
       "      <td>15</td>\n",
       "      <td>0.433333</td>\n",
       "      <td>-0.166667</td>\n",
       "      <td>0.476</td>\n",
       "      <td>0.524</td>\n",
       "      <td>0.000</td>\n",
       "      <td>-0.8402</td>\n",
       "    </tr>\n",
       "  </tbody>\n",
       "</table>\n",
       "</div>"
      ],
      "text/plain": [
       "                                               Title  Upvote_ratio   Score  \\\n",
       "0     house impeaches trump second time capitol riot          0.72   39464   \n",
       "1  im 16 yr old blacksmith forged whale bottle op...          0.90   29423   \n",
       "2                         research spouting nonsense          0.90   50420   \n",
       "3                      moving box arrive white house          0.81  149858   \n",
       "4  took seriously black cop warned racist capitol...          0.98    7768   \n",
       "\n",
       "   Gilded  Over_18  Number_of_Comments  character_count  word_count  \\\n",
       "0       2    False                8801               56           9   \n",
       "1       0    False                 443               85          18   \n",
       "2       0    False                1008               41           6   \n",
       "3       6    False                4392               38           7   \n",
       "4       0    False                 157               92          15   \n",
       "\n",
       "   Subjectivity  Polarity    neg    neu    pos  compound  \n",
       "0      0.000000  0.000000  0.292  0.708  0.000   -0.5106  \n",
       "1      0.200000  0.100000  0.000  0.735  0.265    0.6597  \n",
       "2      0.000000  0.000000  0.351  0.649  0.000   -0.4019  \n",
       "3      0.000000  0.000000  0.000  1.000  0.000    0.0000  \n",
       "4      0.433333 -0.166667  0.476  0.524  0.000   -0.8402  "
      ]
     },
     "execution_count": 9,
     "metadata": {},
     "output_type": "execute_result"
    }
   ],
   "source": [
    "final.head()"
   ]
  },
  {
   "cell_type": "code",
   "execution_count": 10,
   "metadata": {
    "scrolled": false
   },
   "outputs": [
    {
     "data": {
      "text/plain": [
       "Index(['Title', 'Upvote_ratio', 'Score', 'Gilded', 'Over_18',\n",
       "       'Number_of_Comments', 'character_count', 'word_count', 'Subjectivity',\n",
       "       'Polarity', 'neg', 'neu', 'pos', 'compound'],\n",
       "      dtype='object')"
      ]
     },
     "execution_count": 10,
     "metadata": {},
     "output_type": "execute_result"
    }
   ],
   "source": [
    "final.columns"
   ]
  },
  {
   "cell_type": "code",
   "execution_count": 11,
   "metadata": {},
   "outputs": [],
   "source": [
    "#Drop unnecessary columns\n",
    "\n",
    "final.drop('character_count', axis = 1, inplace = True)"
   ]
  },
  {
   "cell_type": "markdown",
   "metadata": {},
   "source": [
    "## OneHotEncoding the over_18 column"
   ]
  },
  {
   "cell_type": "code",
   "execution_count": 12,
   "metadata": {},
   "outputs": [],
   "source": [
    "#Over_18 encoding\n",
    "#Getting dumm variables\n",
    "dummies = pd.get_dummies(final['Over_18'])\n",
    "final = pd.concat([final,dummies], axis = 'columns')\n",
    "#dropping Over_18 column and a dummy variable to avoid the dummy variable trap\n",
    "final.drop(['Over_18',True], axis = 'columns', inplace = True)"
   ]
  },
  {
   "cell_type": "code",
   "execution_count": 13,
   "metadata": {
    "scrolled": true
   },
   "outputs": [
    {
     "data": {
      "text/html": [
       "<div>\n",
       "<style scoped>\n",
       "    .dataframe tbody tr th:only-of-type {\n",
       "        vertical-align: middle;\n",
       "    }\n",
       "\n",
       "    .dataframe tbody tr th {\n",
       "        vertical-align: top;\n",
       "    }\n",
       "\n",
       "    .dataframe thead th {\n",
       "        text-align: right;\n",
       "    }\n",
       "</style>\n",
       "<table border=\"1\" class=\"dataframe\">\n",
       "  <thead>\n",
       "    <tr style=\"text-align: right;\">\n",
       "      <th></th>\n",
       "      <th>Title</th>\n",
       "      <th>Upvote_ratio</th>\n",
       "      <th>Score</th>\n",
       "      <th>Gilded</th>\n",
       "      <th>Number_of_Comments</th>\n",
       "      <th>word_count</th>\n",
       "      <th>Subjectivity</th>\n",
       "      <th>Polarity</th>\n",
       "      <th>neg</th>\n",
       "      <th>neu</th>\n",
       "      <th>pos</th>\n",
       "      <th>compound</th>\n",
       "      <th>False</th>\n",
       "    </tr>\n",
       "  </thead>\n",
       "  <tbody>\n",
       "    <tr>\n",
       "      <td>0</td>\n",
       "      <td>house impeaches trump second time capitol riot</td>\n",
       "      <td>0.72</td>\n",
       "      <td>39464</td>\n",
       "      <td>2</td>\n",
       "      <td>8801</td>\n",
       "      <td>9</td>\n",
       "      <td>0.000000</td>\n",
       "      <td>0.000000</td>\n",
       "      <td>0.292</td>\n",
       "      <td>0.708</td>\n",
       "      <td>0.000</td>\n",
       "      <td>-0.5106</td>\n",
       "      <td>1</td>\n",
       "    </tr>\n",
       "    <tr>\n",
       "      <td>1</td>\n",
       "      <td>im 16 yr old blacksmith forged whale bottle op...</td>\n",
       "      <td>0.90</td>\n",
       "      <td>29423</td>\n",
       "      <td>0</td>\n",
       "      <td>443</td>\n",
       "      <td>18</td>\n",
       "      <td>0.200000</td>\n",
       "      <td>0.100000</td>\n",
       "      <td>0.000</td>\n",
       "      <td>0.735</td>\n",
       "      <td>0.265</td>\n",
       "      <td>0.6597</td>\n",
       "      <td>1</td>\n",
       "    </tr>\n",
       "    <tr>\n",
       "      <td>2</td>\n",
       "      <td>research spouting nonsense</td>\n",
       "      <td>0.90</td>\n",
       "      <td>50420</td>\n",
       "      <td>0</td>\n",
       "      <td>1008</td>\n",
       "      <td>6</td>\n",
       "      <td>0.000000</td>\n",
       "      <td>0.000000</td>\n",
       "      <td>0.351</td>\n",
       "      <td>0.649</td>\n",
       "      <td>0.000</td>\n",
       "      <td>-0.4019</td>\n",
       "      <td>1</td>\n",
       "    </tr>\n",
       "    <tr>\n",
       "      <td>3</td>\n",
       "      <td>moving box arrive white house</td>\n",
       "      <td>0.81</td>\n",
       "      <td>149858</td>\n",
       "      <td>6</td>\n",
       "      <td>4392</td>\n",
       "      <td>7</td>\n",
       "      <td>0.000000</td>\n",
       "      <td>0.000000</td>\n",
       "      <td>0.000</td>\n",
       "      <td>1.000</td>\n",
       "      <td>0.000</td>\n",
       "      <td>0.0000</td>\n",
       "      <td>1</td>\n",
       "    </tr>\n",
       "    <tr>\n",
       "      <td>4</td>\n",
       "      <td>took seriously black cop warned racist capitol...</td>\n",
       "      <td>0.98</td>\n",
       "      <td>7768</td>\n",
       "      <td>0</td>\n",
       "      <td>157</td>\n",
       "      <td>15</td>\n",
       "      <td>0.433333</td>\n",
       "      <td>-0.166667</td>\n",
       "      <td>0.476</td>\n",
       "      <td>0.524</td>\n",
       "      <td>0.000</td>\n",
       "      <td>-0.8402</td>\n",
       "      <td>1</td>\n",
       "    </tr>\n",
       "  </tbody>\n",
       "</table>\n",
       "</div>"
      ],
      "text/plain": [
       "                                               Title  Upvote_ratio   Score  \\\n",
       "0     house impeaches trump second time capitol riot          0.72   39464   \n",
       "1  im 16 yr old blacksmith forged whale bottle op...          0.90   29423   \n",
       "2                         research spouting nonsense          0.90   50420   \n",
       "3                      moving box arrive white house          0.81  149858   \n",
       "4  took seriously black cop warned racist capitol...          0.98    7768   \n",
       "\n",
       "   Gilded  Number_of_Comments  word_count  Subjectivity  Polarity    neg  \\\n",
       "0       2                8801           9      0.000000  0.000000  0.292   \n",
       "1       0                 443          18      0.200000  0.100000  0.000   \n",
       "2       0                1008           6      0.000000  0.000000  0.351   \n",
       "3       6                4392           7      0.000000  0.000000  0.000   \n",
       "4       0                 157          15      0.433333 -0.166667  0.476   \n",
       "\n",
       "     neu    pos  compound  False  \n",
       "0  0.708  0.000   -0.5106      1  \n",
       "1  0.735  0.265    0.6597      1  \n",
       "2  0.649  0.000   -0.4019      1  \n",
       "3  1.000  0.000    0.0000      1  \n",
       "4  0.524  0.000   -0.8402      1  "
      ]
     },
     "execution_count": 13,
     "metadata": {},
     "output_type": "execute_result"
    }
   ],
   "source": [
    "final.head()"
   ]
  },
  {
   "cell_type": "code",
   "execution_count": null,
   "metadata": {},
   "outputs": [],
   "source": []
  },
  {
   "cell_type": "markdown",
   "metadata": {},
   "source": [
    "## Splitting data into test and validation sets"
   ]
  },
  {
   "cell_type": "code",
   "execution_count": 14,
   "metadata": {},
   "outputs": [],
   "source": [
    "X = final.drop(['Score'], axis = 1)\n",
    "y = final.Score"
   ]
  },
  {
   "cell_type": "code",
   "execution_count": 15,
   "metadata": {},
   "outputs": [],
   "source": [
    "from sklearn.model_selection import train_test_split\n",
    "X_train, X_test, y_train, y_test = train_test_split(X,y, test_size=0.2, random_state=13)"
   ]
  },
  {
   "cell_type": "markdown",
   "metadata": {},
   "source": [
    "## Converting 'Title' column to vector"
   ]
  },
  {
   "cell_type": "code",
   "execution_count": 16,
   "metadata": {},
   "outputs": [
    {
     "name": "stderr",
     "output_type": "stream",
     "text": [
      "Using TensorFlow backend.\n"
     ]
    }
   ],
   "source": [
    "from keras.preprocessing.text import Tokenizer\n",
    "tokenizer = Tokenizer(num_words=5000)\n",
    "tokenizer.fit_on_texts(X_train['Title'])"
   ]
  },
  {
   "cell_type": "code",
   "execution_count": 17,
   "metadata": {},
   "outputs": [],
   "source": [
    "word_ind = tokenizer.word_index\n",
    "word_token = {k:[word_ind[k]] for k in word_ind}\n",
    "df_word_token = pd.DataFrame(word_token)\n",
    "df_word_token.to_csv('word_token.csv', header=True, index=False)"
   ]
  },
  {
   "cell_type": "code",
   "execution_count": 18,
   "metadata": {},
   "outputs": [],
   "source": [
    "glove_txt = open('glove.6B.100d.txt', encoding=\"utf8\")\n",
    "embed_dict = dict()\n",
    "for line in glove_txt:\n",
    "    records = line.split()\n",
    "    word = records[0]\n",
    "    vector_dimensions = np.asarray(records[1:], dtype='float32')\n",
    "    embed_dict[word] = vector_dimensions\n",
    "glove_txt.close()\n",
    "\n",
    "embed_mat = np.zeros((len(word_ind) + 1, 100))\n",
    "for word, index in tokenizer.word_index.items():\n",
    "    embedding_vector = embed_dict.get(word)\n",
    "    if embedding_vector is not None:\n",
    "        embed_mat[index] = embedding_vector"
   ]
  },
  {
   "cell_type": "code",
   "execution_count": 19,
   "metadata": {},
   "outputs": [],
   "source": [
    "embedded_matrix = pd.DataFrame(data=embed_mat.astype(float))\n",
    "embedded_matrix.to_csv('embedded.csv', sep = ' ', header =True, float_format='%.2f', index=False)"
   ]
  },
  {
   "cell_type": "markdown",
   "metadata": {},
   "source": [
    "## Using GloVe vectors to assign vector value for title"
   ]
  },
  {
   "cell_type": "code",
   "execution_count": 20,
   "metadata": {},
   "outputs": [],
   "source": [
    "from keras.preprocessing.sequence import pad_sequences\n",
    "max_len = 300\n",
    "## train data\n",
    "train_body = pad_sequences(tokenizer.texts_to_sequences(X_train[\"Title\"]), padding='post', maxlen=max_len)\n",
    "train = {}\n",
    "df_train_body = []\n",
    "for i, sentence in enumerate(train_body):\n",
    "    vectors = []\n",
    "    for n in sentence:\n",
    "        vectors.append(embed_mat[n])\n",
    "    train[i] = vectors\n",
    "for key in train:\n",
    "    arr = np.array(train[key])\n",
    "    df_train_body.append(np.mean(arr, axis=0))"
   ]
  },
  {
   "cell_type": "code",
   "execution_count": 21,
   "metadata": {},
   "outputs": [],
   "source": [
    "## test data\n",
    "test_body = pad_sequences(tokenizer.texts_to_sequences(X_test[\"Title\"]), padding='post', maxlen=max_len)\n",
    "test = {}\n",
    "df_test_body = []\n",
    "for i, sentence in enumerate(test_body):\n",
    "    vectors = []\n",
    "    for n in sentence:\n",
    "        vectors.append(embed_mat[n])\n",
    "    test[i] = vectors\n",
    "for key in test:\n",
    "    arr = np.array(test[key])\n",
    "    df_test_body.append(np.mean(arr, axis=0))"
   ]
  },
  {
   "cell_type": "code",
   "execution_count": 22,
   "metadata": {},
   "outputs": [],
   "source": [
    "df_train_body = pd.DataFrame(np.array(df_train_body))\n",
    "df_test_body = pd.DataFrame(np.array(df_test_body))"
   ]
  },
  {
   "cell_type": "code",
   "execution_count": 23,
   "metadata": {},
   "outputs": [
    {
     "data": {
      "text/plain": [
       "(5975, 100)"
      ]
     },
     "execution_count": 23,
     "metadata": {},
     "output_type": "execute_result"
    }
   ],
   "source": [
    "df_train_body.shape"
   ]
  },
  {
   "cell_type": "code",
   "execution_count": 24,
   "metadata": {},
   "outputs": [
    {
     "data": {
      "text/plain": [
       "Index([             'Title',       'Upvote_ratio',             'Gilded',\n",
       "       'Number_of_Comments',         'word_count',       'Subjectivity',\n",
       "                 'Polarity',                'neg',                'neu',\n",
       "                      'pos',           'compound',                False],\n",
       "      dtype='object')"
      ]
     },
     "execution_count": 24,
     "metadata": {},
     "output_type": "execute_result"
    }
   ],
   "source": [
    "X_train.columns"
   ]
  },
  {
   "cell_type": "code",
   "execution_count": 25,
   "metadata": {},
   "outputs": [],
   "source": [
    "X_train.reset_index(inplace=True, drop=True)\n",
    "X_test.reset_index(inplace=True, drop=True)"
   ]
  },
  {
   "cell_type": "code",
   "execution_count": 26,
   "metadata": {},
   "outputs": [],
   "source": [
    "X_train = pd.concat([X_train, df_train_body], axis=1)\n",
    "X_test =  pd.concat([X_test, df_test_body], axis=1)"
   ]
  },
  {
   "cell_type": "code",
   "execution_count": 27,
   "metadata": {},
   "outputs": [
    {
     "data": {
      "text/plain": [
       "((5975, 112), (1494, 112))"
      ]
     },
     "execution_count": 27,
     "metadata": {},
     "output_type": "execute_result"
    }
   ],
   "source": [
    "X_train.shape, X_test.shape"
   ]
  },
  {
   "cell_type": "code",
   "execution_count": 28,
   "metadata": {},
   "outputs": [],
   "source": [
    "X_train.drop('Title', axis =1, inplace = True)\n",
    "X_test.drop('Title', axis =1, inplace = True)"
   ]
  },
  {
   "cell_type": "code",
   "execution_count": 29,
   "metadata": {},
   "outputs": [
    {
     "name": "stdout",
     "output_type": "stream",
     "text": [
      "<class 'pandas.core.frame.DataFrame'>\n",
      "RangeIndex: 5975 entries, 0 to 5974\n",
      "Columns: 111 entries, Upvote_ratio to 99\n",
      "dtypes: float64(107), int64(3), uint8(1)\n",
      "memory usage: 5.0 MB\n"
     ]
    }
   ],
   "source": [
    "X_train.info()"
   ]
  },
  {
   "cell_type": "code",
   "execution_count": 30,
   "metadata": {},
   "outputs": [
    {
     "data": {
      "text/plain": [
       "array([[ 9.50000000e-01,  0.00000000e+00,  7.80000000e+02, ...,\n",
       "        -1.25810668e-02,  1.05726368e-02,  1.66236628e-04],\n",
       "       [ 9.90000000e-01,  0.00000000e+00,  8.70000000e+01, ...,\n",
       "         1.73810005e-03, -9.63133375e-04,  3.83299987e-03],\n",
       "       [ 1.00000000e+00,  0.00000000e+00,  1.70000000e+01, ...,\n",
       "        -1.67303324e-03,  3.95733342e-04,  2.91196664e-03],\n",
       "       ...,\n",
       "       [ 9.70000000e-01,  0.00000000e+00,  4.82000000e+02, ...,\n",
       "        -6.67433292e-04,  6.64103329e-03,  3.57653325e-03],\n",
       "       [ 9.40000000e-01,  0.00000000e+00,  3.21000000e+02, ...,\n",
       "        -1.48166666e-03,  9.67066673e-04, -1.19286666e-03],\n",
       "       [ 1.00000000e+00,  0.00000000e+00,  4.70000000e+01, ...,\n",
       "        -4.28665002e-03,  1.34090006e-03,  2.20423326e-03]])"
      ]
     },
     "execution_count": 30,
     "metadata": {},
     "output_type": "execute_result"
    }
   ],
   "source": [
    "import numpy.ma as ma\n",
    "np.where(np.isnan(X_train), ma.array(X_train, mask=np.isnan(X_train)).mean(axis=0), X_train)  \n",
    "np.where(np.isnan(X_test), ma.array(X_test, mask=np.isnan(X_test)).mean(axis=0), X_test)"
   ]
  },
  {
   "cell_type": "code",
   "execution_count": 31,
   "metadata": {},
   "outputs": [
    {
     "data": {
      "text/plain": [
       "Index([      'Upvote_ratio',             'Gilded', 'Number_of_Comments',\n",
       "               'word_count',       'Subjectivity',           'Polarity',\n",
       "                      'neg',                'neu',                'pos',\n",
       "                 'compound',\n",
       "       ...\n",
       "                         90,                   91,                   92,\n",
       "                         93,                   94,                   95,\n",
       "                         96,                   97,                   98,\n",
       "                         99],\n",
       "      dtype='object', length=111)"
      ]
     },
     "execution_count": 31,
     "metadata": {},
     "output_type": "execute_result"
    }
   ],
   "source": [
    "X_train.columns"
   ]
  },
  {
   "cell_type": "code",
   "execution_count": 32,
   "metadata": {},
   "outputs": [
    {
     "data": {
      "text/html": [
       "<div>\n",
       "<style scoped>\n",
       "    .dataframe tbody tr th:only-of-type {\n",
       "        vertical-align: middle;\n",
       "    }\n",
       "\n",
       "    .dataframe tbody tr th {\n",
       "        vertical-align: top;\n",
       "    }\n",
       "\n",
       "    .dataframe thead th {\n",
       "        text-align: right;\n",
       "    }\n",
       "</style>\n",
       "<table border=\"1\" class=\"dataframe\">\n",
       "  <thead>\n",
       "    <tr style=\"text-align: right;\">\n",
       "      <th></th>\n",
       "      <th>Upvote_ratio</th>\n",
       "      <th>Gilded</th>\n",
       "      <th>Number_of_Comments</th>\n",
       "      <th>word_count</th>\n",
       "      <th>Subjectivity</th>\n",
       "      <th>Polarity</th>\n",
       "      <th>neg</th>\n",
       "      <th>neu</th>\n",
       "      <th>pos</th>\n",
       "      <th>compound</th>\n",
       "      <th>...</th>\n",
       "      <th>90</th>\n",
       "      <th>91</th>\n",
       "      <th>92</th>\n",
       "      <th>93</th>\n",
       "      <th>94</th>\n",
       "      <th>95</th>\n",
       "      <th>96</th>\n",
       "      <th>97</th>\n",
       "      <th>98</th>\n",
       "      <th>99</th>\n",
       "    </tr>\n",
       "  </thead>\n",
       "  <tbody>\n",
       "    <tr>\n",
       "      <td>count</td>\n",
       "      <td>5975.000000</td>\n",
       "      <td>5975.000000</td>\n",
       "      <td>5.975000e+03</td>\n",
       "      <td>5975.000000</td>\n",
       "      <td>5975.000000</td>\n",
       "      <td>5975.000000</td>\n",
       "      <td>5975.000000</td>\n",
       "      <td>5975.000000</td>\n",
       "      <td>5975.000000</td>\n",
       "      <td>5975.000000</td>\n",
       "      <td>...</td>\n",
       "      <td>5975.000000</td>\n",
       "      <td>5975.000000</td>\n",
       "      <td>5975.000000</td>\n",
       "      <td>5975.000000</td>\n",
       "      <td>5975.000000</td>\n",
       "      <td>5975.000000</td>\n",
       "      <td>5975.000000</td>\n",
       "      <td>5975.000000</td>\n",
       "      <td>5975.000000</td>\n",
       "      <td>5975.000000</td>\n",
       "    </tr>\n",
       "    <tr>\n",
       "      <td>mean</td>\n",
       "      <td>0.970208</td>\n",
       "      <td>0.054728</td>\n",
       "      <td>3.021525e-17</td>\n",
       "      <td>8.736067</td>\n",
       "      <td>0.241552</td>\n",
       "      <td>0.061141</td>\n",
       "      <td>0.072125</td>\n",
       "      <td>0.808488</td>\n",
       "      <td>0.114866</td>\n",
       "      <td>0.054519</td>\n",
       "      <td>...</td>\n",
       "      <td>0.000214</td>\n",
       "      <td>-0.000332</td>\n",
       "      <td>0.000797</td>\n",
       "      <td>0.000776</td>\n",
       "      <td>-0.004124</td>\n",
       "      <td>-0.000965</td>\n",
       "      <td>-0.001653</td>\n",
       "      <td>-0.002087</td>\n",
       "      <td>0.003723</td>\n",
       "      <td>0.000498</td>\n",
       "    </tr>\n",
       "    <tr>\n",
       "      <td>std</td>\n",
       "      <td>0.033013</td>\n",
       "      <td>0.382734</td>\n",
       "      <td>1.000084e+00</td>\n",
       "      <td>8.064778</td>\n",
       "      <td>0.324066</td>\n",
       "      <td>0.250484</td>\n",
       "      <td>0.160897</td>\n",
       "      <td>0.245689</td>\n",
       "      <td>0.201431</td>\n",
       "      <td>0.341637</td>\n",
       "      <td>...</td>\n",
       "      <td>0.003333</td>\n",
       "      <td>0.003986</td>\n",
       "      <td>0.003828</td>\n",
       "      <td>0.004193</td>\n",
       "      <td>0.006344</td>\n",
       "      <td>0.003376</td>\n",
       "      <td>0.004174</td>\n",
       "      <td>0.004124</td>\n",
       "      <td>0.005543</td>\n",
       "      <td>0.003981</td>\n",
       "    </tr>\n",
       "    <tr>\n",
       "      <td>min</td>\n",
       "      <td>0.630000</td>\n",
       "      <td>0.000000</td>\n",
       "      <td>-2.983213e-01</td>\n",
       "      <td>0.000000</td>\n",
       "      <td>0.000000</td>\n",
       "      <td>-1.000000</td>\n",
       "      <td>0.000000</td>\n",
       "      <td>0.000000</td>\n",
       "      <td>0.000000</td>\n",
       "      <td>-0.970900</td>\n",
       "      <td>...</td>\n",
       "      <td>-0.029377</td>\n",
       "      <td>-0.032749</td>\n",
       "      <td>-0.032325</td>\n",
       "      <td>-0.021298</td>\n",
       "      <td>-0.076065</td>\n",
       "      <td>-0.030712</td>\n",
       "      <td>-0.041735</td>\n",
       "      <td>-0.040558</td>\n",
       "      <td>-0.016069</td>\n",
       "      <td>-0.048876</td>\n",
       "    </tr>\n",
       "    <tr>\n",
       "      <td>25%</td>\n",
       "      <td>0.960000</td>\n",
       "      <td>0.000000</td>\n",
       "      <td>-2.678361e-01</td>\n",
       "      <td>4.000000</td>\n",
       "      <td>0.000000</td>\n",
       "      <td>0.000000</td>\n",
       "      <td>0.000000</td>\n",
       "      <td>0.656000</td>\n",
       "      <td>0.000000</td>\n",
       "      <td>0.000000</td>\n",
       "      <td>...</td>\n",
       "      <td>-0.001262</td>\n",
       "      <td>-0.001963</td>\n",
       "      <td>-0.000899</td>\n",
       "      <td>-0.001316</td>\n",
       "      <td>-0.006296</td>\n",
       "      <td>-0.002492</td>\n",
       "      <td>-0.003326</td>\n",
       "      <td>-0.003787</td>\n",
       "      <td>0.000000</td>\n",
       "      <td>-0.001300</td>\n",
       "    </tr>\n",
       "    <tr>\n",
       "      <td>50%</td>\n",
       "      <td>0.980000</td>\n",
       "      <td>0.000000</td>\n",
       "      <td>-2.160114e-01</td>\n",
       "      <td>6.000000</td>\n",
       "      <td>0.000000</td>\n",
       "      <td>0.000000</td>\n",
       "      <td>0.000000</td>\n",
       "      <td>1.000000</td>\n",
       "      <td>0.000000</td>\n",
       "      <td>0.000000</td>\n",
       "      <td>...</td>\n",
       "      <td>0.000036</td>\n",
       "      <td>0.000000</td>\n",
       "      <td>0.000455</td>\n",
       "      <td>0.000186</td>\n",
       "      <td>-0.002603</td>\n",
       "      <td>-0.000751</td>\n",
       "      <td>-0.000989</td>\n",
       "      <td>-0.001403</td>\n",
       "      <td>0.002425</td>\n",
       "      <td>0.000356</td>\n",
       "    </tr>\n",
       "    <tr>\n",
       "      <td>75%</td>\n",
       "      <td>0.990000</td>\n",
       "      <td>0.000000</td>\n",
       "      <td>-7.273119e-02</td>\n",
       "      <td>11.000000</td>\n",
       "      <td>0.500000</td>\n",
       "      <td>0.100000</td>\n",
       "      <td>0.000000</td>\n",
       "      <td>1.000000</td>\n",
       "      <td>0.181500</td>\n",
       "      <td>0.250000</td>\n",
       "      <td>...</td>\n",
       "      <td>0.001721</td>\n",
       "      <td>0.001619</td>\n",
       "      <td>0.002547</td>\n",
       "      <td>0.002239</td>\n",
       "      <td>-0.000052</td>\n",
       "      <td>0.000564</td>\n",
       "      <td>0.000482</td>\n",
       "      <td>0.000094</td>\n",
       "      <td>0.005789</td>\n",
       "      <td>0.002509</td>\n",
       "    </tr>\n",
       "    <tr>\n",
       "      <td>max</td>\n",
       "      <td>1.000000</td>\n",
       "      <td>17.000000</td>\n",
       "      <td>2.653166e+01</td>\n",
       "      <td>63.000000</td>\n",
       "      <td>1.000000</td>\n",
       "      <td>1.000000</td>\n",
       "      <td>1.000000</td>\n",
       "      <td>1.000000</td>\n",
       "      <td>1.000000</td>\n",
       "      <td>0.970000</td>\n",
       "      <td>...</td>\n",
       "      <td>0.024137</td>\n",
       "      <td>0.038267</td>\n",
       "      <td>0.063085</td>\n",
       "      <td>0.052795</td>\n",
       "      <td>0.012715</td>\n",
       "      <td>0.024754</td>\n",
       "      <td>0.029304</td>\n",
       "      <td>0.030340</td>\n",
       "      <td>0.058386</td>\n",
       "      <td>0.027171</td>\n",
       "    </tr>\n",
       "  </tbody>\n",
       "</table>\n",
       "<p>8 rows × 111 columns</p>\n",
       "</div>"
      ],
      "text/plain": [
       "       Upvote_ratio       Gilded  Number_of_Comments   word_count  \\\n",
       "count   5975.000000  5975.000000        5.975000e+03  5975.000000   \n",
       "mean       0.970208     0.054728        3.021525e-17     8.736067   \n",
       "std        0.033013     0.382734        1.000084e+00     8.064778   \n",
       "min        0.630000     0.000000       -2.983213e-01     0.000000   \n",
       "25%        0.960000     0.000000       -2.678361e-01     4.000000   \n",
       "50%        0.980000     0.000000       -2.160114e-01     6.000000   \n",
       "75%        0.990000     0.000000       -7.273119e-02    11.000000   \n",
       "max        1.000000    17.000000        2.653166e+01    63.000000   \n",
       "\n",
       "       Subjectivity     Polarity          neg          neu          pos  \\\n",
       "count   5975.000000  5975.000000  5975.000000  5975.000000  5975.000000   \n",
       "mean       0.241552     0.061141     0.072125     0.808488     0.114866   \n",
       "std        0.324066     0.250484     0.160897     0.245689     0.201431   \n",
       "min        0.000000    -1.000000     0.000000     0.000000     0.000000   \n",
       "25%        0.000000     0.000000     0.000000     0.656000     0.000000   \n",
       "50%        0.000000     0.000000     0.000000     1.000000     0.000000   \n",
       "75%        0.500000     0.100000     0.000000     1.000000     0.181500   \n",
       "max        1.000000     1.000000     1.000000     1.000000     1.000000   \n",
       "\n",
       "          compound  ...           90           91           92           93  \\\n",
       "count  5975.000000  ...  5975.000000  5975.000000  5975.000000  5975.000000   \n",
       "mean      0.054519  ...     0.000214    -0.000332     0.000797     0.000776   \n",
       "std       0.341637  ...     0.003333     0.003986     0.003828     0.004193   \n",
       "min      -0.970900  ...    -0.029377    -0.032749    -0.032325    -0.021298   \n",
       "25%       0.000000  ...    -0.001262    -0.001963    -0.000899    -0.001316   \n",
       "50%       0.000000  ...     0.000036     0.000000     0.000455     0.000186   \n",
       "75%       0.250000  ...     0.001721     0.001619     0.002547     0.002239   \n",
       "max       0.970000  ...     0.024137     0.038267     0.063085     0.052795   \n",
       "\n",
       "                94           95           96           97           98  \\\n",
       "count  5975.000000  5975.000000  5975.000000  5975.000000  5975.000000   \n",
       "mean     -0.004124    -0.000965    -0.001653    -0.002087     0.003723   \n",
       "std       0.006344     0.003376     0.004174     0.004124     0.005543   \n",
       "min      -0.076065    -0.030712    -0.041735    -0.040558    -0.016069   \n",
       "25%      -0.006296    -0.002492    -0.003326    -0.003787     0.000000   \n",
       "50%      -0.002603    -0.000751    -0.000989    -0.001403     0.002425   \n",
       "75%      -0.000052     0.000564     0.000482     0.000094     0.005789   \n",
       "max       0.012715     0.024754     0.029304     0.030340     0.058386   \n",
       "\n",
       "                99  \n",
       "count  5975.000000  \n",
       "mean      0.000498  \n",
       "std       0.003981  \n",
       "min      -0.048876  \n",
       "25%      -0.001300  \n",
       "50%       0.000356  \n",
       "75%       0.002509  \n",
       "max       0.027171  \n",
       "\n",
       "[8 rows x 111 columns]"
      ]
     },
     "execution_count": 32,
     "metadata": {},
     "output_type": "execute_result"
    }
   ],
   "source": [
    "from sklearn.preprocessing import StandardScaler\n",
    "\n",
    "ss = StandardScaler()\n",
    "#Fit on training data column\n",
    "scale = ss.fit(X_train[['Number_of_Comments']])\n",
    "#Transform\n",
    "X_train['Number_of_Comments'] = scale.transform(X_train[['Number_of_Comments']])\n",
    "X_train.describe()"
   ]
  },
  {
   "cell_type": "code",
   "execution_count": 33,
   "metadata": {},
   "outputs": [
    {
     "data": {
      "text/html": [
       "<div>\n",
       "<style scoped>\n",
       "    .dataframe tbody tr th:only-of-type {\n",
       "        vertical-align: middle;\n",
       "    }\n",
       "\n",
       "    .dataframe tbody tr th {\n",
       "        vertical-align: top;\n",
       "    }\n",
       "\n",
       "    .dataframe thead th {\n",
       "        text-align: right;\n",
       "    }\n",
       "</style>\n",
       "<table border=\"1\" class=\"dataframe\">\n",
       "  <thead>\n",
       "    <tr style=\"text-align: right;\">\n",
       "      <th></th>\n",
       "      <th>Upvote_ratio</th>\n",
       "      <th>Gilded</th>\n",
       "      <th>Number_of_Comments</th>\n",
       "      <th>word_count</th>\n",
       "      <th>Subjectivity</th>\n",
       "      <th>Polarity</th>\n",
       "      <th>neg</th>\n",
       "      <th>neu</th>\n",
       "      <th>pos</th>\n",
       "      <th>compound</th>\n",
       "      <th>...</th>\n",
       "      <th>90</th>\n",
       "      <th>91</th>\n",
       "      <th>92</th>\n",
       "      <th>93</th>\n",
       "      <th>94</th>\n",
       "      <th>95</th>\n",
       "      <th>96</th>\n",
       "      <th>97</th>\n",
       "      <th>98</th>\n",
       "      <th>99</th>\n",
       "    </tr>\n",
       "  </thead>\n",
       "  <tbody>\n",
       "    <tr>\n",
       "      <td>count</td>\n",
       "      <td>1494.000000</td>\n",
       "      <td>1494.000000</td>\n",
       "      <td>1.494000e+03</td>\n",
       "      <td>1494.000000</td>\n",
       "      <td>1494.000000</td>\n",
       "      <td>1494.000000</td>\n",
       "      <td>1494.000000</td>\n",
       "      <td>1494.000000</td>\n",
       "      <td>1494.000000</td>\n",
       "      <td>1494.000000</td>\n",
       "      <td>...</td>\n",
       "      <td>1494.000000</td>\n",
       "      <td>1494.000000</td>\n",
       "      <td>1494.000000</td>\n",
       "      <td>1494.000000</td>\n",
       "      <td>1494.000000</td>\n",
       "      <td>1494.000000</td>\n",
       "      <td>1494.000000</td>\n",
       "      <td>1494.000000</td>\n",
       "      <td>1494.000000</td>\n",
       "      <td>1494.000000</td>\n",
       "    </tr>\n",
       "    <tr>\n",
       "      <td>mean</td>\n",
       "      <td>0.971734</td>\n",
       "      <td>0.053548</td>\n",
       "      <td>1.964627e-17</td>\n",
       "      <td>9.008701</td>\n",
       "      <td>0.247074</td>\n",
       "      <td>0.054871</td>\n",
       "      <td>0.077115</td>\n",
       "      <td>0.805825</td>\n",
       "      <td>0.112385</td>\n",
       "      <td>0.047944</td>\n",
       "      <td>...</td>\n",
       "      <td>0.000260</td>\n",
       "      <td>-0.000247</td>\n",
       "      <td>0.000603</td>\n",
       "      <td>0.000564</td>\n",
       "      <td>-0.004198</td>\n",
       "      <td>-0.000764</td>\n",
       "      <td>-0.001569</td>\n",
       "      <td>-0.001846</td>\n",
       "      <td>0.003592</td>\n",
       "      <td>0.000678</td>\n",
       "    </tr>\n",
       "    <tr>\n",
       "      <td>std</td>\n",
       "      <td>0.030594</td>\n",
       "      <td>0.381870</td>\n",
       "      <td>1.000335e+00</td>\n",
       "      <td>8.511404</td>\n",
       "      <td>0.322414</td>\n",
       "      <td>0.254067</td>\n",
       "      <td>0.161489</td>\n",
       "      <td>0.236881</td>\n",
       "      <td>0.190352</td>\n",
       "      <td>0.350540</td>\n",
       "      <td>...</td>\n",
       "      <td>0.002890</td>\n",
       "      <td>0.003564</td>\n",
       "      <td>0.003537</td>\n",
       "      <td>0.003662</td>\n",
       "      <td>0.006047</td>\n",
       "      <td>0.003052</td>\n",
       "      <td>0.003634</td>\n",
       "      <td>0.003681</td>\n",
       "      <td>0.005145</td>\n",
       "      <td>0.003940</td>\n",
       "    </tr>\n",
       "    <tr>\n",
       "      <td>min</td>\n",
       "      <td>0.740000</td>\n",
       "      <td>0.000000</td>\n",
       "      <td>-1.436322e-01</td>\n",
       "      <td>0.000000</td>\n",
       "      <td>0.000000</td>\n",
       "      <td>-1.000000</td>\n",
       "      <td>0.000000</td>\n",
       "      <td>0.000000</td>\n",
       "      <td>0.000000</td>\n",
       "      <td>-0.901400</td>\n",
       "      <td>...</td>\n",
       "      <td>-0.030980</td>\n",
       "      <td>-0.020770</td>\n",
       "      <td>-0.027651</td>\n",
       "      <td>-0.022437</td>\n",
       "      <td>-0.044818</td>\n",
       "      <td>-0.028499</td>\n",
       "      <td>-0.024418</td>\n",
       "      <td>-0.031599</td>\n",
       "      <td>-0.007155</td>\n",
       "      <td>-0.029621</td>\n",
       "    </tr>\n",
       "    <tr>\n",
       "      <td>25%</td>\n",
       "      <td>0.960000</td>\n",
       "      <td>0.000000</td>\n",
       "      <td>-1.306455e-01</td>\n",
       "      <td>4.000000</td>\n",
       "      <td>0.000000</td>\n",
       "      <td>0.000000</td>\n",
       "      <td>0.000000</td>\n",
       "      <td>0.649250</td>\n",
       "      <td>0.000000</td>\n",
       "      <td>0.000000</td>\n",
       "      <td>...</td>\n",
       "      <td>-0.001181</td>\n",
       "      <td>-0.001754</td>\n",
       "      <td>-0.000907</td>\n",
       "      <td>-0.001264</td>\n",
       "      <td>-0.006275</td>\n",
       "      <td>-0.002079</td>\n",
       "      <td>-0.003111</td>\n",
       "      <td>-0.003408</td>\n",
       "      <td>0.000000</td>\n",
       "      <td>-0.001002</td>\n",
       "    </tr>\n",
       "    <tr>\n",
       "      <td>50%</td>\n",
       "      <td>0.980000</td>\n",
       "      <td>0.000000</td>\n",
       "      <td>-1.124640e-01</td>\n",
       "      <td>7.000000</td>\n",
       "      <td>0.000000</td>\n",
       "      <td>0.000000</td>\n",
       "      <td>0.000000</td>\n",
       "      <td>0.899000</td>\n",
       "      <td>0.000000</td>\n",
       "      <td>0.000000</td>\n",
       "      <td>...</td>\n",
       "      <td>0.000000</td>\n",
       "      <td>0.000000</td>\n",
       "      <td>0.000347</td>\n",
       "      <td>0.000133</td>\n",
       "      <td>-0.002550</td>\n",
       "      <td>-0.000449</td>\n",
       "      <td>-0.000898</td>\n",
       "      <td>-0.001193</td>\n",
       "      <td>0.002376</td>\n",
       "      <td>0.000420</td>\n",
       "    </tr>\n",
       "    <tr>\n",
       "      <td>75%</td>\n",
       "      <td>0.990000</td>\n",
       "      <td>0.000000</td>\n",
       "      <td>-5.791968e-02</td>\n",
       "      <td>11.000000</td>\n",
       "      <td>0.500000</td>\n",
       "      <td>0.082500</td>\n",
       "      <td>0.032000</td>\n",
       "      <td>1.000000</td>\n",
       "      <td>0.194500</td>\n",
       "      <td>0.273200</td>\n",
       "      <td>...</td>\n",
       "      <td>0.001594</td>\n",
       "      <td>0.001499</td>\n",
       "      <td>0.002148</td>\n",
       "      <td>0.002127</td>\n",
       "      <td>-0.000035</td>\n",
       "      <td>0.000748</td>\n",
       "      <td>0.000279</td>\n",
       "      <td>0.000210</td>\n",
       "      <td>0.005607</td>\n",
       "      <td>0.002541</td>\n",
       "    </tr>\n",
       "    <tr>\n",
       "      <td>max</td>\n",
       "      <td>1.000000</td>\n",
       "      <td>10.000000</td>\n",
       "      <td>3.122586e+01</td>\n",
       "      <td>60.000000</td>\n",
       "      <td>1.000000</td>\n",
       "      <td>1.000000</td>\n",
       "      <td>1.000000</td>\n",
       "      <td>1.000000</td>\n",
       "      <td>1.000000</td>\n",
       "      <td>0.944200</td>\n",
       "      <td>...</td>\n",
       "      <td>0.017966</td>\n",
       "      <td>0.020064</td>\n",
       "      <td>0.016919</td>\n",
       "      <td>0.025798</td>\n",
       "      <td>0.008124</td>\n",
       "      <td>0.018909</td>\n",
       "      <td>0.015961</td>\n",
       "      <td>0.014580</td>\n",
       "      <td>0.036178</td>\n",
       "      <td>0.034166</td>\n",
       "    </tr>\n",
       "  </tbody>\n",
       "</table>\n",
       "<p>8 rows × 111 columns</p>\n",
       "</div>"
      ],
      "text/plain": [
       "       Upvote_ratio       Gilded  Number_of_Comments   word_count  \\\n",
       "count   1494.000000  1494.000000        1.494000e+03  1494.000000   \n",
       "mean       0.971734     0.053548        1.964627e-17     9.008701   \n",
       "std        0.030594     0.381870        1.000335e+00     8.511404   \n",
       "min        0.740000     0.000000       -1.436322e-01     0.000000   \n",
       "25%        0.960000     0.000000       -1.306455e-01     4.000000   \n",
       "50%        0.980000     0.000000       -1.124640e-01     7.000000   \n",
       "75%        0.990000     0.000000       -5.791968e-02    11.000000   \n",
       "max        1.000000    10.000000        3.122586e+01    60.000000   \n",
       "\n",
       "       Subjectivity     Polarity          neg          neu          pos  \\\n",
       "count   1494.000000  1494.000000  1494.000000  1494.000000  1494.000000   \n",
       "mean       0.247074     0.054871     0.077115     0.805825     0.112385   \n",
       "std        0.322414     0.254067     0.161489     0.236881     0.190352   \n",
       "min        0.000000    -1.000000     0.000000     0.000000     0.000000   \n",
       "25%        0.000000     0.000000     0.000000     0.649250     0.000000   \n",
       "50%        0.000000     0.000000     0.000000     0.899000     0.000000   \n",
       "75%        0.500000     0.082500     0.032000     1.000000     0.194500   \n",
       "max        1.000000     1.000000     1.000000     1.000000     1.000000   \n",
       "\n",
       "          compound  ...           90           91           92           93  \\\n",
       "count  1494.000000  ...  1494.000000  1494.000000  1494.000000  1494.000000   \n",
       "mean      0.047944  ...     0.000260    -0.000247     0.000603     0.000564   \n",
       "std       0.350540  ...     0.002890     0.003564     0.003537     0.003662   \n",
       "min      -0.901400  ...    -0.030980    -0.020770    -0.027651    -0.022437   \n",
       "25%       0.000000  ...    -0.001181    -0.001754    -0.000907    -0.001264   \n",
       "50%       0.000000  ...     0.000000     0.000000     0.000347     0.000133   \n",
       "75%       0.273200  ...     0.001594     0.001499     0.002148     0.002127   \n",
       "max       0.944200  ...     0.017966     0.020064     0.016919     0.025798   \n",
       "\n",
       "                94           95           96           97           98  \\\n",
       "count  1494.000000  1494.000000  1494.000000  1494.000000  1494.000000   \n",
       "mean     -0.004198    -0.000764    -0.001569    -0.001846     0.003592   \n",
       "std       0.006047     0.003052     0.003634     0.003681     0.005145   \n",
       "min      -0.044818    -0.028499    -0.024418    -0.031599    -0.007155   \n",
       "25%      -0.006275    -0.002079    -0.003111    -0.003408     0.000000   \n",
       "50%      -0.002550    -0.000449    -0.000898    -0.001193     0.002376   \n",
       "75%      -0.000035     0.000748     0.000279     0.000210     0.005607   \n",
       "max       0.008124     0.018909     0.015961     0.014580     0.036178   \n",
       "\n",
       "                99  \n",
       "count  1494.000000  \n",
       "mean      0.000678  \n",
       "std       0.003940  \n",
       "min      -0.029621  \n",
       "25%      -0.001002  \n",
       "50%       0.000420  \n",
       "75%       0.002541  \n",
       "max       0.034166  \n",
       "\n",
       "[8 rows x 111 columns]"
      ]
     },
     "execution_count": 33,
     "metadata": {},
     "output_type": "execute_result"
    }
   ],
   "source": [
    "from sklearn.preprocessing import StandardScaler\n",
    "\n",
    "ss = StandardScaler()\n",
    "#Fit on training data column\n",
    "scale = ss.fit(X_test[['Number_of_Comments']])\n",
    "#Transform\n",
    "X_test['Number_of_Comments'] = scale.transform(X_test[['Number_of_Comments']])\n",
    "X_test.describe()"
   ]
  },
  {
   "cell_type": "code",
   "execution_count": 34,
   "metadata": {},
   "outputs": [],
   "source": [
    "from sklearn.metrics import mean_squared_error, r2_score, mean_absolute_error\n",
    "from sklearn import metrics\n",
    "def model_scores(model):\n",
    "    train_pred = model.predict(X_train)\n",
    "    r2 = r2_score(y_train, train_pred)\n",
    "    mse = mean_squared_error(y_train, train_pred)\n",
    "    mae = mean_absolute_error(y_train, train_pred)\n",
    "    print(f\"R-Sq of train data: {r2:.4}\")\n",
    "    print(f\"RMSE of train data: {np.sqrt(mse)}\")\n",
    "    print(f\"MAE  of train data: {mae}\")\n",
    "    print(\"*\"*60)\n",
    "    \n",
    "    y_predicted = model.predict(X_test)\n",
    "    r2 = r2_score(y_test, y_predicted)\n",
    "    mse = mean_squared_error(y_test, y_predicted)\n",
    "    mae = mean_absolute_error(y_test, y_predicted)\n",
    "    print(f\"R-Sq of test data: {r2:.4}\")\n",
    "    print(f\"RMSE of test data: {np.sqrt(mse)}\")\n",
    "    print(f\"MAE of test data: {mae}\")\n",
    "    \n",
    "    return [r2,np.sqrt(mse),mae]  \n",
    "\n",
    "\n",
    "model_metrics = dict()"
   ]
  },
  {
   "cell_type": "markdown",
   "metadata": {},
   "source": [
    "## Models"
   ]
  },
  {
   "cell_type": "markdown",
   "metadata": {},
   "source": [
    "## Linear Regression"
   ]
  },
  {
   "cell_type": "code",
   "execution_count": 35,
   "metadata": {},
   "outputs": [
    {
     "name": "stdout",
     "output_type": "stream",
     "text": [
      "R-Sq of train data: 0.435\n",
      "RMSE of train data: 8049.971243342024\n",
      "MAE  of train data: 3753.3623046682046\n",
      "************************************************************\n",
      "R-Sq of test data: 0.3652\n",
      "RMSE of test data: 8318.34040087648\n",
      "MAE of test data: 3842.1760793636145\n"
     ]
    }
   ],
   "source": [
    "from sklearn.linear_model import LinearRegression\n",
    "linear = LinearRegression(copy_X=True, fit_intercept=True, n_jobs=1, normalize=False)\n",
    "linear.fit(X_train,y_train)\n",
    "model_metrics[\"Linear Regression\"] = model_scores(linear)"
   ]
  },
  {
   "cell_type": "markdown",
   "metadata": {},
   "source": [
    "## RandomForest Regressor"
   ]
  },
  {
   "cell_type": "code",
   "execution_count": 36,
   "metadata": {},
   "outputs": [],
   "source": [
    "from sklearn.model_selection import GridSearchCV\n",
    "from sklearn.ensemble import RandomForestRegressor"
   ]
  },
  {
   "cell_type": "code",
   "execution_count": 37,
   "metadata": {},
   "outputs": [
    {
     "name": "stdout",
     "output_type": "stream",
     "text": [
      "R-Sq of train data: 0.7551\n",
      "RMSE of train data: 5299.436152285089\n",
      "MAE  of train data: 1964.584156825985\n",
      "************************************************************\n",
      "R-Sq of test data: 0.5099\n",
      "RMSE of test data: 7309.28810756903\n",
      "MAE of test data: 3866.208810468631\n"
     ]
    }
   ],
   "source": [
    "rf = RandomForestRegressor(n_jobs=-1, n_estimators=70, min_samples_leaf=10, random_state = 10)\n",
    "rf.fit(X_train, y_train) \n",
    "model_metrics[\"Random Forest\"] = model_scores(rf)"
   ]
  },
  {
   "cell_type": "markdown",
   "metadata": {},
   "source": [
    "## Logistic Regression"
   ]
  },
  {
   "cell_type": "code",
   "execution_count": 38,
   "metadata": {},
   "outputs": [
    {
     "name": "stdout",
     "output_type": "stream",
     "text": [
      "R-Sq of train data: 0.09421\n",
      "RMSE of train data: 10192.540752167857\n",
      "MAE  of train data: 3600.61640167364\n",
      "************************************************************\n",
      "R-Sq of test data: 0.1105\n",
      "RMSE of test data: 9847.280077311572\n",
      "MAE of test data: 3316.1499330655956\n"
     ]
    }
   ],
   "source": [
    "from sklearn.linear_model import LogisticRegression\n",
    "logreg = LogisticRegression(solver='lbfgs',max_iter=1000)\n",
    "logreg.fit(X_train,y_train)\n",
    "model_metrics[\"Logistic Regression\"] = model_scores(logreg)"
   ]
  },
  {
   "cell_type": "markdown",
   "metadata": {},
   "source": [
    "## DecisionTree"
   ]
  },
  {
   "cell_type": "code",
   "execution_count": 39,
   "metadata": {},
   "outputs": [],
   "source": [
    "from sklearn.tree import DecisionTreeRegressor\n",
    "DecTree= DecisionTreeRegressor()"
   ]
  },
  {
   "cell_type": "code",
   "execution_count": 40,
   "metadata": {},
   "outputs": [
    {
     "name": "stdout",
     "output_type": "stream",
     "text": [
      "R-Sq of train data: 1.0\n",
      "RMSE of train data: 57.533630038226974\n",
      "MAE  of train data: 4.056298067344092\n",
      "************************************************************\n",
      "R-Sq of test data: 0.1164\n",
      "RMSE of test data: 9814.459231350891\n",
      "MAE of test data: 4769.806224899598\n"
     ]
    }
   ],
   "source": [
    "DecTree.fit(X_train, y_train)\n",
    "model_metrics[\"Decision Trees\"] = model_scores(DecTree)"
   ]
  },
  {
   "cell_type": "markdown",
   "metadata": {},
   "source": [
    "## XGBoost"
   ]
  },
  {
   "cell_type": "code",
   "execution_count": 41,
   "metadata": {},
   "outputs": [],
   "source": [
    "from xgboost import XGBRegressor\n",
    "xgb = XGBRegressor()"
   ]
  },
  {
   "cell_type": "code",
   "execution_count": 42,
   "metadata": {
    "scrolled": true
   },
   "outputs": [
    {
     "name": "stdout",
     "output_type": "stream",
     "text": [
      "[13:36:58] WARNING: src/objective/regression_obj.cu:152: reg:linear is now deprecated in favor of reg:squarederror.\n",
      "R-Sq of train data: 0.8051\n",
      "RMSE of train data: 4727.627915071349\n",
      "MAE  of train data: 2218.8119524354815\n",
      "************************************************************\n",
      "R-Sq of test data: 0.5485\n",
      "RMSE of test data: 7015.455823878739\n",
      "MAE of test data: 3545.277582079212\n"
     ]
    }
   ],
   "source": [
    "xgb.fit(X_train, y_train)\n",
    "model_metrics[\"XGBoost\"] = model_scores(xgb)"
   ]
  },
  {
   "cell_type": "markdown",
   "metadata": {},
   "source": [
    "## Model Comparison - RMSE, MAE, R2"
   ]
  },
  {
   "cell_type": "code",
   "execution_count": 43,
   "metadata": {},
   "outputs": [],
   "source": [
    "def model_comparison(model_metrics, sort_by = 'RMSE', metric = 'RMSE'):\n",
    "\n",
    "    Rsq_list = []\n",
    "    RMSE_list = []\n",
    "    MAE_list = []\n",
    "    for key in model_metrics.keys():\n",
    "        Rsq_list.append(round(model_metrics[key][0],2))\n",
    "        RMSE_list.append(round(model_metrics[key][1],0))\n",
    "        MAE_list.append(round(model_metrics[key][2],0))\n",
    "\n",
    "    props = pd.DataFrame([])\n",
    "\n",
    "    props[\"R-squared\"] = Rsq_list\n",
    "    props[\"RMSE\"] = RMSE_list\n",
    "    props[\"MAE\"] = MAE_list\n",
    "    props.index = model_metrics.keys()\n",
    "    props = props.sort_values(by = sort_by, ascending=False)\n",
    "\n",
    "    fig, ax = plt.subplots(figsize = (12,6))\n",
    "\n",
    "    ax.bar(props.index.sort_values(), props[metric], color=\"blue\")\n",
    "    xt = props.index\n",
    "    ax.set_xticklabels(xt)\n",
    "    plt.title(metric)\n",
    "    plt.xlabel('Model') \n",
    "    plt.xticks(rotation = 45)\n",
    "    plt.ylabel(metric)\n",
    "    \n",
    "   \n",
    "    for i, v in enumerate(props[metric]):\n",
    "        ax.text(i-.25, \n",
    "              v/props[metric][i]-.8, \n",
    "              props[metric][i], \n",
    "              fontsize=9, \n",
    "              color='WHITE')"
   ]
  },
  {
   "cell_type": "code",
   "execution_count": 44,
   "metadata": {},
   "outputs": [
    {
     "data": {
      "image/png": "[encoded data removed]",
      "text/plain": [
       "<Figure size 864x432 with 1 Axes>"
      ]
     },
     "metadata": {
      "needs_background": "light"
     },
     "output_type": "display_data"
    }
   ],
   "source": [
    "model_comparison(model_metrics, sort_by = 'R-squared', metric = 'R-squared')"
   ]
  },
  {
   "cell_type": "code",
   "execution_count": 45,
   "metadata": {},
   "outputs": [
    {
     "data": {
      "image/png": "[encoded data removed]",
      "text/plain": [
       "<Figure size 864x432 with 1 Axes>"
      ]
     },
     "metadata": {
      "needs_background": "light"
     },
     "output_type": "display_data"
    }
   ],
   "source": [
    "model_comparison(model_metrics, sort_by = 'RMSE', metric = 'RMSE')"
   ]
  },
  {
   "cell_type": "code",
   "execution_count": 46,
   "metadata": {},
   "outputs": [
    {
     "data": {
      "image/png": "[encoded data removed]",
      "text/plain": [
       "<Figure size 864x432 with 1 Axes>"
      ]
     },
     "metadata": {
      "needs_background": "light"
     },
     "output_type": "display_data"
    }
   ],
   "source": [
    "model_comparison(model_metrics, sort_by = 'MAE', metric = 'MAE')"
   ]
  },
  {
   "cell_type": "markdown",
   "metadata": {},
   "source": [
    "## Based on the above graphs XGBoost is the best model for our use case"
   ]
  },
  {
   "cell_type": "markdown",
   "metadata": {},
   "source": [
    "## Using GridSearchCV to find the best parameters for the model"
   ]
  },
  {
   "cell_type": "code",
   "execution_count": 47,
   "metadata": {},
   "outputs": [],
   "source": [
    "xgbr_cv= GridSearchCV(XGBRegressor(),param_grid=[{'nthread':[4],\n",
    "                                                  'learning_rate': [.03, 0.05, .07], \n",
    "                                                  'max_depth': [5, 6, 7],\n",
    "                                                  'subsample': [0.7],\n",
    "                                                  'colsample_bytree': [0.7],\n",
    "                                                  'n_estimators': [500]}],\n",
    "                                                   cv = 2,\n",
    "                                                   n_jobs = 5,\n",
    "                                                   verbose=True)"
   ]
  },
  {
   "cell_type": "code",
   "execution_count": 48,
   "metadata": {},
   "outputs": [
    {
     "name": "stdout",
     "output_type": "stream",
     "text": [
      "Fitting 2 folds for each of 9 candidates, totalling 18 fits\n"
     ]
    },
    {
     "name": "stderr",
     "output_type": "stream",
     "text": [
      "[Parallel(n_jobs=5)]: Using backend LokyBackend with 5 concurrent workers.\n",
      "[Parallel(n_jobs=5)]: Done  18 out of  18 | elapsed:  2.7min finished\n"
     ]
    },
    {
     "name": "stdout",
     "output_type": "stream",
     "text": [
      "[13:39:50] WARNING: src/objective/regression_obj.cu:152: reg:linear is now deprecated in favor of reg:squarederror.\n"
     ]
    },
    {
     "data": {
      "text/plain": [
       "GridSearchCV(cv=2, error_score='raise-deprecating',\n",
       "             estimator=XGBRegressor(base_score=0.5, booster='gbtree',\n",
       "                                    colsample_bylevel=1, colsample_bynode=1,\n",
       "                                    colsample_bytree=1, gamma=0,\n",
       "                                    importance_type='gain', learning_rate=0.1,\n",
       "                                    max_delta_step=0, max_depth=3,\n",
       "                                    min_child_weight=1, missing=None,\n",
       "                                    n_estimators=100, n_jobs=1, nthread=None,\n",
       "                                    objective='reg:linear', random_state=0,\n",
       "                                    reg_alpha=0, reg_lambda=1,\n",
       "                                    scale_pos_weight=1, seed=None, silent=None,\n",
       "                                    subsample=1, verbosity=1),\n",
       "             iid='warn', n_jobs=5,\n",
       "             param_grid=[{'colsample_bytree': [0.7],\n",
       "                          'learning_rate': [0.03, 0.05, 0.07],\n",
       "                          'max_depth': [5, 6, 7], 'n_estimators': [500],\n",
       "                          'nthread': [4], 'subsample': [0.7]}],\n",
       "             pre_dispatch='2*n_jobs', refit=True, return_train_score=False,\n",
       "             scoring=None, verbose=True)"
      ]
     },
     "execution_count": 48,
     "metadata": {},
     "output_type": "execute_result"
    }
   ],
   "source": [
    "xgbr_cv.fit(X_train,y_train)"
   ]
  },
  {
   "cell_type": "code",
   "execution_count": 49,
   "metadata": {},
   "outputs": [
    {
     "data": {
      "text/plain": [
       "{'colsample_bytree': 0.7,\n",
       " 'learning_rate': 0.05,\n",
       " 'max_depth': 5,\n",
       " 'n_estimators': 500,\n",
       " 'nthread': 4,\n",
       " 'subsample': 0.7}"
      ]
     },
     "execution_count": 49,
     "metadata": {},
     "output_type": "execute_result"
    }
   ],
   "source": [
    "xgbr_cv.best_params_"
   ]
  },
  {
   "cell_type": "code",
   "execution_count": 50,
   "metadata": {},
   "outputs": [
    {
     "name": "stdout",
     "output_type": "stream",
     "text": [
      "[13:48:25] WARNING: src/objective/regression_obj.cu:152: reg:linear is now deprecated in favor of reg:squarederror.\n",
      "R-Sq of train data: 0.9572\n",
      "RMSE of train data: 2214.7905839131145\n",
      "MAE  of train data: 1250.6756663364995\n",
      "************************************************************\n",
      "R-Sq of test data: 0.5234\n",
      "RMSE of test data: 7208.088737761334\n",
      "MAE of test data: 3737.3316976261267\n"
     ]
    }
   ],
   "source": [
    "xgbr = XGBRegressor(colsample_bytree= 0.7, learning_rate= 0.03, max_depth= 5, n_estimators= 500,\n",
    "                        nthread= 4, subsample= 0.7)\n",
    "xgbr.fit(X_train, y_train)\n",
    "model_metrics[\"XG Boost Regression\"] = model_scores(xgbr)"
   ]
  },
  {
   "cell_type": "markdown",
   "metadata": {},
   "source": [
    "# XGBoost is the chosen model for our predictions"
   ]
  }
 ],
 "metadata": {
  "kernelspec": {
   "display_name": "Python 3",
   "language": "python",
   "name": "python3"
  },
  "language_info": {
   "codemirror_mode": {
    "name": "ipython",
    "version": 3
   },
   "file_extension": ".py",
   "mimetype": "text/x-python",
   "name": "python",
   "nbconvert_exporter": "python",
   "pygments_lexer": "ipython3",
   "version": "3.7.4"
  }
 },
 "nbformat": 4,
 "nbformat_minor": 2
}
